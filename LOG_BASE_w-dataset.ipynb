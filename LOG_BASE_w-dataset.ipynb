{
 "cells": [
  {
   "cell_type": "code",
   "execution_count": 1,
   "id": "b3c0d840",
   "metadata": {},
   "outputs": [],
   "source": [
    "import numpy as np\n",
    "from sklearn.model_selection import train_test_split\n",
    "import statsmodels.api as sm\n",
    "import pandas as pd\n",
    "import numpy as np\n",
    "import statsmodels.formula.api as smf"
   ]
  },
  {
   "cell_type": "code",
   "execution_count": 2,
   "id": "98d36304",
   "metadata": {},
   "outputs": [],
   "source": [
    "df=pd.read_excel('w-dataset.xlsx')"
   ]
  },
  {
   "cell_type": "code",
   "execution_count": 36,
   "id": "7936a75e",
   "metadata": {},
   "outputs": [
    {
     "data": {
      "text/plain": [
       "(182, 22)"
      ]
     },
     "execution_count": 36,
     "metadata": {},
     "output_type": "execute_result"
    }
   ],
   "source": [
    "df.shape"
   ]
  },
  {
   "cell_type": "code",
   "execution_count": 4,
   "id": "159f537e",
   "metadata": {},
   "outputs": [],
   "source": [
    "x=df.drop(['week_start','Net Sales of Bledina','Bledina_total_emails ','app_website_visits','macroeconomic_total_total_total_cci'], axis=1)\n",
    "x=x+1\n",
    "y=df['Net Sales of Bledina']"
   ]
  },
  {
   "cell_type": "code",
   "execution_count": null,
   "id": "afd9045c",
   "metadata": {},
   "outputs": [],
   "source": []
  },
  {
   "cell_type": "code",
   "execution_count": 31,
   "id": "80757081",
   "metadata": {},
   "outputs": [
    {
     "name": "stdout",
     "output_type": "stream",
     "text": [
      "                            OLS Regression Results                            \n",
      "==============================================================================\n",
      "Dep. Variable:                      y   R-squared:                       0.518\n",
      "Model:                            OLS   Adj. R-squared:                  0.468\n",
      "Method:                 Least Squares   F-statistic:                     10.36\n",
      "Date:                Wed, 19 Apr 2023   Prob (F-statistic):           1.95e-18\n",
      "Time:                        09:40:41   Log-Likelihood:                -2579.6\n",
      "No. Observations:                 182   AIC:                             5195.\n",
      "Df Residuals:                     164   BIC:                             5253.\n",
      "Df Model:                          17                                         \n",
      "Covariance Type:            nonrobust                                         \n",
      "==============================================================================\n",
      "                 coef    std err          t      P>|t|      [0.025      0.975]\n",
      "------------------------------------------------------------------------------\n",
      "Intercept   1.228e+07   3.86e+06      3.181      0.002    4.66e+06    1.99e+07\n",
      "x[0]          -1.9326      0.891     -2.170      0.031      -3.691      -0.174\n",
      "x[1]           1.9208      1.220      1.575      0.117      -0.488       4.329\n",
      "x[2]         -10.3244      8.404     -1.229      0.221     -26.919       6.270\n",
      "x[3]          17.6540     12.193      1.448      0.150      -6.421      41.729\n",
      "x[4]           1.4066      2.993      0.470      0.639      -4.503       7.316\n",
      "x[5]          -0.0735      6.129     -0.012      0.990     -12.175      12.028\n",
      "x[6]           0.0006      1.160      0.001      1.000      -2.289       2.291\n",
      "x[7]           3.3197      3.810      0.871      0.385      -4.203      10.842\n",
      "x[8]          -3.2054      1.043     -3.073      0.002      -5.265      -1.146\n",
      "x[9]          -0.0788      0.105     -0.749      0.455      -0.287       0.129\n",
      "x[10]       9.964e+04    1.5e+04      6.631      0.000       7e+04    1.29e+05\n",
      "x[11]      -1.712e+06    5.3e+05     -3.227      0.002   -2.76e+06   -6.64e+05\n",
      "x[12]         -1.4940      7.382     -0.202      0.840     -16.070      13.082\n",
      "x[13]         25.7348      9.725      2.646      0.009       6.533      44.936\n",
      "x[14]      -1.066e+06   3.69e+05     -2.887      0.004    -1.8e+06   -3.37e+05\n",
      "x[15]         35.8482     10.667      3.361      0.001      14.785      56.911\n",
      "x[16]       5.516e+04   1.25e+04      4.401      0.000    3.04e+04    7.99e+04\n",
      "==============================================================================\n",
      "Omnibus:                       49.988   Durbin-Watson:                   1.137\n",
      "Prob(Omnibus):                  0.000   Jarque-Bera (JB):              122.980\n",
      "Skew:                           1.183   Prob(JB):                     1.97e-27\n",
      "Kurtosis:                       6.259   Cond. No.                     6.45e+07\n",
      "==============================================================================\n",
      "\n",
      "Notes:\n",
      "[1] Standard Errors assume that the covariance matrix of the errors is correctly specified.\n",
      "[2] The condition number is large, 6.45e+07. This might indicate that there are\n",
      "strong multicollinearity or other numerical problems.\n"
     ]
    }
   ],
   "source": [
    "y_log = np.log(y)\n",
    "x_log= np.log(x)\n",
    "\n",
    "model = smf.ols('y~x', data=df).fit()\n",
    "# print the model summary\n",
    "print(model.summary())"
   ]
  }
 ],
 "metadata": {
  "kernelspec": {
   "display_name": "Python 3 (ipykernel)",
   "language": "python",
   "name": "python3"
  },
  "language_info": {
   "codemirror_mode": {
    "name": "ipython",
    "version": 3
   },
   "file_extension": ".py",
   "mimetype": "text/x-python",
   "name": "python",
   "nbconvert_exporter": "python",
   "pygments_lexer": "ipython3",
   "version": "3.9.13"
  }
 },
 "nbformat": 4,
 "nbformat_minor": 5
}
