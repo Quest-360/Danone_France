{
 "cells": [
  {
   "cell_type": "code",
   "execution_count": 1,
   "id": "b3c0d840",
   "metadata": {},
   "outputs": [],
   "source": [
    "import numpy as np\n",
    "from sklearn.model_selection import train_test_split\n",
    "import statsmodels.api as sm\n",
    "import pandas as pd\n",
    "import numpy as np"
   ]
  },
  {
   "cell_type": "code",
   "execution_count": 2,
   "id": "98d36304",
   "metadata": {},
   "outputs": [
    {
     "ename": "FileNotFoundError",
     "evalue": "[Errno 2] No such file or directory: 'DDRS_EX_ADS.csv'",
     "output_type": "error",
     "traceback": [
      "\u001b[1;31m---------------------------------------------------------------------------\u001b[0m",
      "\u001b[1;31mFileNotFoundError\u001b[0m                         Traceback (most recent call last)",
      "\u001b[1;32m~\\AppData\\Local\\Temp\\ipykernel_14296\\4272280927.py\u001b[0m in \u001b[0;36m<module>\u001b[1;34m\u001b[0m\n\u001b[1;32m----> 1\u001b[1;33m \u001b[0mdf\u001b[0m\u001b[1;33m=\u001b[0m\u001b[0mpd\u001b[0m\u001b[1;33m.\u001b[0m\u001b[0mread_csv\u001b[0m\u001b[1;33m(\u001b[0m\u001b[1;34m'DDRS_EX_ADS.csv'\u001b[0m\u001b[1;33m)\u001b[0m\u001b[1;33m\u001b[0m\u001b[1;33m\u001b[0m\u001b[0m\n\u001b[0m",
      "\u001b[1;32m~\\anaconda3\\lib\\site-packages\\pandas\\util\\_decorators.py\u001b[0m in \u001b[0;36mwrapper\u001b[1;34m(*args, **kwargs)\u001b[0m\n\u001b[0;32m    309\u001b[0m                     \u001b[0mstacklevel\u001b[0m\u001b[1;33m=\u001b[0m\u001b[0mstacklevel\u001b[0m\u001b[1;33m,\u001b[0m\u001b[1;33m\u001b[0m\u001b[1;33m\u001b[0m\u001b[0m\n\u001b[0;32m    310\u001b[0m                 )\n\u001b[1;32m--> 311\u001b[1;33m             \u001b[1;32mreturn\u001b[0m \u001b[0mfunc\u001b[0m\u001b[1;33m(\u001b[0m\u001b[1;33m*\u001b[0m\u001b[0margs\u001b[0m\u001b[1;33m,\u001b[0m \u001b[1;33m**\u001b[0m\u001b[0mkwargs\u001b[0m\u001b[1;33m)\u001b[0m\u001b[1;33m\u001b[0m\u001b[1;33m\u001b[0m\u001b[0m\n\u001b[0m\u001b[0;32m    312\u001b[0m \u001b[1;33m\u001b[0m\u001b[0m\n\u001b[0;32m    313\u001b[0m         \u001b[1;32mreturn\u001b[0m \u001b[0mwrapper\u001b[0m\u001b[1;33m\u001b[0m\u001b[1;33m\u001b[0m\u001b[0m\n",
      "\u001b[1;32m~\\anaconda3\\lib\\site-packages\\pandas\\io\\parsers\\readers.py\u001b[0m in \u001b[0;36mread_csv\u001b[1;34m(filepath_or_buffer, sep, delimiter, header, names, index_col, usecols, squeeze, prefix, mangle_dupe_cols, dtype, engine, converters, true_values, false_values, skipinitialspace, skiprows, skipfooter, nrows, na_values, keep_default_na, na_filter, verbose, skip_blank_lines, parse_dates, infer_datetime_format, keep_date_col, date_parser, dayfirst, cache_dates, iterator, chunksize, compression, thousands, decimal, lineterminator, quotechar, quoting, doublequote, escapechar, comment, encoding, encoding_errors, dialect, error_bad_lines, warn_bad_lines, on_bad_lines, delim_whitespace, low_memory, memory_map, float_precision, storage_options)\u001b[0m\n\u001b[0;32m    676\u001b[0m     \u001b[0mkwds\u001b[0m\u001b[1;33m.\u001b[0m\u001b[0mupdate\u001b[0m\u001b[1;33m(\u001b[0m\u001b[0mkwds_defaults\u001b[0m\u001b[1;33m)\u001b[0m\u001b[1;33m\u001b[0m\u001b[1;33m\u001b[0m\u001b[0m\n\u001b[0;32m    677\u001b[0m \u001b[1;33m\u001b[0m\u001b[0m\n\u001b[1;32m--> 678\u001b[1;33m     \u001b[1;32mreturn\u001b[0m \u001b[0m_read\u001b[0m\u001b[1;33m(\u001b[0m\u001b[0mfilepath_or_buffer\u001b[0m\u001b[1;33m,\u001b[0m \u001b[0mkwds\u001b[0m\u001b[1;33m)\u001b[0m\u001b[1;33m\u001b[0m\u001b[1;33m\u001b[0m\u001b[0m\n\u001b[0m\u001b[0;32m    679\u001b[0m \u001b[1;33m\u001b[0m\u001b[0m\n\u001b[0;32m    680\u001b[0m \u001b[1;33m\u001b[0m\u001b[0m\n",
      "\u001b[1;32m~\\anaconda3\\lib\\site-packages\\pandas\\io\\parsers\\readers.py\u001b[0m in \u001b[0;36m_read\u001b[1;34m(filepath_or_buffer, kwds)\u001b[0m\n\u001b[0;32m    573\u001b[0m \u001b[1;33m\u001b[0m\u001b[0m\n\u001b[0;32m    574\u001b[0m     \u001b[1;31m# Create the parser.\u001b[0m\u001b[1;33m\u001b[0m\u001b[1;33m\u001b[0m\u001b[0m\n\u001b[1;32m--> 575\u001b[1;33m     \u001b[0mparser\u001b[0m \u001b[1;33m=\u001b[0m \u001b[0mTextFileReader\u001b[0m\u001b[1;33m(\u001b[0m\u001b[0mfilepath_or_buffer\u001b[0m\u001b[1;33m,\u001b[0m \u001b[1;33m**\u001b[0m\u001b[0mkwds\u001b[0m\u001b[1;33m)\u001b[0m\u001b[1;33m\u001b[0m\u001b[1;33m\u001b[0m\u001b[0m\n\u001b[0m\u001b[0;32m    576\u001b[0m \u001b[1;33m\u001b[0m\u001b[0m\n\u001b[0;32m    577\u001b[0m     \u001b[1;32mif\u001b[0m \u001b[0mchunksize\u001b[0m \u001b[1;32mor\u001b[0m \u001b[0miterator\u001b[0m\u001b[1;33m:\u001b[0m\u001b[1;33m\u001b[0m\u001b[1;33m\u001b[0m\u001b[0m\n",
      "\u001b[1;32m~\\anaconda3\\lib\\site-packages\\pandas\\io\\parsers\\readers.py\u001b[0m in \u001b[0;36m__init__\u001b[1;34m(self, f, engine, **kwds)\u001b[0m\n\u001b[0;32m    930\u001b[0m \u001b[1;33m\u001b[0m\u001b[0m\n\u001b[0;32m    931\u001b[0m         \u001b[0mself\u001b[0m\u001b[1;33m.\u001b[0m\u001b[0mhandles\u001b[0m\u001b[1;33m:\u001b[0m \u001b[0mIOHandles\u001b[0m \u001b[1;33m|\u001b[0m \u001b[1;32mNone\u001b[0m \u001b[1;33m=\u001b[0m \u001b[1;32mNone\u001b[0m\u001b[1;33m\u001b[0m\u001b[1;33m\u001b[0m\u001b[0m\n\u001b[1;32m--> 932\u001b[1;33m         \u001b[0mself\u001b[0m\u001b[1;33m.\u001b[0m\u001b[0m_engine\u001b[0m \u001b[1;33m=\u001b[0m \u001b[0mself\u001b[0m\u001b[1;33m.\u001b[0m\u001b[0m_make_engine\u001b[0m\u001b[1;33m(\u001b[0m\u001b[0mf\u001b[0m\u001b[1;33m,\u001b[0m \u001b[0mself\u001b[0m\u001b[1;33m.\u001b[0m\u001b[0mengine\u001b[0m\u001b[1;33m)\u001b[0m\u001b[1;33m\u001b[0m\u001b[1;33m\u001b[0m\u001b[0m\n\u001b[0m\u001b[0;32m    933\u001b[0m \u001b[1;33m\u001b[0m\u001b[0m\n\u001b[0;32m    934\u001b[0m     \u001b[1;32mdef\u001b[0m \u001b[0mclose\u001b[0m\u001b[1;33m(\u001b[0m\u001b[0mself\u001b[0m\u001b[1;33m)\u001b[0m\u001b[1;33m:\u001b[0m\u001b[1;33m\u001b[0m\u001b[1;33m\u001b[0m\u001b[0m\n",
      "\u001b[1;32m~\\anaconda3\\lib\\site-packages\\pandas\\io\\parsers\\readers.py\u001b[0m in \u001b[0;36m_make_engine\u001b[1;34m(self, f, engine)\u001b[0m\n\u001b[0;32m   1214\u001b[0m             \u001b[1;31m# \"Union[str, PathLike[str], ReadCsvBuffer[bytes], ReadCsvBuffer[str]]\"\u001b[0m\u001b[1;33m\u001b[0m\u001b[1;33m\u001b[0m\u001b[0m\n\u001b[0;32m   1215\u001b[0m             \u001b[1;31m# , \"str\", \"bool\", \"Any\", \"Any\", \"Any\", \"Any\", \"Any\"\u001b[0m\u001b[1;33m\u001b[0m\u001b[1;33m\u001b[0m\u001b[0m\n\u001b[1;32m-> 1216\u001b[1;33m             self.handles = get_handle(  # type: ignore[call-overload]\n\u001b[0m\u001b[0;32m   1217\u001b[0m                 \u001b[0mf\u001b[0m\u001b[1;33m,\u001b[0m\u001b[1;33m\u001b[0m\u001b[1;33m\u001b[0m\u001b[0m\n\u001b[0;32m   1218\u001b[0m                 \u001b[0mmode\u001b[0m\u001b[1;33m,\u001b[0m\u001b[1;33m\u001b[0m\u001b[1;33m\u001b[0m\u001b[0m\n",
      "\u001b[1;32m~\\anaconda3\\lib\\site-packages\\pandas\\io\\common.py\u001b[0m in \u001b[0;36mget_handle\u001b[1;34m(path_or_buf, mode, encoding, compression, memory_map, is_text, errors, storage_options)\u001b[0m\n\u001b[0;32m    784\u001b[0m         \u001b[1;32mif\u001b[0m \u001b[0mioargs\u001b[0m\u001b[1;33m.\u001b[0m\u001b[0mencoding\u001b[0m \u001b[1;32mand\u001b[0m \u001b[1;34m\"b\"\u001b[0m \u001b[1;32mnot\u001b[0m \u001b[1;32min\u001b[0m \u001b[0mioargs\u001b[0m\u001b[1;33m.\u001b[0m\u001b[0mmode\u001b[0m\u001b[1;33m:\u001b[0m\u001b[1;33m\u001b[0m\u001b[1;33m\u001b[0m\u001b[0m\n\u001b[0;32m    785\u001b[0m             \u001b[1;31m# Encoding\u001b[0m\u001b[1;33m\u001b[0m\u001b[1;33m\u001b[0m\u001b[0m\n\u001b[1;32m--> 786\u001b[1;33m             handle = open(\n\u001b[0m\u001b[0;32m    787\u001b[0m                 \u001b[0mhandle\u001b[0m\u001b[1;33m,\u001b[0m\u001b[1;33m\u001b[0m\u001b[1;33m\u001b[0m\u001b[0m\n\u001b[0;32m    788\u001b[0m                 \u001b[0mioargs\u001b[0m\u001b[1;33m.\u001b[0m\u001b[0mmode\u001b[0m\u001b[1;33m,\u001b[0m\u001b[1;33m\u001b[0m\u001b[1;33m\u001b[0m\u001b[0m\n",
      "\u001b[1;31mFileNotFoundError\u001b[0m: [Errno 2] No such file or directory: 'DDRS_EX_ADS.csv'"
     ]
    }
   ],
   "source": [
    "df=pd.read_csv('DDRS_EX_ADS.csv')"
   ]
  },
  {
   "cell_type": "code",
   "execution_count": null,
   "id": "7936a75e",
   "metadata": {},
   "outputs": [],
   "source": [
    "df"
   ]
  },
  {
   "cell_type": "code",
   "execution_count": 142,
   "id": "4887a804",
   "metadata": {},
   "outputs": [],
   "source": [
    "df2=df.drop(['Retail total Bledina product dvm','Sales'], axis=1)"
   ]
  },
  {
   "cell_type": "code",
   "execution_count": 143,
   "id": "33148645",
   "metadata": {},
   "outputs": [
    {
     "data": {
      "text/html": [
       "<div>\n",
       "<style scoped>\n",
       "    .dataframe tbody tr th:only-of-type {\n",
       "        vertical-align: middle;\n",
       "    }\n",
       "\n",
       "    .dataframe tbody tr th {\n",
       "        vertical-align: top;\n",
       "    }\n",
       "\n",
       "    .dataframe thead th {\n",
       "        text-align: right;\n",
       "    }\n",
       "</style>\n",
       "<table border=\"1\" class=\"dataframe\">\n",
       "  <thead>\n",
       "    <tr style=\"text-align: right;\">\n",
       "      <th></th>\n",
       "      <th>week_start</th>\n",
       "      <th>Bledina total TV spends</th>\n",
       "      <th>Bledina total press spends</th>\n",
       "      <th>Bledina total catchuptv spends</th>\n",
       "      <th>Bledina total data retailer spends</th>\n",
       "      <th>Bledina total programmatic spends</th>\n",
       "      <th>Bledina total social spends</th>\n",
       "      <th>Bledina total direct spends</th>\n",
       "      <th>Bledina total promo spends</th>\n",
       "      <th>Competition retail non-organic dvm</th>\n",
       "      <th>Competition retail non-organic price</th>\n",
       "      <th>Nestle Total Spends</th>\n",
       "      <th>Holiday flags</th>\n",
       "      <th>Lockdown flag</th>\n",
       "    </tr>\n",
       "  </thead>\n",
       "  <tbody>\n",
       "    <tr>\n",
       "      <th>0</th>\n",
       "      <td>02-01-2017</td>\n",
       "      <td>2369.390000</td>\n",
       "      <td>0.0</td>\n",
       "      <td>0.01</td>\n",
       "      <td>0.000</td>\n",
       "      <td>0.060000</td>\n",
       "      <td>0.010000</td>\n",
       "      <td>0.01</td>\n",
       "      <td>7238.542484</td>\n",
       "      <td>49.752306</td>\n",
       "      <td>4.615065</td>\n",
       "      <td>354064.5161</td>\n",
       "      <td>0</td>\n",
       "      <td>0</td>\n",
       "    </tr>\n",
       "    <tr>\n",
       "      <th>1</th>\n",
       "      <td>09-01-2017</td>\n",
       "      <td>2470.600000</td>\n",
       "      <td>0.0</td>\n",
       "      <td>0.00</td>\n",
       "      <td>0.000</td>\n",
       "      <td>0.050000</td>\n",
       "      <td>10034.990000</td>\n",
       "      <td>0.01</td>\n",
       "      <td>20498.188230</td>\n",
       "      <td>45.138664</td>\n",
       "      <td>4.613792</td>\n",
       "      <td>354064.5161</td>\n",
       "      <td>0</td>\n",
       "      <td>0</td>\n",
       "    </tr>\n",
       "    <tr>\n",
       "      <th>2</th>\n",
       "      <td>16-01-2017</td>\n",
       "      <td>2470.600000</td>\n",
       "      <td>0.0</td>\n",
       "      <td>0.00</td>\n",
       "      <td>0.000</td>\n",
       "      <td>0.090000</td>\n",
       "      <td>6955.560000</td>\n",
       "      <td>0.01</td>\n",
       "      <td>104070.912100</td>\n",
       "      <td>50.758389</td>\n",
       "      <td>4.523880</td>\n",
       "      <td>354064.5161</td>\n",
       "      <td>0</td>\n",
       "      <td>0</td>\n",
       "    </tr>\n",
       "    <tr>\n",
       "      <th>3</th>\n",
       "      <td>23-01-2017</td>\n",
       "      <td>2470.600000</td>\n",
       "      <td>0.0</td>\n",
       "      <td>0.00</td>\n",
       "      <td>0.000</td>\n",
       "      <td>0.090000</td>\n",
       "      <td>4630.010000</td>\n",
       "      <td>0.00</td>\n",
       "      <td>67294.616930</td>\n",
       "      <td>51.561729</td>\n",
       "      <td>4.645751</td>\n",
       "      <td>354064.5161</td>\n",
       "      <td>0</td>\n",
       "      <td>0</td>\n",
       "    </tr>\n",
       "    <tr>\n",
       "      <th>4</th>\n",
       "      <td>30-01-2017</td>\n",
       "      <td>2463.250000</td>\n",
       "      <td>0.0</td>\n",
       "      <td>0.00</td>\n",
       "      <td>0.000</td>\n",
       "      <td>0.010000</td>\n",
       "      <td>2911.880000</td>\n",
       "      <td>0.01</td>\n",
       "      <td>46532.729780</td>\n",
       "      <td>51.450668</td>\n",
       "      <td>4.707299</td>\n",
       "      <td>396697.0046</td>\n",
       "      <td>0</td>\n",
       "      <td>0</td>\n",
       "    </tr>\n",
       "    <tr>\n",
       "      <th>...</th>\n",
       "      <td>...</td>\n",
       "      <td>...</td>\n",
       "      <td>...</td>\n",
       "      <td>...</td>\n",
       "      <td>...</td>\n",
       "      <td>...</td>\n",
       "      <td>...</td>\n",
       "      <td>...</td>\n",
       "      <td>...</td>\n",
       "      <td>...</td>\n",
       "      <td>...</td>\n",
       "      <td>...</td>\n",
       "      <td>...</td>\n",
       "      <td>...</td>\n",
       "    </tr>\n",
       "    <tr>\n",
       "      <th>177</th>\n",
       "      <td>25-05-2020</td>\n",
       "      <td>2777.054278</td>\n",
       "      <td>0.0</td>\n",
       "      <td>0.00</td>\n",
       "      <td>0.000</td>\n",
       "      <td>5501.142043</td>\n",
       "      <td>8923.720012</td>\n",
       "      <td>0.00</td>\n",
       "      <td>23682.980950</td>\n",
       "      <td>55.638044</td>\n",
       "      <td>4.851504</td>\n",
       "      <td>448000.0000</td>\n",
       "      <td>0</td>\n",
       "      <td>1</td>\n",
       "    </tr>\n",
       "    <tr>\n",
       "      <th>178</th>\n",
       "      <td>01-06-2020</td>\n",
       "      <td>2347.751201</td>\n",
       "      <td>0.0</td>\n",
       "      <td>0.00</td>\n",
       "      <td>0.016</td>\n",
       "      <td>0.000000</td>\n",
       "      <td>1075.980003</td>\n",
       "      <td>0.00</td>\n",
       "      <td>15803.450730</td>\n",
       "      <td>56.404964</td>\n",
       "      <td>4.822768</td>\n",
       "      <td>7700.0000</td>\n",
       "      <td>1</td>\n",
       "      <td>1</td>\n",
       "    </tr>\n",
       "    <tr>\n",
       "      <th>179</th>\n",
       "      <td>08-06-2020</td>\n",
       "      <td>3132.570888</td>\n",
       "      <td>0.0</td>\n",
       "      <td>0.00</td>\n",
       "      <td>0.000</td>\n",
       "      <td>0.000000</td>\n",
       "      <td>3742.977999</td>\n",
       "      <td>0.00</td>\n",
       "      <td>2392.235897</td>\n",
       "      <td>54.727325</td>\n",
       "      <td>4.789930</td>\n",
       "      <td>7700.0000</td>\n",
       "      <td>0</td>\n",
       "      <td>1</td>\n",
       "    </tr>\n",
       "    <tr>\n",
       "      <th>180</th>\n",
       "      <td>15-06-2020</td>\n",
       "      <td>3132.570888</td>\n",
       "      <td>0.0</td>\n",
       "      <td>0.00</td>\n",
       "      <td>380.505</td>\n",
       "      <td>0.000000</td>\n",
       "      <td>4007.615998</td>\n",
       "      <td>0.00</td>\n",
       "      <td>13390.429120</td>\n",
       "      <td>54.276386</td>\n",
       "      <td>4.835722</td>\n",
       "      <td>7700.0000</td>\n",
       "      <td>0</td>\n",
       "      <td>1</td>\n",
       "    </tr>\n",
       "    <tr>\n",
       "      <th>181</th>\n",
       "      <td>22-06-2020</td>\n",
       "      <td>2441.661249</td>\n",
       "      <td>0.0</td>\n",
       "      <td>0.00</td>\n",
       "      <td>4288.965</td>\n",
       "      <td>0.000000</td>\n",
       "      <td>3086.460004</td>\n",
       "      <td>0.00</td>\n",
       "      <td>23858.509340</td>\n",
       "      <td>53.773189</td>\n",
       "      <td>4.755775</td>\n",
       "      <td>7700.0000</td>\n",
       "      <td>0</td>\n",
       "      <td>1</td>\n",
       "    </tr>\n",
       "  </tbody>\n",
       "</table>\n",
       "<p>182 rows × 14 columns</p>\n",
       "</div>"
      ],
      "text/plain": [
       "     week_start  Bledina total TV spends  Bledina total press spends  \\\n",
       "0    02-01-2017              2369.390000                         0.0   \n",
       "1    09-01-2017              2470.600000                         0.0   \n",
       "2    16-01-2017              2470.600000                         0.0   \n",
       "3    23-01-2017              2470.600000                         0.0   \n",
       "4    30-01-2017              2463.250000                         0.0   \n",
       "..          ...                      ...                         ...   \n",
       "177  25-05-2020              2777.054278                         0.0   \n",
       "178  01-06-2020              2347.751201                         0.0   \n",
       "179  08-06-2020              3132.570888                         0.0   \n",
       "180  15-06-2020              3132.570888                         0.0   \n",
       "181  22-06-2020              2441.661249                         0.0   \n",
       "\n",
       "     Bledina total catchuptv spends  Bledina total data retailer spends  \\\n",
       "0                              0.01                               0.000   \n",
       "1                              0.00                               0.000   \n",
       "2                              0.00                               0.000   \n",
       "3                              0.00                               0.000   \n",
       "4                              0.00                               0.000   \n",
       "..                              ...                                 ...   \n",
       "177                            0.00                               0.000   \n",
       "178                            0.00                               0.016   \n",
       "179                            0.00                               0.000   \n",
       "180                            0.00                             380.505   \n",
       "181                            0.00                            4288.965   \n",
       "\n",
       "     Bledina total programmatic spends  Bledina total social spends  \\\n",
       "0                             0.060000                     0.010000   \n",
       "1                             0.050000                 10034.990000   \n",
       "2                             0.090000                  6955.560000   \n",
       "3                             0.090000                  4630.010000   \n",
       "4                             0.010000                  2911.880000   \n",
       "..                                 ...                          ...   \n",
       "177                        5501.142043                  8923.720012   \n",
       "178                           0.000000                  1075.980003   \n",
       "179                           0.000000                  3742.977999   \n",
       "180                           0.000000                  4007.615998   \n",
       "181                           0.000000                  3086.460004   \n",
       "\n",
       "     Bledina total direct spends  Bledina total promo spends  \\\n",
       "0                           0.01                 7238.542484   \n",
       "1                           0.01                20498.188230   \n",
       "2                           0.01               104070.912100   \n",
       "3                           0.00                67294.616930   \n",
       "4                           0.01                46532.729780   \n",
       "..                           ...                         ...   \n",
       "177                         0.00                23682.980950   \n",
       "178                         0.00                15803.450730   \n",
       "179                         0.00                 2392.235897   \n",
       "180                         0.00                13390.429120   \n",
       "181                         0.00                23858.509340   \n",
       "\n",
       "     Competition retail non-organic dvm  Competition retail non-organic price  \\\n",
       "0                             49.752306                              4.615065   \n",
       "1                             45.138664                              4.613792   \n",
       "2                             50.758389                              4.523880   \n",
       "3                             51.561729                              4.645751   \n",
       "4                             51.450668                              4.707299   \n",
       "..                                  ...                                   ...   \n",
       "177                           55.638044                              4.851504   \n",
       "178                           56.404964                              4.822768   \n",
       "179                           54.727325                              4.789930   \n",
       "180                           54.276386                              4.835722   \n",
       "181                           53.773189                              4.755775   \n",
       "\n",
       "     Nestle Total Spends  Holiday flags  Lockdown flag  \n",
       "0            354064.5161              0              0  \n",
       "1            354064.5161              0              0  \n",
       "2            354064.5161              0              0  \n",
       "3            354064.5161              0              0  \n",
       "4            396697.0046              0              0  \n",
       "..                   ...            ...            ...  \n",
       "177          448000.0000              0              1  \n",
       "178            7700.0000              1              1  \n",
       "179            7700.0000              0              1  \n",
       "180            7700.0000              0              1  \n",
       "181            7700.0000              0              1  \n",
       "\n",
       "[182 rows x 14 columns]"
      ]
     },
     "execution_count": 143,
     "metadata": {},
     "output_type": "execute_result"
    }
   ],
   "source": [
    "df2"
   ]
  },
  {
   "cell_type": "code",
   "execution_count": 144,
   "id": "5baeff04",
   "metadata": {},
   "outputs": [
    {
     "name": "stdout",
     "output_type": "stream",
     "text": [
      "     week_start  Bledina total TV spends  Bledina total press spends  \\\n",
      "0    02-01-2017              2369.390000                         0.0   \n",
      "1    09-01-2017              2470.600000                         0.0   \n",
      "2    16-01-2017              2470.600000                         0.0   \n",
      "3    23-01-2017              2470.600000                         0.0   \n",
      "4    30-01-2017              2463.250000                         0.0   \n",
      "..          ...                      ...                         ...   \n",
      "177  25-05-2020              2777.054278                         0.0   \n",
      "178  01-06-2020              2347.751201                         0.0   \n",
      "179  08-06-2020              3132.570888                         0.0   \n",
      "180  15-06-2020              3132.570888                         0.0   \n",
      "181  22-06-2020              2441.661249                         0.0   \n",
      "\n",
      "     Bledina total catchuptv spends  Bledina total data retailer spends  \\\n",
      "0                              0.01                               0.000   \n",
      "1                              0.00                               0.000   \n",
      "2                              0.00                               0.000   \n",
      "3                              0.00                               0.000   \n",
      "4                              0.00                               0.000   \n",
      "..                              ...                                 ...   \n",
      "177                            0.00                               0.000   \n",
      "178                            0.00                               0.016   \n",
      "179                            0.00                               0.000   \n",
      "180                            0.00                             380.505   \n",
      "181                            0.00                            4288.965   \n",
      "\n",
      "     Bledina total programmatic spends  Bledina total social spends  \\\n",
      "0                             0.060000                     0.010000   \n",
      "1                             0.050000                 10034.990000   \n",
      "2                             0.090000                  6955.560000   \n",
      "3                             0.090000                  4630.010000   \n",
      "4                             0.010000                  2911.880000   \n",
      "..                                 ...                          ...   \n",
      "177                        5501.142043                  8923.720012   \n",
      "178                           0.000000                  1075.980003   \n",
      "179                           0.000000                  3742.977999   \n",
      "180                           0.000000                  4007.615998   \n",
      "181                           0.000000                  3086.460004   \n",
      "\n",
      "     Bledina total direct spends  Bledina total promo spends  \\\n",
      "0                           0.01                 7238.542484   \n",
      "1                           0.01                20498.188230   \n",
      "2                           0.01                96619.091234   \n",
      "3                           0.00                67294.616930   \n",
      "4                           0.01                46532.729780   \n",
      "..                           ...                         ...   \n",
      "177                         0.00                23682.980950   \n",
      "178                         0.00                15803.450730   \n",
      "179                         0.00                 2392.235897   \n",
      "180                         0.00                13390.429120   \n",
      "181                         0.00                23858.509340   \n",
      "\n",
      "     Competition retail non-organic dvm  Competition retail non-organic price  \\\n",
      "0                             49.752306                              4.686509   \n",
      "1                             46.862353                              4.686509   \n",
      "2                             50.758389                              4.686509   \n",
      "3                             51.561729                              4.686509   \n",
      "4                             51.450668                              4.707299   \n",
      "..                                  ...                                   ...   \n",
      "177                           54.708210                              4.851504   \n",
      "178                           54.708210                              4.822768   \n",
      "179                           54.708210                              4.789930   \n",
      "180                           54.276386                              4.835722   \n",
      "181                           53.773189                              4.755775   \n",
      "\n",
      "     Nestle Total Spends  Holiday flags  Lockdown flag  \n",
      "0            354064.5161              0              0  \n",
      "1            354064.5161              0              0  \n",
      "2            354064.5161              0              0  \n",
      "3            354064.5161              0              0  \n",
      "4            396697.0046              0              0  \n",
      "..                   ...            ...            ...  \n",
      "177          448000.0000              0              1  \n",
      "178            7700.0000              1              1  \n",
      "179            7700.0000              0              1  \n",
      "180            7700.0000              0              1  \n",
      "181            7700.0000              0              1  \n",
      "\n",
      "[182 rows x 14 columns]\n"
     ]
    }
   ],
   "source": [
    "import pandas as pd\n",
    "import numpy as np\n",
    "# Set the percentile values for Winsorization\n",
    "lower_percentile = 5\n",
    "upper_percentile = 95\n",
    "# Calculate the percentile values for each column\n",
    "lower_limits = df2.quantile(lower_percentile/100)\n",
    "upper_limits = df2.quantile(upper_percentile/100)\n",
    "# Winsorize each column in the dataset\n",
    "for col in df2.columns:\n",
    "    if df2[col].dtype == 'float64':\n",
    "        df2[col] = np.clip(df2[col], lower_limits[col], upper_limits[col])\n",
    "# Display the Winsorized dataset\n",
    "print(df2)"
   ]
  },
  {
   "cell_type": "code",
   "execution_count": 145,
   "id": "2c14407c",
   "metadata": {},
   "outputs": [
    {
     "data": {
      "text/html": [
       "<div>\n",
       "<style scoped>\n",
       "    .dataframe tbody tr th:only-of-type {\n",
       "        vertical-align: middle;\n",
       "    }\n",
       "\n",
       "    .dataframe tbody tr th {\n",
       "        vertical-align: top;\n",
       "    }\n",
       "\n",
       "    .dataframe thead th {\n",
       "        text-align: right;\n",
       "    }\n",
       "</style>\n",
       "<table border=\"1\" class=\"dataframe\">\n",
       "  <thead>\n",
       "    <tr style=\"text-align: right;\">\n",
       "      <th></th>\n",
       "      <th>week_start</th>\n",
       "      <th>Bledina total TV spends</th>\n",
       "      <th>Bledina total press spends</th>\n",
       "      <th>Bledina total catchuptv spends</th>\n",
       "      <th>Bledina total data retailer spends</th>\n",
       "      <th>Bledina total programmatic spends</th>\n",
       "      <th>Bledina total social spends</th>\n",
       "      <th>Bledina total direct spends</th>\n",
       "      <th>Bledina total promo spends</th>\n",
       "      <th>Competition retail non-organic dvm</th>\n",
       "      <th>Competition retail non-organic price</th>\n",
       "      <th>Nestle Total Spends</th>\n",
       "      <th>Holiday flags</th>\n",
       "      <th>Lockdown flag</th>\n",
       "    </tr>\n",
       "  </thead>\n",
       "  <tbody>\n",
       "    <tr>\n",
       "      <th>0</th>\n",
       "      <td>02-01-2017</td>\n",
       "      <td>2369.390000</td>\n",
       "      <td>0.0</td>\n",
       "      <td>0.01</td>\n",
       "      <td>0.000</td>\n",
       "      <td>0.060000</td>\n",
       "      <td>0.010000</td>\n",
       "      <td>0.01</td>\n",
       "      <td>7238.542484</td>\n",
       "      <td>49.752306</td>\n",
       "      <td>4.686509</td>\n",
       "      <td>354064.5161</td>\n",
       "      <td>0</td>\n",
       "      <td>0</td>\n",
       "    </tr>\n",
       "    <tr>\n",
       "      <th>1</th>\n",
       "      <td>09-01-2017</td>\n",
       "      <td>2470.600000</td>\n",
       "      <td>0.0</td>\n",
       "      <td>0.00</td>\n",
       "      <td>0.000</td>\n",
       "      <td>0.050000</td>\n",
       "      <td>10034.990000</td>\n",
       "      <td>0.01</td>\n",
       "      <td>20498.188230</td>\n",
       "      <td>46.862353</td>\n",
       "      <td>4.686509</td>\n",
       "      <td>354064.5161</td>\n",
       "      <td>0</td>\n",
       "      <td>0</td>\n",
       "    </tr>\n",
       "    <tr>\n",
       "      <th>2</th>\n",
       "      <td>16-01-2017</td>\n",
       "      <td>2470.600000</td>\n",
       "      <td>0.0</td>\n",
       "      <td>0.00</td>\n",
       "      <td>0.000</td>\n",
       "      <td>0.090000</td>\n",
       "      <td>6955.560000</td>\n",
       "      <td>0.01</td>\n",
       "      <td>96619.091234</td>\n",
       "      <td>50.758389</td>\n",
       "      <td>4.686509</td>\n",
       "      <td>354064.5161</td>\n",
       "      <td>0</td>\n",
       "      <td>0</td>\n",
       "    </tr>\n",
       "    <tr>\n",
       "      <th>3</th>\n",
       "      <td>23-01-2017</td>\n",
       "      <td>2470.600000</td>\n",
       "      <td>0.0</td>\n",
       "      <td>0.00</td>\n",
       "      <td>0.000</td>\n",
       "      <td>0.090000</td>\n",
       "      <td>4630.010000</td>\n",
       "      <td>0.00</td>\n",
       "      <td>67294.616930</td>\n",
       "      <td>51.561729</td>\n",
       "      <td>4.686509</td>\n",
       "      <td>354064.5161</td>\n",
       "      <td>0</td>\n",
       "      <td>0</td>\n",
       "    </tr>\n",
       "    <tr>\n",
       "      <th>4</th>\n",
       "      <td>30-01-2017</td>\n",
       "      <td>2463.250000</td>\n",
       "      <td>0.0</td>\n",
       "      <td>0.00</td>\n",
       "      <td>0.000</td>\n",
       "      <td>0.010000</td>\n",
       "      <td>2911.880000</td>\n",
       "      <td>0.01</td>\n",
       "      <td>46532.729780</td>\n",
       "      <td>51.450668</td>\n",
       "      <td>4.707299</td>\n",
       "      <td>396697.0046</td>\n",
       "      <td>0</td>\n",
       "      <td>0</td>\n",
       "    </tr>\n",
       "    <tr>\n",
       "      <th>...</th>\n",
       "      <td>...</td>\n",
       "      <td>...</td>\n",
       "      <td>...</td>\n",
       "      <td>...</td>\n",
       "      <td>...</td>\n",
       "      <td>...</td>\n",
       "      <td>...</td>\n",
       "      <td>...</td>\n",
       "      <td>...</td>\n",
       "      <td>...</td>\n",
       "      <td>...</td>\n",
       "      <td>...</td>\n",
       "      <td>...</td>\n",
       "      <td>...</td>\n",
       "    </tr>\n",
       "    <tr>\n",
       "      <th>177</th>\n",
       "      <td>25-05-2020</td>\n",
       "      <td>2777.054278</td>\n",
       "      <td>0.0</td>\n",
       "      <td>0.00</td>\n",
       "      <td>0.000</td>\n",
       "      <td>5501.142043</td>\n",
       "      <td>8923.720012</td>\n",
       "      <td>0.00</td>\n",
       "      <td>23682.980950</td>\n",
       "      <td>54.708210</td>\n",
       "      <td>4.851504</td>\n",
       "      <td>448000.0000</td>\n",
       "      <td>0</td>\n",
       "      <td>1</td>\n",
       "    </tr>\n",
       "    <tr>\n",
       "      <th>178</th>\n",
       "      <td>01-06-2020</td>\n",
       "      <td>2347.751201</td>\n",
       "      <td>0.0</td>\n",
       "      <td>0.00</td>\n",
       "      <td>0.016</td>\n",
       "      <td>0.000000</td>\n",
       "      <td>1075.980003</td>\n",
       "      <td>0.00</td>\n",
       "      <td>15803.450730</td>\n",
       "      <td>54.708210</td>\n",
       "      <td>4.822768</td>\n",
       "      <td>7700.0000</td>\n",
       "      <td>1</td>\n",
       "      <td>1</td>\n",
       "    </tr>\n",
       "    <tr>\n",
       "      <th>179</th>\n",
       "      <td>08-06-2020</td>\n",
       "      <td>3132.570888</td>\n",
       "      <td>0.0</td>\n",
       "      <td>0.00</td>\n",
       "      <td>0.000</td>\n",
       "      <td>0.000000</td>\n",
       "      <td>3742.977999</td>\n",
       "      <td>0.00</td>\n",
       "      <td>2392.235897</td>\n",
       "      <td>54.708210</td>\n",
       "      <td>4.789930</td>\n",
       "      <td>7700.0000</td>\n",
       "      <td>0</td>\n",
       "      <td>1</td>\n",
       "    </tr>\n",
       "    <tr>\n",
       "      <th>180</th>\n",
       "      <td>15-06-2020</td>\n",
       "      <td>3132.570888</td>\n",
       "      <td>0.0</td>\n",
       "      <td>0.00</td>\n",
       "      <td>380.505</td>\n",
       "      <td>0.000000</td>\n",
       "      <td>4007.615998</td>\n",
       "      <td>0.00</td>\n",
       "      <td>13390.429120</td>\n",
       "      <td>54.276386</td>\n",
       "      <td>4.835722</td>\n",
       "      <td>7700.0000</td>\n",
       "      <td>0</td>\n",
       "      <td>1</td>\n",
       "    </tr>\n",
       "    <tr>\n",
       "      <th>181</th>\n",
       "      <td>22-06-2020</td>\n",
       "      <td>2441.661249</td>\n",
       "      <td>0.0</td>\n",
       "      <td>0.00</td>\n",
       "      <td>4288.965</td>\n",
       "      <td>0.000000</td>\n",
       "      <td>3086.460004</td>\n",
       "      <td>0.00</td>\n",
       "      <td>23858.509340</td>\n",
       "      <td>53.773189</td>\n",
       "      <td>4.755775</td>\n",
       "      <td>7700.0000</td>\n",
       "      <td>0</td>\n",
       "      <td>1</td>\n",
       "    </tr>\n",
       "  </tbody>\n",
       "</table>\n",
       "<p>182 rows × 14 columns</p>\n",
       "</div>"
      ],
      "text/plain": [
       "     week_start  Bledina total TV spends  Bledina total press spends  \\\n",
       "0    02-01-2017              2369.390000                         0.0   \n",
       "1    09-01-2017              2470.600000                         0.0   \n",
       "2    16-01-2017              2470.600000                         0.0   \n",
       "3    23-01-2017              2470.600000                         0.0   \n",
       "4    30-01-2017              2463.250000                         0.0   \n",
       "..          ...                      ...                         ...   \n",
       "177  25-05-2020              2777.054278                         0.0   \n",
       "178  01-06-2020              2347.751201                         0.0   \n",
       "179  08-06-2020              3132.570888                         0.0   \n",
       "180  15-06-2020              3132.570888                         0.0   \n",
       "181  22-06-2020              2441.661249                         0.0   \n",
       "\n",
       "     Bledina total catchuptv spends  Bledina total data retailer spends  \\\n",
       "0                              0.01                               0.000   \n",
       "1                              0.00                               0.000   \n",
       "2                              0.00                               0.000   \n",
       "3                              0.00                               0.000   \n",
       "4                              0.00                               0.000   \n",
       "..                              ...                                 ...   \n",
       "177                            0.00                               0.000   \n",
       "178                            0.00                               0.016   \n",
       "179                            0.00                               0.000   \n",
       "180                            0.00                             380.505   \n",
       "181                            0.00                            4288.965   \n",
       "\n",
       "     Bledina total programmatic spends  Bledina total social spends  \\\n",
       "0                             0.060000                     0.010000   \n",
       "1                             0.050000                 10034.990000   \n",
       "2                             0.090000                  6955.560000   \n",
       "3                             0.090000                  4630.010000   \n",
       "4                             0.010000                  2911.880000   \n",
       "..                                 ...                          ...   \n",
       "177                        5501.142043                  8923.720012   \n",
       "178                           0.000000                  1075.980003   \n",
       "179                           0.000000                  3742.977999   \n",
       "180                           0.000000                  4007.615998   \n",
       "181                           0.000000                  3086.460004   \n",
       "\n",
       "     Bledina total direct spends  Bledina total promo spends  \\\n",
       "0                           0.01                 7238.542484   \n",
       "1                           0.01                20498.188230   \n",
       "2                           0.01                96619.091234   \n",
       "3                           0.00                67294.616930   \n",
       "4                           0.01                46532.729780   \n",
       "..                           ...                         ...   \n",
       "177                         0.00                23682.980950   \n",
       "178                         0.00                15803.450730   \n",
       "179                         0.00                 2392.235897   \n",
       "180                         0.00                13390.429120   \n",
       "181                         0.00                23858.509340   \n",
       "\n",
       "     Competition retail non-organic dvm  Competition retail non-organic price  \\\n",
       "0                             49.752306                              4.686509   \n",
       "1                             46.862353                              4.686509   \n",
       "2                             50.758389                              4.686509   \n",
       "3                             51.561729                              4.686509   \n",
       "4                             51.450668                              4.707299   \n",
       "..                                  ...                                   ...   \n",
       "177                           54.708210                              4.851504   \n",
       "178                           54.708210                              4.822768   \n",
       "179                           54.708210                              4.789930   \n",
       "180                           54.276386                              4.835722   \n",
       "181                           53.773189                              4.755775   \n",
       "\n",
       "     Nestle Total Spends  Holiday flags  Lockdown flag  \n",
       "0            354064.5161              0              0  \n",
       "1            354064.5161              0              0  \n",
       "2            354064.5161              0              0  \n",
       "3            354064.5161              0              0  \n",
       "4            396697.0046              0              0  \n",
       "..                   ...            ...            ...  \n",
       "177          448000.0000              0              1  \n",
       "178            7700.0000              1              1  \n",
       "179            7700.0000              0              1  \n",
       "180            7700.0000              0              1  \n",
       "181            7700.0000              0              1  \n",
       "\n",
       "[182 rows x 14 columns]"
      ]
     },
     "execution_count": 145,
     "metadata": {},
     "output_type": "execute_result"
    }
   ],
   "source": [
    "df2"
   ]
  },
  {
   "cell_type": "code",
   "execution_count": 146,
   "id": "a35b3971",
   "metadata": {},
   "outputs": [],
   "source": [
    "df3=df2.to_excel('DDRS-log.xlsx')"
   ]
  },
  {
   "cell_type": "code",
   "execution_count": 147,
   "id": "16e347a0",
   "metadata": {},
   "outputs": [
    {
     "data": {
      "text/html": [
       "<div>\n",
       "<style scoped>\n",
       "    .dataframe tbody tr th:only-of-type {\n",
       "        vertical-align: middle;\n",
       "    }\n",
       "\n",
       "    .dataframe tbody tr th {\n",
       "        vertical-align: top;\n",
       "    }\n",
       "\n",
       "    .dataframe thead th {\n",
       "        text-align: right;\n",
       "    }\n",
       "</style>\n",
       "<table border=\"1\" class=\"dataframe\">\n",
       "  <thead>\n",
       "    <tr style=\"text-align: right;\">\n",
       "      <th></th>\n",
       "      <th>Unnamed: 0</th>\n",
       "      <th>week_start</th>\n",
       "      <th>Bledina total TV spends</th>\n",
       "      <th>Bledina total press spends</th>\n",
       "      <th>Bledina total catchuptv spends</th>\n",
       "      <th>Bledina total data retailer spends</th>\n",
       "      <th>Bledina total programmatic spends</th>\n",
       "      <th>Bledina total social spends</th>\n",
       "      <th>Bledina total direct spends</th>\n",
       "      <th>Bledina total promo spends</th>\n",
       "      <th>Competition retail non-organic dvm</th>\n",
       "      <th>Competition retail non-organic price</th>\n",
       "      <th>Nestle Total Spends</th>\n",
       "      <th>Holiday flags</th>\n",
       "      <th>Lockdown flag</th>\n",
       "      <th>Net Sales of Bledina</th>\n",
       "      <th>retail_total_bledina_product_dvm</th>\n",
       "    </tr>\n",
       "  </thead>\n",
       "  <tbody>\n",
       "    <tr>\n",
       "      <th>0</th>\n",
       "      <td>0</td>\n",
       "      <td>02-01-2017</td>\n",
       "      <td>2369.390000</td>\n",
       "      <td>0</td>\n",
       "      <td>0.01</td>\n",
       "      <td>0.000</td>\n",
       "      <td>0.060000</td>\n",
       "      <td>0.010000</td>\n",
       "      <td>0.01</td>\n",
       "      <td>7238.542484</td>\n",
       "      <td>49.752306</td>\n",
       "      <td>4.686509</td>\n",
       "      <td>354064.5161</td>\n",
       "      <td>0</td>\n",
       "      <td>0</td>\n",
       "      <td>6886165.0</td>\n",
       "      <td>67.142970</td>\n",
       "    </tr>\n",
       "    <tr>\n",
       "      <th>1</th>\n",
       "      <td>1</td>\n",
       "      <td>09-01-2017</td>\n",
       "      <td>2470.600000</td>\n",
       "      <td>0</td>\n",
       "      <td>0.00</td>\n",
       "      <td>0.000</td>\n",
       "      <td>0.050000</td>\n",
       "      <td>10034.990000</td>\n",
       "      <td>0.01</td>\n",
       "      <td>20498.188230</td>\n",
       "      <td>46.862353</td>\n",
       "      <td>4.686509</td>\n",
       "      <td>354064.5161</td>\n",
       "      <td>0</td>\n",
       "      <td>0</td>\n",
       "      <td>5875465.0</td>\n",
       "      <td>63.112123</td>\n",
       "    </tr>\n",
       "    <tr>\n",
       "      <th>2</th>\n",
       "      <td>2</td>\n",
       "      <td>16-01-2017</td>\n",
       "      <td>2470.600000</td>\n",
       "      <td>0</td>\n",
       "      <td>0.00</td>\n",
       "      <td>0.000</td>\n",
       "      <td>0.090000</td>\n",
       "      <td>6955.560000</td>\n",
       "      <td>0.01</td>\n",
       "      <td>96619.091234</td>\n",
       "      <td>50.758389</td>\n",
       "      <td>4.686509</td>\n",
       "      <td>354064.5161</td>\n",
       "      <td>0</td>\n",
       "      <td>0</td>\n",
       "      <td>5897865.0</td>\n",
       "      <td>64.281646</td>\n",
       "    </tr>\n",
       "    <tr>\n",
       "      <th>3</th>\n",
       "      <td>3</td>\n",
       "      <td>23-01-2017</td>\n",
       "      <td>2470.600000</td>\n",
       "      <td>0</td>\n",
       "      <td>0.00</td>\n",
       "      <td>0.000</td>\n",
       "      <td>0.090000</td>\n",
       "      <td>4630.010000</td>\n",
       "      <td>0.00</td>\n",
       "      <td>67294.616930</td>\n",
       "      <td>51.561729</td>\n",
       "      <td>4.686509</td>\n",
       "      <td>354064.5161</td>\n",
       "      <td>0</td>\n",
       "      <td>0</td>\n",
       "      <td>5431465.0</td>\n",
       "      <td>63.696530</td>\n",
       "    </tr>\n",
       "    <tr>\n",
       "      <th>4</th>\n",
       "      <td>4</td>\n",
       "      <td>30-01-2017</td>\n",
       "      <td>2463.250000</td>\n",
       "      <td>0</td>\n",
       "      <td>0.00</td>\n",
       "      <td>0.000</td>\n",
       "      <td>0.010000</td>\n",
       "      <td>2911.880000</td>\n",
       "      <td>0.01</td>\n",
       "      <td>46532.729780</td>\n",
       "      <td>51.450668</td>\n",
       "      <td>4.707299</td>\n",
       "      <td>396697.0046</td>\n",
       "      <td>0</td>\n",
       "      <td>0</td>\n",
       "      <td>5497440.0</td>\n",
       "      <td>64.752914</td>\n",
       "    </tr>\n",
       "    <tr>\n",
       "      <th>...</th>\n",
       "      <td>...</td>\n",
       "      <td>...</td>\n",
       "      <td>...</td>\n",
       "      <td>...</td>\n",
       "      <td>...</td>\n",
       "      <td>...</td>\n",
       "      <td>...</td>\n",
       "      <td>...</td>\n",
       "      <td>...</td>\n",
       "      <td>...</td>\n",
       "      <td>...</td>\n",
       "      <td>...</td>\n",
       "      <td>...</td>\n",
       "      <td>...</td>\n",
       "      <td>...</td>\n",
       "      <td>...</td>\n",
       "      <td>...</td>\n",
       "    </tr>\n",
       "    <tr>\n",
       "      <th>177</th>\n",
       "      <td>177</td>\n",
       "      <td>25-05-2020</td>\n",
       "      <td>2777.054278</td>\n",
       "      <td>0</td>\n",
       "      <td>0.00</td>\n",
       "      <td>0.000</td>\n",
       "      <td>5501.142043</td>\n",
       "      <td>8923.720012</td>\n",
       "      <td>0.00</td>\n",
       "      <td>23682.980950</td>\n",
       "      <td>54.708210</td>\n",
       "      <td>4.851504</td>\n",
       "      <td>448000.0000</td>\n",
       "      <td>0</td>\n",
       "      <td>1</td>\n",
       "      <td>5164500.0</td>\n",
       "      <td>57.179983</td>\n",
       "    </tr>\n",
       "    <tr>\n",
       "      <th>178</th>\n",
       "      <td>178</td>\n",
       "      <td>01-06-2020</td>\n",
       "      <td>2347.751201</td>\n",
       "      <td>0</td>\n",
       "      <td>0.00</td>\n",
       "      <td>0.016</td>\n",
       "      <td>0.000000</td>\n",
       "      <td>1075.980003</td>\n",
       "      <td>0.00</td>\n",
       "      <td>15803.450730</td>\n",
       "      <td>54.708210</td>\n",
       "      <td>4.822768</td>\n",
       "      <td>7700.0000</td>\n",
       "      <td>1</td>\n",
       "      <td>1</td>\n",
       "      <td>5617000.0</td>\n",
       "      <td>58.390835</td>\n",
       "    </tr>\n",
       "    <tr>\n",
       "      <th>179</th>\n",
       "      <td>179</td>\n",
       "      <td>08-06-2020</td>\n",
       "      <td>3132.570888</td>\n",
       "      <td>0</td>\n",
       "      <td>0.00</td>\n",
       "      <td>0.000</td>\n",
       "      <td>0.000000</td>\n",
       "      <td>3742.977999</td>\n",
       "      <td>0.00</td>\n",
       "      <td>2392.235897</td>\n",
       "      <td>54.708210</td>\n",
       "      <td>4.789930</td>\n",
       "      <td>7700.0000</td>\n",
       "      <td>0</td>\n",
       "      <td>1</td>\n",
       "      <td>5183900.0</td>\n",
       "      <td>56.617011</td>\n",
       "    </tr>\n",
       "    <tr>\n",
       "      <th>180</th>\n",
       "      <td>180</td>\n",
       "      <td>15-06-2020</td>\n",
       "      <td>3132.570888</td>\n",
       "      <td>0</td>\n",
       "      <td>0.00</td>\n",
       "      <td>380.505</td>\n",
       "      <td>0.000000</td>\n",
       "      <td>4007.615998</td>\n",
       "      <td>0.00</td>\n",
       "      <td>13390.429120</td>\n",
       "      <td>54.276386</td>\n",
       "      <td>4.835722</td>\n",
       "      <td>7700.0000</td>\n",
       "      <td>0</td>\n",
       "      <td>1</td>\n",
       "      <td>5042800.0</td>\n",
       "      <td>55.464290</td>\n",
       "    </tr>\n",
       "    <tr>\n",
       "      <th>181</th>\n",
       "      <td>181</td>\n",
       "      <td>22-06-2020</td>\n",
       "      <td>2441.661249</td>\n",
       "      <td>0</td>\n",
       "      <td>0.00</td>\n",
       "      <td>4288.965</td>\n",
       "      <td>0.000000</td>\n",
       "      <td>3086.460004</td>\n",
       "      <td>0.00</td>\n",
       "      <td>23858.509340</td>\n",
       "      <td>53.773189</td>\n",
       "      <td>4.755775</td>\n",
       "      <td>7700.0000</td>\n",
       "      <td>0</td>\n",
       "      <td>1</td>\n",
       "      <td>5500300.0</td>\n",
       "      <td>54.264990</td>\n",
       "    </tr>\n",
       "  </tbody>\n",
       "</table>\n",
       "<p>182 rows × 17 columns</p>\n",
       "</div>"
      ],
      "text/plain": [
       "     Unnamed: 0  week_start  Bledina total TV spends  \\\n",
       "0             0  02-01-2017              2369.390000   \n",
       "1             1  09-01-2017              2470.600000   \n",
       "2             2  16-01-2017              2470.600000   \n",
       "3             3  23-01-2017              2470.600000   \n",
       "4             4  30-01-2017              2463.250000   \n",
       "..          ...         ...                      ...   \n",
       "177         177  25-05-2020              2777.054278   \n",
       "178         178  01-06-2020              2347.751201   \n",
       "179         179  08-06-2020              3132.570888   \n",
       "180         180  15-06-2020              3132.570888   \n",
       "181         181  22-06-2020              2441.661249   \n",
       "\n",
       "     Bledina total press spends  Bledina total catchuptv spends  \\\n",
       "0                             0                            0.01   \n",
       "1                             0                            0.00   \n",
       "2                             0                            0.00   \n",
       "3                             0                            0.00   \n",
       "4                             0                            0.00   \n",
       "..                          ...                             ...   \n",
       "177                           0                            0.00   \n",
       "178                           0                            0.00   \n",
       "179                           0                            0.00   \n",
       "180                           0                            0.00   \n",
       "181                           0                            0.00   \n",
       "\n",
       "     Bledina total data retailer spends  Bledina total programmatic spends  \\\n",
       "0                                 0.000                           0.060000   \n",
       "1                                 0.000                           0.050000   \n",
       "2                                 0.000                           0.090000   \n",
       "3                                 0.000                           0.090000   \n",
       "4                                 0.000                           0.010000   \n",
       "..                                  ...                                ...   \n",
       "177                               0.000                        5501.142043   \n",
       "178                               0.016                           0.000000   \n",
       "179                               0.000                           0.000000   \n",
       "180                             380.505                           0.000000   \n",
       "181                            4288.965                           0.000000   \n",
       "\n",
       "     Bledina total social spends  Bledina total direct spends  \\\n",
       "0                       0.010000                         0.01   \n",
       "1                   10034.990000                         0.01   \n",
       "2                    6955.560000                         0.01   \n",
       "3                    4630.010000                         0.00   \n",
       "4                    2911.880000                         0.01   \n",
       "..                           ...                          ...   \n",
       "177                  8923.720012                         0.00   \n",
       "178                  1075.980003                         0.00   \n",
       "179                  3742.977999                         0.00   \n",
       "180                  4007.615998                         0.00   \n",
       "181                  3086.460004                         0.00   \n",
       "\n",
       "     Bledina total promo spends  Competition retail non-organic dvm  \\\n",
       "0                   7238.542484                           49.752306   \n",
       "1                  20498.188230                           46.862353   \n",
       "2                  96619.091234                           50.758389   \n",
       "3                  67294.616930                           51.561729   \n",
       "4                  46532.729780                           51.450668   \n",
       "..                          ...                                 ...   \n",
       "177                23682.980950                           54.708210   \n",
       "178                15803.450730                           54.708210   \n",
       "179                 2392.235897                           54.708210   \n",
       "180                13390.429120                           54.276386   \n",
       "181                23858.509340                           53.773189   \n",
       "\n",
       "     Competition retail non-organic price  Nestle Total Spends  Holiday flags  \\\n",
       "0                                4.686509          354064.5161              0   \n",
       "1                                4.686509          354064.5161              0   \n",
       "2                                4.686509          354064.5161              0   \n",
       "3                                4.686509          354064.5161              0   \n",
       "4                                4.707299          396697.0046              0   \n",
       "..                                    ...                  ...            ...   \n",
       "177                              4.851504          448000.0000              0   \n",
       "178                              4.822768            7700.0000              1   \n",
       "179                              4.789930            7700.0000              0   \n",
       "180                              4.835722            7700.0000              0   \n",
       "181                              4.755775            7700.0000              0   \n",
       "\n",
       "     Lockdown flag  Net Sales of Bledina  retail_total_bledina_product_dvm  \n",
       "0                0             6886165.0                         67.142970  \n",
       "1                0             5875465.0                         63.112123  \n",
       "2                0             5897865.0                         64.281646  \n",
       "3                0             5431465.0                         63.696530  \n",
       "4                0             5497440.0                         64.752914  \n",
       "..             ...                   ...                               ...  \n",
       "177              1             5164500.0                         57.179983  \n",
       "178              1             5617000.0                         58.390835  \n",
       "179              1             5183900.0                         56.617011  \n",
       "180              1             5042800.0                         55.464290  \n",
       "181              1             5500300.0                         54.264990  \n",
       "\n",
       "[182 rows x 17 columns]"
      ]
     },
     "execution_count": 147,
     "metadata": {},
     "output_type": "execute_result"
    }
   ],
   "source": [
    "a=pd.read_excel('DDRS-logwins.xlsx')\n",
    "a"
   ]
  },
  {
   "cell_type": "code",
   "execution_count": 148,
   "id": "2df3e6d1",
   "metadata": {},
   "outputs": [],
   "source": [
    "b=a.drop(['Unnamed: 0'], axis=1)"
   ]
  },
  {
   "cell_type": "code",
   "execution_count": 198,
   "id": "159f537e",
   "metadata": {},
   "outputs": [],
   "source": [
    "x=b.drop(['week_start','Net Sales of Bledina'], axis=1)\n",
    "x=x+0.1\n",
    "y=b['Net Sales of Bledina']"
   ]
  },
  {
   "cell_type": "code",
   "execution_count": 199,
   "id": "ccae4146",
   "metadata": {},
   "outputs": [
    {
     "name": "stdout",
     "output_type": "stream",
     "text": [
      "                            OLS Regression Results                            \n",
      "==============================================================================\n",
      "Dep. Variable:                      y   R-squared:                       0.460\n",
      "Model:                            OLS   Adj. R-squared:                  0.415\n",
      "Method:                 Least Squares   F-statistic:                     10.16\n",
      "Date:                Thu, 13 Apr 2023   Prob (F-statistic):           2.83e-16\n",
      "Time:                        16:18:11   Log-Likelihood:                -2589.9\n",
      "No. Observations:                 182   AIC:                             5210.\n",
      "Df Residuals:                     167   BIC:                             5258.\n",
      "Df Model:                          14                                         \n",
      "Covariance Type:            nonrobust                                         \n",
      "==============================================================================\n",
      "                 coef    std err          t      P>|t|      [0.025      0.975]\n",
      "------------------------------------------------------------------------------\n",
      "Intercept    5.27e+06   2.84e+06      1.858      0.065   -3.29e+05    1.09e+07\n",
      "x[0]          -2.0805      0.868     -2.396      0.018      -3.794      -0.367\n",
      "x[1]          20.4696     13.740      1.490      0.138      -6.657      47.597\n",
      "x[2]           0.9166      8.465      0.108      0.914     -15.796      17.629\n",
      "x[3]           3.3367      7.063      0.472      0.637     -10.607      17.280\n",
      "x[4]          -0.6724      2.996     -0.224      0.823      -6.586       5.242\n",
      "x[5]           0.9559      5.971      0.160      0.873     -10.832      12.744\n",
      "x[6]          -2.3916     15.393     -0.155      0.877     -32.781      27.997\n",
      "x[7]           3.5040      1.180      2.970      0.003       1.174       5.834\n",
      "x[8]        9.972e+04   1.69e+04      5.887      0.000    6.63e+04    1.33e+05\n",
      "x[9]       -1.898e+06   5.38e+05     -3.526      0.001   -2.96e+06   -8.35e+05\n",
      "x[10]         -0.5924      0.224     -2.639      0.009      -1.036      -0.149\n",
      "x[11]      -2.627e+04   7.01e+04     -0.375      0.708   -1.65e+05    1.12e+05\n",
      "x[12]      -2.784e+05   1.51e+05     -1.844      0.067   -5.77e+05    1.97e+04\n",
      "x[13]       7.411e+04   1.32e+04      5.617      0.000    4.81e+04       1e+05\n",
      "==============================================================================\n",
      "Omnibus:                       23.881   Durbin-Watson:                   1.195\n",
      "Prob(Omnibus):                  0.000   Jarque-Bera (JB):               32.065\n",
      "Skew:                           0.798   Prob(JB):                     1.09e-07\n",
      "Kurtosis:                       4.297   Cond. No.                     2.23e+07\n",
      "==============================================================================\n",
      "\n",
      "Notes:\n",
      "[1] Standard Errors assume that the covariance matrix of the errors is correctly specified.\n",
      "[2] The condition number is large, 2.23e+07. This might indicate that there are\n",
      "strong multicollinearity or other numerical problems.\n"
     ]
    }
   ],
   "source": [
    "import pandas as pd\n",
    "import statsmodels.formula.api as smf\n",
    "\n",
    "y_log = np.log(y)\n",
    "x_log= np.log(x)\n",
    "# fit the log-log regression model\n",
    "model = smf.ols('y~x', data=b).fit()\n",
    "# print the model summary\n",
    "print(model.summary())"
   ]
  },
  {
   "cell_type": "code",
   "execution_count": 200,
   "id": "e253f817",
   "metadata": {},
   "outputs": [],
   "source": [
    "from sklearn.model_selection import train_test_split\n",
    "x_log_train,x_log_test,y_log_train,y_log_test=train_test_split(x_log,y_log,test_size=0.2,random_state=634422)\n"
   ]
  },
  {
   "cell_type": "code",
   "execution_count": 201,
   "id": "25dfe350",
   "metadata": {},
   "outputs": [],
   "source": [
    "from sklearn.linear_model import LinearRegression"
   ]
  },
  {
   "cell_type": "code",
   "execution_count": 202,
   "id": "65932f5b",
   "metadata": {},
   "outputs": [
    {
     "data": {
      "text/plain": [
       "LinearRegression()"
      ]
     },
     "execution_count": 202,
     "metadata": {},
     "output_type": "execute_result"
    }
   ],
   "source": [
    "lr=LinearRegression()\n",
    "lr.fit(x_log_train,y_log_train)"
   ]
  },
  {
   "cell_type": "code",
   "execution_count": 203,
   "id": "54935a12",
   "metadata": {},
   "outputs": [],
   "source": [
    "y_log_pred_train = lr.predict(x_log_train)\n",
    "y_log_pred_test = lr.predict(x_log_test)"
   ]
  },
  {
   "cell_type": "code",
   "execution_count": 204,
   "id": "b5280b5c",
   "metadata": {},
   "outputs": [],
   "source": [
    "from sklearn.metrics import r2_score, mean_squared_error, mean_absolute_percentage_error"
   ]
  },
  {
   "cell_type": "code",
   "execution_count": 205,
   "id": "f3cf0ee9",
   "metadata": {},
   "outputs": [
    {
     "name": "stdout",
     "output_type": "stream",
     "text": [
      "0.4859719251638549\n",
      "0.0044229024351039176\n",
      "0.0033732551244702556\n"
     ]
    }
   ],
   "source": [
    "print(r2_score(y_log_train,y_log_pred_train))\n",
    "print(mean_squared_error(y_log_train,y_log_pred_train))\n",
    "print(mean_absolute_percentage_error(y_log_train,y_log_pred_train))"
   ]
  },
  {
   "cell_type": "code",
   "execution_count": 206,
   "id": "a828e753",
   "metadata": {},
   "outputs": [
    {
     "name": "stdout",
     "output_type": "stream",
     "text": [
      "0.7783755252808109\n",
      "0.0012295506204025959\n",
      "0.001903226673429147\n"
     ]
    }
   ],
   "source": [
    "print(r2_score(y_log_test,y_log_pred_test))\n",
    "print(mean_squared_error(y_log_test,y_log_pred_test))\n",
    "print(mean_absolute_percentage_error(y_log_test,y_log_pred_test))"
   ]
  },
  {
   "cell_type": "code",
   "execution_count": 207,
   "id": "d517bbf8",
   "metadata": {},
   "outputs": [
    {
     "data": {
      "application/vnd.plotly.v1+json": {
       "config": {
        "plotlyServerURL": "https://plot.ly"
       },
       "data": [
        {
         "name": "Actual",
         "type": "scatter",
         "x": [
          0,
          1,
          2,
          3,
          4,
          5,
          6,
          7,
          8,
          9,
          10,
          11,
          12,
          13,
          14,
          15,
          16,
          17,
          18,
          19,
          20,
          21,
          22,
          23,
          24,
          25,
          26,
          27,
          28,
          29,
          30,
          31,
          32,
          33,
          34,
          35,
          36,
          37,
          38,
          39,
          40,
          41,
          42,
          43,
          44,
          45,
          46,
          47,
          48,
          49,
          50,
          51,
          52,
          53,
          54,
          55,
          56,
          57,
          58,
          59,
          60,
          61,
          62,
          63,
          64,
          65,
          66,
          67,
          68,
          69,
          70,
          71,
          72,
          73,
          74,
          75,
          76,
          77,
          78,
          79,
          80,
          81,
          82,
          83,
          84,
          85,
          86,
          87,
          88,
          89,
          90,
          91,
          92,
          93,
          94,
          95,
          96,
          97,
          98,
          99,
          100,
          101,
          102,
          103,
          104,
          105,
          106,
          107,
          108,
          109,
          110,
          111,
          112,
          113,
          114,
          115,
          116,
          117,
          118,
          119,
          120,
          121,
          122,
          123,
          124,
          125,
          126,
          127,
          128,
          129,
          130,
          131,
          132,
          133,
          134,
          135,
          136,
          137,
          138,
          139,
          140,
          141,
          142,
          143,
          144,
          145,
          146,
          147,
          148,
          149,
          150,
          151,
          152,
          153,
          154,
          155,
          156,
          157,
          158,
          159,
          160,
          161,
          162,
          163,
          164,
          165,
          166,
          167,
          168,
          169,
          170,
          171,
          172,
          173,
          174,
          175,
          176,
          177,
          178,
          179,
          180,
          181
         ],
         "y": [
          15.424907969578227,
          15.606302225690166,
          15.448320211021331,
          15.528394554701348,
          15.400347841077412,
          15.545642376468876,
          15.475334693521143,
          15.421833122738208,
          15.461638098441163,
          15.481310278143035,
          15.591950953730215,
          15.480805982877401,
          15.37271209987534,
          15.475850688325494,
          15.542726172707201,
          15.56045834204189,
          15.376409799601833,
          15.498444719773577,
          15.475415703691388,
          15.358354504948391,
          15.49372565195926,
          15.566967862814748,
          15.493112038107986,
          15.555844706545836,
          15.437531372596748,
          15.437468763394774,
          15.528898041141403,
          15.33676349592163,
          15.430333942674713,
          15.460268315819816,
          15.448545067949487,
          15.475246544718681,
          15.656125586048878,
          15.442081360645318,
          15.316848650715235,
          15.407405081101023,
          15.514813854166743
         ]
        },
        {
         "name": "Predicted",
         "type": "scatter",
         "x": [
          0,
          1,
          2,
          3,
          4,
          5,
          6,
          7,
          8,
          9,
          10,
          11,
          12,
          13,
          14,
          15,
          16,
          17,
          18,
          19,
          20,
          21,
          22,
          23,
          24,
          25,
          26,
          27,
          28,
          29,
          30,
          31,
          32,
          33,
          34,
          35,
          36,
          37,
          38,
          39,
          40,
          41,
          42,
          43,
          44,
          45,
          46,
          47,
          48,
          49,
          50,
          51,
          52,
          53,
          54,
          55,
          56,
          57,
          58,
          59,
          60,
          61,
          62,
          63,
          64,
          65,
          66,
          67,
          68,
          69,
          70,
          71,
          72,
          73,
          74,
          75,
          76,
          77,
          78,
          79,
          80,
          81,
          82,
          83,
          84,
          85,
          86,
          87,
          88,
          89,
          90,
          91,
          92,
          93,
          94,
          95,
          96,
          97,
          98,
          99,
          100,
          101,
          102,
          103,
          104,
          105,
          106,
          107,
          108,
          109,
          110,
          111,
          112,
          113,
          114,
          115,
          116,
          117,
          118,
          119,
          120,
          121,
          122,
          123,
          124,
          125,
          126,
          127,
          128,
          129,
          130,
          131,
          132,
          133,
          134,
          135,
          136,
          137,
          138,
          139,
          140,
          141,
          142,
          143,
          144,
          145,
          146,
          147,
          148,
          149,
          150,
          151,
          152,
          153,
          154,
          155,
          156,
          157,
          158,
          159,
          160,
          161,
          162,
          163,
          164,
          165,
          166,
          167,
          168,
          169,
          170,
          171,
          172,
          173,
          174,
          175,
          176,
          177,
          178,
          179,
          180,
          181
         ],
         "y": [
          15.429744372636904,
          15.590750815811507,
          15.490675874267033,
          15.51170897375194,
          15.399642437561592,
          15.460289709619131,
          15.49724886355439,
          15.396506487484004,
          15.418434095963738,
          15.529987353246998,
          15.550857599266998,
          15.500740677231319,
          15.41108680920728,
          15.495694617249852,
          15.593986763717087,
          15.544578917944701,
          15.397058464556707,
          15.540769302898608,
          15.441993615556784,
          15.381579365745871,
          15.438340359961702,
          15.573237858012789,
          15.556123131010562,
          15.569500667925368,
          15.47998576212108,
          15.478141721278687,
          15.536517521465743,
          15.38134745617964,
          15.471954227374178,
          15.457426666587619,
          15.43094041789649,
          15.4528119137526,
          15.644912241712257,
          15.44335946963731,
          15.35323857991194,
          15.458494209392482,
          15.535419043421149
         ]
        }
       ],
       "layout": {
        "template": {
         "data": {
          "bar": [
           {
            "error_x": {
             "color": "#2a3f5f"
            },
            "error_y": {
             "color": "#2a3f5f"
            },
            "marker": {
             "line": {
              "color": "#E5ECF6",
              "width": 0.5
             },
             "pattern": {
              "fillmode": "overlay",
              "size": 10,
              "solidity": 0.2
             }
            },
            "type": "bar"
           }
          ],
          "barpolar": [
           {
            "marker": {
             "line": {
              "color": "#E5ECF6",
              "width": 0.5
             },
             "pattern": {
              "fillmode": "overlay",
              "size": 10,
              "solidity": 0.2
             }
            },
            "type": "barpolar"
           }
          ],
          "carpet": [
           {
            "aaxis": {
             "endlinecolor": "#2a3f5f",
             "gridcolor": "white",
             "linecolor": "white",
             "minorgridcolor": "white",
             "startlinecolor": "#2a3f5f"
            },
            "baxis": {
             "endlinecolor": "#2a3f5f",
             "gridcolor": "white",
             "linecolor": "white",
             "minorgridcolor": "white",
             "startlinecolor": "#2a3f5f"
            },
            "type": "carpet"
           }
          ],
          "choropleth": [
           {
            "colorbar": {
             "outlinewidth": 0,
             "ticks": ""
            },
            "type": "choropleth"
           }
          ],
          "contour": [
           {
            "colorbar": {
             "outlinewidth": 0,
             "ticks": ""
            },
            "colorscale": [
             [
              0,
              "#0d0887"
             ],
             [
              0.1111111111111111,
              "#46039f"
             ],
             [
              0.2222222222222222,
              "#7201a8"
             ],
             [
              0.3333333333333333,
              "#9c179e"
             ],
             [
              0.4444444444444444,
              "#bd3786"
             ],
             [
              0.5555555555555556,
              "#d8576b"
             ],
             [
              0.6666666666666666,
              "#ed7953"
             ],
             [
              0.7777777777777778,
              "#fb9f3a"
             ],
             [
              0.8888888888888888,
              "#fdca26"
             ],
             [
              1,
              "#f0f921"
             ]
            ],
            "type": "contour"
           }
          ],
          "contourcarpet": [
           {
            "colorbar": {
             "outlinewidth": 0,
             "ticks": ""
            },
            "type": "contourcarpet"
           }
          ],
          "heatmap": [
           {
            "colorbar": {
             "outlinewidth": 0,
             "ticks": ""
            },
            "colorscale": [
             [
              0,
              "#0d0887"
             ],
             [
              0.1111111111111111,
              "#46039f"
             ],
             [
              0.2222222222222222,
              "#7201a8"
             ],
             [
              0.3333333333333333,
              "#9c179e"
             ],
             [
              0.4444444444444444,
              "#bd3786"
             ],
             [
              0.5555555555555556,
              "#d8576b"
             ],
             [
              0.6666666666666666,
              "#ed7953"
             ],
             [
              0.7777777777777778,
              "#fb9f3a"
             ],
             [
              0.8888888888888888,
              "#fdca26"
             ],
             [
              1,
              "#f0f921"
             ]
            ],
            "type": "heatmap"
           }
          ],
          "heatmapgl": [
           {
            "colorbar": {
             "outlinewidth": 0,
             "ticks": ""
            },
            "colorscale": [
             [
              0,
              "#0d0887"
             ],
             [
              0.1111111111111111,
              "#46039f"
             ],
             [
              0.2222222222222222,
              "#7201a8"
             ],
             [
              0.3333333333333333,
              "#9c179e"
             ],
             [
              0.4444444444444444,
              "#bd3786"
             ],
             [
              0.5555555555555556,
              "#d8576b"
             ],
             [
              0.6666666666666666,
              "#ed7953"
             ],
             [
              0.7777777777777778,
              "#fb9f3a"
             ],
             [
              0.8888888888888888,
              "#fdca26"
             ],
             [
              1,
              "#f0f921"
             ]
            ],
            "type": "heatmapgl"
           }
          ],
          "histogram": [
           {
            "marker": {
             "pattern": {
              "fillmode": "overlay",
              "size": 10,
              "solidity": 0.2
             }
            },
            "type": "histogram"
           }
          ],
          "histogram2d": [
           {
            "colorbar": {
             "outlinewidth": 0,
             "ticks": ""
            },
            "colorscale": [
             [
              0,
              "#0d0887"
             ],
             [
              0.1111111111111111,
              "#46039f"
             ],
             [
              0.2222222222222222,
              "#7201a8"
             ],
             [
              0.3333333333333333,
              "#9c179e"
             ],
             [
              0.4444444444444444,
              "#bd3786"
             ],
             [
              0.5555555555555556,
              "#d8576b"
             ],
             [
              0.6666666666666666,
              "#ed7953"
             ],
             [
              0.7777777777777778,
              "#fb9f3a"
             ],
             [
              0.8888888888888888,
              "#fdca26"
             ],
             [
              1,
              "#f0f921"
             ]
            ],
            "type": "histogram2d"
           }
          ],
          "histogram2dcontour": [
           {
            "colorbar": {
             "outlinewidth": 0,
             "ticks": ""
            },
            "colorscale": [
             [
              0,
              "#0d0887"
             ],
             [
              0.1111111111111111,
              "#46039f"
             ],
             [
              0.2222222222222222,
              "#7201a8"
             ],
             [
              0.3333333333333333,
              "#9c179e"
             ],
             [
              0.4444444444444444,
              "#bd3786"
             ],
             [
              0.5555555555555556,
              "#d8576b"
             ],
             [
              0.6666666666666666,
              "#ed7953"
             ],
             [
              0.7777777777777778,
              "#fb9f3a"
             ],
             [
              0.8888888888888888,
              "#fdca26"
             ],
             [
              1,
              "#f0f921"
             ]
            ],
            "type": "histogram2dcontour"
           }
          ],
          "mesh3d": [
           {
            "colorbar": {
             "outlinewidth": 0,
             "ticks": ""
            },
            "type": "mesh3d"
           }
          ],
          "parcoords": [
           {
            "line": {
             "colorbar": {
              "outlinewidth": 0,
              "ticks": ""
             }
            },
            "type": "parcoords"
           }
          ],
          "pie": [
           {
            "automargin": true,
            "type": "pie"
           }
          ],
          "scatter": [
           {
            "fillpattern": {
             "fillmode": "overlay",
             "size": 10,
             "solidity": 0.2
            },
            "type": "scatter"
           }
          ],
          "scatter3d": [
           {
            "line": {
             "colorbar": {
              "outlinewidth": 0,
              "ticks": ""
             }
            },
            "marker": {
             "colorbar": {
              "outlinewidth": 0,
              "ticks": ""
             }
            },
            "type": "scatter3d"
           }
          ],
          "scattercarpet": [
           {
            "marker": {
             "colorbar": {
              "outlinewidth": 0,
              "ticks": ""
             }
            },
            "type": "scattercarpet"
           }
          ],
          "scattergeo": [
           {
            "marker": {
             "colorbar": {
              "outlinewidth": 0,
              "ticks": ""
             }
            },
            "type": "scattergeo"
           }
          ],
          "scattergl": [
           {
            "marker": {
             "colorbar": {
              "outlinewidth": 0,
              "ticks": ""
             }
            },
            "type": "scattergl"
           }
          ],
          "scattermapbox": [
           {
            "marker": {
             "colorbar": {
              "outlinewidth": 0,
              "ticks": ""
             }
            },
            "type": "scattermapbox"
           }
          ],
          "scatterpolar": [
           {
            "marker": {
             "colorbar": {
              "outlinewidth": 0,
              "ticks": ""
             }
            },
            "type": "scatterpolar"
           }
          ],
          "scatterpolargl": [
           {
            "marker": {
             "colorbar": {
              "outlinewidth": 0,
              "ticks": ""
             }
            },
            "type": "scatterpolargl"
           }
          ],
          "scatterternary": [
           {
            "marker": {
             "colorbar": {
              "outlinewidth": 0,
              "ticks": ""
             }
            },
            "type": "scatterternary"
           }
          ],
          "surface": [
           {
            "colorbar": {
             "outlinewidth": 0,
             "ticks": ""
            },
            "colorscale": [
             [
              0,
              "#0d0887"
             ],
             [
              0.1111111111111111,
              "#46039f"
             ],
             [
              0.2222222222222222,
              "#7201a8"
             ],
             [
              0.3333333333333333,
              "#9c179e"
             ],
             [
              0.4444444444444444,
              "#bd3786"
             ],
             [
              0.5555555555555556,
              "#d8576b"
             ],
             [
              0.6666666666666666,
              "#ed7953"
             ],
             [
              0.7777777777777778,
              "#fb9f3a"
             ],
             [
              0.8888888888888888,
              "#fdca26"
             ],
             [
              1,
              "#f0f921"
             ]
            ],
            "type": "surface"
           }
          ],
          "table": [
           {
            "cells": {
             "fill": {
              "color": "#EBF0F8"
             },
             "line": {
              "color": "white"
             }
            },
            "header": {
             "fill": {
              "color": "#C8D4E3"
             },
             "line": {
              "color": "white"
             }
            },
            "type": "table"
           }
          ]
         },
         "layout": {
          "annotationdefaults": {
           "arrowcolor": "#2a3f5f",
           "arrowhead": 0,
           "arrowwidth": 1
          },
          "autotypenumbers": "strict",
          "coloraxis": {
           "colorbar": {
            "outlinewidth": 0,
            "ticks": ""
           }
          },
          "colorscale": {
           "diverging": [
            [
             0,
             "#8e0152"
            ],
            [
             0.1,
             "#c51b7d"
            ],
            [
             0.2,
             "#de77ae"
            ],
            [
             0.3,
             "#f1b6da"
            ],
            [
             0.4,
             "#fde0ef"
            ],
            [
             0.5,
             "#f7f7f7"
            ],
            [
             0.6,
             "#e6f5d0"
            ],
            [
             0.7,
             "#b8e186"
            ],
            [
             0.8,
             "#7fbc41"
            ],
            [
             0.9,
             "#4d9221"
            ],
            [
             1,
             "#276419"
            ]
           ],
           "sequential": [
            [
             0,
             "#0d0887"
            ],
            [
             0.1111111111111111,
             "#46039f"
            ],
            [
             0.2222222222222222,
             "#7201a8"
            ],
            [
             0.3333333333333333,
             "#9c179e"
            ],
            [
             0.4444444444444444,
             "#bd3786"
            ],
            [
             0.5555555555555556,
             "#d8576b"
            ],
            [
             0.6666666666666666,
             "#ed7953"
            ],
            [
             0.7777777777777778,
             "#fb9f3a"
            ],
            [
             0.8888888888888888,
             "#fdca26"
            ],
            [
             1,
             "#f0f921"
            ]
           ],
           "sequentialminus": [
            [
             0,
             "#0d0887"
            ],
            [
             0.1111111111111111,
             "#46039f"
            ],
            [
             0.2222222222222222,
             "#7201a8"
            ],
            [
             0.3333333333333333,
             "#9c179e"
            ],
            [
             0.4444444444444444,
             "#bd3786"
            ],
            [
             0.5555555555555556,
             "#d8576b"
            ],
            [
             0.6666666666666666,
             "#ed7953"
            ],
            [
             0.7777777777777778,
             "#fb9f3a"
            ],
            [
             0.8888888888888888,
             "#fdca26"
            ],
            [
             1,
             "#f0f921"
            ]
           ]
          },
          "colorway": [
           "#636efa",
           "#EF553B",
           "#00cc96",
           "#ab63fa",
           "#FFA15A",
           "#19d3f3",
           "#FF6692",
           "#B6E880",
           "#FF97FF",
           "#FECB52"
          ],
          "font": {
           "color": "#2a3f5f"
          },
          "geo": {
           "bgcolor": "white",
           "lakecolor": "white",
           "landcolor": "#E5ECF6",
           "showlakes": true,
           "showland": true,
           "subunitcolor": "white"
          },
          "hoverlabel": {
           "align": "left"
          },
          "hovermode": "closest",
          "mapbox": {
           "style": "light"
          },
          "paper_bgcolor": "white",
          "plot_bgcolor": "#E5ECF6",
          "polar": {
           "angularaxis": {
            "gridcolor": "white",
            "linecolor": "white",
            "ticks": ""
           },
           "bgcolor": "#E5ECF6",
           "radialaxis": {
            "gridcolor": "white",
            "linecolor": "white",
            "ticks": ""
           }
          },
          "scene": {
           "xaxis": {
            "backgroundcolor": "#E5ECF6",
            "gridcolor": "white",
            "gridwidth": 2,
            "linecolor": "white",
            "showbackground": true,
            "ticks": "",
            "zerolinecolor": "white"
           },
           "yaxis": {
            "backgroundcolor": "#E5ECF6",
            "gridcolor": "white",
            "gridwidth": 2,
            "linecolor": "white",
            "showbackground": true,
            "ticks": "",
            "zerolinecolor": "white"
           },
           "zaxis": {
            "backgroundcolor": "#E5ECF6",
            "gridcolor": "white",
            "gridwidth": 2,
            "linecolor": "white",
            "showbackground": true,
            "ticks": "",
            "zerolinecolor": "white"
           }
          },
          "shapedefaults": {
           "line": {
            "color": "#2a3f5f"
           }
          },
          "ternary": {
           "aaxis": {
            "gridcolor": "white",
            "linecolor": "white",
            "ticks": ""
           },
           "baxis": {
            "gridcolor": "white",
            "linecolor": "white",
            "ticks": ""
           },
           "bgcolor": "#E5ECF6",
           "caxis": {
            "gridcolor": "white",
            "linecolor": "white",
            "ticks": ""
           }
          },
          "title": {
           "x": 0.05
          },
          "xaxis": {
           "automargin": true,
           "gridcolor": "white",
           "linecolor": "white",
           "ticks": "",
           "title": {
            "standoff": 15
           },
           "zerolinecolor": "white",
           "zerolinewidth": 2
          },
          "yaxis": {
           "automargin": true,
           "gridcolor": "white",
           "linecolor": "white",
           "ticks": "",
           "title": {
            "standoff": 15
           },
           "zerolinecolor": "white",
           "zerolinewidth": 2
          }
         }
        },
        "title": {
         "text": "Actual vs Predicted Sales"
        },
        "xaxis": {
         "title": {
          "text": "Index"
         }
        },
        "yaxis": {
         "title": {
          "text": "Sales"
         }
        }
       }
      },
      "text/html": [
       "<div>                            <div id=\"048accb1-659b-464c-abec-2750d9af032c\" class=\"plotly-graph-div\" style=\"height:525px; width:100%;\"></div>            <script type=\"text/javascript\">                require([\"plotly\"], function(Plotly) {                    window.PLOTLYENV=window.PLOTLYENV || {};                                    if (document.getElementById(\"048accb1-659b-464c-abec-2750d9af032c\")) {                    Plotly.newPlot(                        \"048accb1-659b-464c-abec-2750d9af032c\",                        [{\"name\":\"Actual\",\"x\":[0,1,2,3,4,5,6,7,8,9,10,11,12,13,14,15,16,17,18,19,20,21,22,23,24,25,26,27,28,29,30,31,32,33,34,35,36,37,38,39,40,41,42,43,44,45,46,47,48,49,50,51,52,53,54,55,56,57,58,59,60,61,62,63,64,65,66,67,68,69,70,71,72,73,74,75,76,77,78,79,80,81,82,83,84,85,86,87,88,89,90,91,92,93,94,95,96,97,98,99,100,101,102,103,104,105,106,107,108,109,110,111,112,113,114,115,116,117,118,119,120,121,122,123,124,125,126,127,128,129,130,131,132,133,134,135,136,137,138,139,140,141,142,143,144,145,146,147,148,149,150,151,152,153,154,155,156,157,158,159,160,161,162,163,164,165,166,167,168,169,170,171,172,173,174,175,176,177,178,179,180,181],\"y\":[15.424907969578227,15.606302225690166,15.448320211021331,15.528394554701348,15.400347841077412,15.545642376468876,15.475334693521143,15.421833122738208,15.461638098441163,15.481310278143035,15.591950953730215,15.480805982877401,15.37271209987534,15.475850688325494,15.542726172707201,15.56045834204189,15.376409799601833,15.498444719773577,15.475415703691388,15.358354504948391,15.49372565195926,15.566967862814748,15.493112038107986,15.555844706545836,15.437531372596748,15.437468763394774,15.528898041141403,15.33676349592163,15.430333942674713,15.460268315819816,15.448545067949487,15.475246544718681,15.656125586048878,15.442081360645318,15.316848650715235,15.407405081101023,15.514813854166743],\"type\":\"scatter\"},{\"name\":\"Predicted\",\"x\":[0,1,2,3,4,5,6,7,8,9,10,11,12,13,14,15,16,17,18,19,20,21,22,23,24,25,26,27,28,29,30,31,32,33,34,35,36,37,38,39,40,41,42,43,44,45,46,47,48,49,50,51,52,53,54,55,56,57,58,59,60,61,62,63,64,65,66,67,68,69,70,71,72,73,74,75,76,77,78,79,80,81,82,83,84,85,86,87,88,89,90,91,92,93,94,95,96,97,98,99,100,101,102,103,104,105,106,107,108,109,110,111,112,113,114,115,116,117,118,119,120,121,122,123,124,125,126,127,128,129,130,131,132,133,134,135,136,137,138,139,140,141,142,143,144,145,146,147,148,149,150,151,152,153,154,155,156,157,158,159,160,161,162,163,164,165,166,167,168,169,170,171,172,173,174,175,176,177,178,179,180,181],\"y\":[15.429744372636904,15.590750815811507,15.490675874267033,15.51170897375194,15.399642437561592,15.460289709619131,15.49724886355439,15.396506487484004,15.418434095963738,15.529987353246998,15.550857599266998,15.500740677231319,15.41108680920728,15.495694617249852,15.593986763717087,15.544578917944701,15.397058464556707,15.540769302898608,15.441993615556784,15.381579365745871,15.438340359961702,15.573237858012789,15.556123131010562,15.569500667925368,15.47998576212108,15.478141721278687,15.536517521465743,15.38134745617964,15.471954227374178,15.457426666587619,15.43094041789649,15.4528119137526,15.644912241712257,15.44335946963731,15.35323857991194,15.458494209392482,15.535419043421149],\"type\":\"scatter\"}],                        {\"title\":{\"text\":\"Actual vs Predicted Sales\"},\"xaxis\":{\"title\":{\"text\":\"Index\"}},\"yaxis\":{\"title\":{\"text\":\"Sales\"}},\"template\":{\"data\":{\"histogram2dcontour\":[{\"type\":\"histogram2dcontour\",\"colorbar\":{\"outlinewidth\":0,\"ticks\":\"\"},\"colorscale\":[[0.0,\"#0d0887\"],[0.1111111111111111,\"#46039f\"],[0.2222222222222222,\"#7201a8\"],[0.3333333333333333,\"#9c179e\"],[0.4444444444444444,\"#bd3786\"],[0.5555555555555556,\"#d8576b\"],[0.6666666666666666,\"#ed7953\"],[0.7777777777777778,\"#fb9f3a\"],[0.8888888888888888,\"#fdca26\"],[1.0,\"#f0f921\"]]}],\"choropleth\":[{\"type\":\"choropleth\",\"colorbar\":{\"outlinewidth\":0,\"ticks\":\"\"}}],\"histogram2d\":[{\"type\":\"histogram2d\",\"colorbar\":{\"outlinewidth\":0,\"ticks\":\"\"},\"colorscale\":[[0.0,\"#0d0887\"],[0.1111111111111111,\"#46039f\"],[0.2222222222222222,\"#7201a8\"],[0.3333333333333333,\"#9c179e\"],[0.4444444444444444,\"#bd3786\"],[0.5555555555555556,\"#d8576b\"],[0.6666666666666666,\"#ed7953\"],[0.7777777777777778,\"#fb9f3a\"],[0.8888888888888888,\"#fdca26\"],[1.0,\"#f0f921\"]]}],\"heatmap\":[{\"type\":\"heatmap\",\"colorbar\":{\"outlinewidth\":0,\"ticks\":\"\"},\"colorscale\":[[0.0,\"#0d0887\"],[0.1111111111111111,\"#46039f\"],[0.2222222222222222,\"#7201a8\"],[0.3333333333333333,\"#9c179e\"],[0.4444444444444444,\"#bd3786\"],[0.5555555555555556,\"#d8576b\"],[0.6666666666666666,\"#ed7953\"],[0.7777777777777778,\"#fb9f3a\"],[0.8888888888888888,\"#fdca26\"],[1.0,\"#f0f921\"]]}],\"heatmapgl\":[{\"type\":\"heatmapgl\",\"colorbar\":{\"outlinewidth\":0,\"ticks\":\"\"},\"colorscale\":[[0.0,\"#0d0887\"],[0.1111111111111111,\"#46039f\"],[0.2222222222222222,\"#7201a8\"],[0.3333333333333333,\"#9c179e\"],[0.4444444444444444,\"#bd3786\"],[0.5555555555555556,\"#d8576b\"],[0.6666666666666666,\"#ed7953\"],[0.7777777777777778,\"#fb9f3a\"],[0.8888888888888888,\"#fdca26\"],[1.0,\"#f0f921\"]]}],\"contourcarpet\":[{\"type\":\"contourcarpet\",\"colorbar\":{\"outlinewidth\":0,\"ticks\":\"\"}}],\"contour\":[{\"type\":\"contour\",\"colorbar\":{\"outlinewidth\":0,\"ticks\":\"\"},\"colorscale\":[[0.0,\"#0d0887\"],[0.1111111111111111,\"#46039f\"],[0.2222222222222222,\"#7201a8\"],[0.3333333333333333,\"#9c179e\"],[0.4444444444444444,\"#bd3786\"],[0.5555555555555556,\"#d8576b\"],[0.6666666666666666,\"#ed7953\"],[0.7777777777777778,\"#fb9f3a\"],[0.8888888888888888,\"#fdca26\"],[1.0,\"#f0f921\"]]}],\"surface\":[{\"type\":\"surface\",\"colorbar\":{\"outlinewidth\":0,\"ticks\":\"\"},\"colorscale\":[[0.0,\"#0d0887\"],[0.1111111111111111,\"#46039f\"],[0.2222222222222222,\"#7201a8\"],[0.3333333333333333,\"#9c179e\"],[0.4444444444444444,\"#bd3786\"],[0.5555555555555556,\"#d8576b\"],[0.6666666666666666,\"#ed7953\"],[0.7777777777777778,\"#fb9f3a\"],[0.8888888888888888,\"#fdca26\"],[1.0,\"#f0f921\"]]}],\"mesh3d\":[{\"type\":\"mesh3d\",\"colorbar\":{\"outlinewidth\":0,\"ticks\":\"\"}}],\"scatter\":[{\"fillpattern\":{\"fillmode\":\"overlay\",\"size\":10,\"solidity\":0.2},\"type\":\"scatter\"}],\"parcoords\":[{\"type\":\"parcoords\",\"line\":{\"colorbar\":{\"outlinewidth\":0,\"ticks\":\"\"}}}],\"scatterpolargl\":[{\"type\":\"scatterpolargl\",\"marker\":{\"colorbar\":{\"outlinewidth\":0,\"ticks\":\"\"}}}],\"bar\":[{\"error_x\":{\"color\":\"#2a3f5f\"},\"error_y\":{\"color\":\"#2a3f5f\"},\"marker\":{\"line\":{\"color\":\"#E5ECF6\",\"width\":0.5},\"pattern\":{\"fillmode\":\"overlay\",\"size\":10,\"solidity\":0.2}},\"type\":\"bar\"}],\"scattergeo\":[{\"type\":\"scattergeo\",\"marker\":{\"colorbar\":{\"outlinewidth\":0,\"ticks\":\"\"}}}],\"scatterpolar\":[{\"type\":\"scatterpolar\",\"marker\":{\"colorbar\":{\"outlinewidth\":0,\"ticks\":\"\"}}}],\"histogram\":[{\"marker\":{\"pattern\":{\"fillmode\":\"overlay\",\"size\":10,\"solidity\":0.2}},\"type\":\"histogram\"}],\"scattergl\":[{\"type\":\"scattergl\",\"marker\":{\"colorbar\":{\"outlinewidth\":0,\"ticks\":\"\"}}}],\"scatter3d\":[{\"type\":\"scatter3d\",\"line\":{\"colorbar\":{\"outlinewidth\":0,\"ticks\":\"\"}},\"marker\":{\"colorbar\":{\"outlinewidth\":0,\"ticks\":\"\"}}}],\"scattermapbox\":[{\"type\":\"scattermapbox\",\"marker\":{\"colorbar\":{\"outlinewidth\":0,\"ticks\":\"\"}}}],\"scatterternary\":[{\"type\":\"scatterternary\",\"marker\":{\"colorbar\":{\"outlinewidth\":0,\"ticks\":\"\"}}}],\"scattercarpet\":[{\"type\":\"scattercarpet\",\"marker\":{\"colorbar\":{\"outlinewidth\":0,\"ticks\":\"\"}}}],\"carpet\":[{\"aaxis\":{\"endlinecolor\":\"#2a3f5f\",\"gridcolor\":\"white\",\"linecolor\":\"white\",\"minorgridcolor\":\"white\",\"startlinecolor\":\"#2a3f5f\"},\"baxis\":{\"endlinecolor\":\"#2a3f5f\",\"gridcolor\":\"white\",\"linecolor\":\"white\",\"minorgridcolor\":\"white\",\"startlinecolor\":\"#2a3f5f\"},\"type\":\"carpet\"}],\"table\":[{\"cells\":{\"fill\":{\"color\":\"#EBF0F8\"},\"line\":{\"color\":\"white\"}},\"header\":{\"fill\":{\"color\":\"#C8D4E3\"},\"line\":{\"color\":\"white\"}},\"type\":\"table\"}],\"barpolar\":[{\"marker\":{\"line\":{\"color\":\"#E5ECF6\",\"width\":0.5},\"pattern\":{\"fillmode\":\"overlay\",\"size\":10,\"solidity\":0.2}},\"type\":\"barpolar\"}],\"pie\":[{\"automargin\":true,\"type\":\"pie\"}]},\"layout\":{\"autotypenumbers\":\"strict\",\"colorway\":[\"#636efa\",\"#EF553B\",\"#00cc96\",\"#ab63fa\",\"#FFA15A\",\"#19d3f3\",\"#FF6692\",\"#B6E880\",\"#FF97FF\",\"#FECB52\"],\"font\":{\"color\":\"#2a3f5f\"},\"hovermode\":\"closest\",\"hoverlabel\":{\"align\":\"left\"},\"paper_bgcolor\":\"white\",\"plot_bgcolor\":\"#E5ECF6\",\"polar\":{\"bgcolor\":\"#E5ECF6\",\"angularaxis\":{\"gridcolor\":\"white\",\"linecolor\":\"white\",\"ticks\":\"\"},\"radialaxis\":{\"gridcolor\":\"white\",\"linecolor\":\"white\",\"ticks\":\"\"}},\"ternary\":{\"bgcolor\":\"#E5ECF6\",\"aaxis\":{\"gridcolor\":\"white\",\"linecolor\":\"white\",\"ticks\":\"\"},\"baxis\":{\"gridcolor\":\"white\",\"linecolor\":\"white\",\"ticks\":\"\"},\"caxis\":{\"gridcolor\":\"white\",\"linecolor\":\"white\",\"ticks\":\"\"}},\"coloraxis\":{\"colorbar\":{\"outlinewidth\":0,\"ticks\":\"\"}},\"colorscale\":{\"sequential\":[[0.0,\"#0d0887\"],[0.1111111111111111,\"#46039f\"],[0.2222222222222222,\"#7201a8\"],[0.3333333333333333,\"#9c179e\"],[0.4444444444444444,\"#bd3786\"],[0.5555555555555556,\"#d8576b\"],[0.6666666666666666,\"#ed7953\"],[0.7777777777777778,\"#fb9f3a\"],[0.8888888888888888,\"#fdca26\"],[1.0,\"#f0f921\"]],\"sequentialminus\":[[0.0,\"#0d0887\"],[0.1111111111111111,\"#46039f\"],[0.2222222222222222,\"#7201a8\"],[0.3333333333333333,\"#9c179e\"],[0.4444444444444444,\"#bd3786\"],[0.5555555555555556,\"#d8576b\"],[0.6666666666666666,\"#ed7953\"],[0.7777777777777778,\"#fb9f3a\"],[0.8888888888888888,\"#fdca26\"],[1.0,\"#f0f921\"]],\"diverging\":[[0,\"#8e0152\"],[0.1,\"#c51b7d\"],[0.2,\"#de77ae\"],[0.3,\"#f1b6da\"],[0.4,\"#fde0ef\"],[0.5,\"#f7f7f7\"],[0.6,\"#e6f5d0\"],[0.7,\"#b8e186\"],[0.8,\"#7fbc41\"],[0.9,\"#4d9221\"],[1,\"#276419\"]]},\"xaxis\":{\"gridcolor\":\"white\",\"linecolor\":\"white\",\"ticks\":\"\",\"title\":{\"standoff\":15},\"zerolinecolor\":\"white\",\"automargin\":true,\"zerolinewidth\":2},\"yaxis\":{\"gridcolor\":\"white\",\"linecolor\":\"white\",\"ticks\":\"\",\"title\":{\"standoff\":15},\"zerolinecolor\":\"white\",\"automargin\":true,\"zerolinewidth\":2},\"scene\":{\"xaxis\":{\"backgroundcolor\":\"#E5ECF6\",\"gridcolor\":\"white\",\"linecolor\":\"white\",\"showbackground\":true,\"ticks\":\"\",\"zerolinecolor\":\"white\",\"gridwidth\":2},\"yaxis\":{\"backgroundcolor\":\"#E5ECF6\",\"gridcolor\":\"white\",\"linecolor\":\"white\",\"showbackground\":true,\"ticks\":\"\",\"zerolinecolor\":\"white\",\"gridwidth\":2},\"zaxis\":{\"backgroundcolor\":\"#E5ECF6\",\"gridcolor\":\"white\",\"linecolor\":\"white\",\"showbackground\":true,\"ticks\":\"\",\"zerolinecolor\":\"white\",\"gridwidth\":2}},\"shapedefaults\":{\"line\":{\"color\":\"#2a3f5f\"}},\"annotationdefaults\":{\"arrowcolor\":\"#2a3f5f\",\"arrowhead\":0,\"arrowwidth\":1},\"geo\":{\"bgcolor\":\"white\",\"landcolor\":\"#E5ECF6\",\"subunitcolor\":\"white\",\"showland\":true,\"showlakes\":true,\"lakecolor\":\"white\"},\"title\":{\"x\":0.05},\"mapbox\":{\"style\":\"light\"}}}},                        {\"responsive\": true}                    ).then(function(){\n",
       "                            \n",
       "var gd = document.getElementById('048accb1-659b-464c-abec-2750d9af032c');\n",
       "var x = new MutationObserver(function (mutations, observer) {{\n",
       "        var display = window.getComputedStyle(gd).display;\n",
       "        if (!display || display === 'none') {{\n",
       "            console.log([gd, 'removed!']);\n",
       "            Plotly.purge(gd);\n",
       "            observer.disconnect();\n",
       "        }}\n",
       "}});\n",
       "\n",
       "// Listen for the removal of the full notebook cells\n",
       "var notebookContainer = gd.closest('#notebook-container');\n",
       "if (notebookContainer) {{\n",
       "    x.observe(notebookContainer, {childList: true});\n",
       "}}\n",
       "\n",
       "// Listen for the clearing of the current output cell\n",
       "var outputEl = gd.closest('.output');\n",
       "if (outputEl) {{\n",
       "    x.observe(outputEl, {childList: true});\n",
       "}}\n",
       "\n",
       "                        })                };                });            </script>        </div>"
      ]
     },
     "metadata": {},
     "output_type": "display_data"
    }
   ],
   "source": [
    "# plot actual vs predicted sales\n",
    "import plotly.graph_objs as go\n",
    "import plotly.express as px\n",
    "import matplotlib.pyplot as plt\n",
    "trace_actual = go.Scatter(x=b.index, y=y_log_test, name='Actual')\n",
    "trace_predicted = go.Scatter(x=b.index, y=y_log_pred_test, name='Predicted')\n",
    "data = [trace_actual, trace_predicted]\n",
    "layout = go.Layout(title='Actual vs Predicted Sales', xaxis=dict(title='Index'), yaxis=dict(title='Sales'))\n",
    "fig = go.Figure(data=data, layout=layout)\n",
    "fig.show()"
   ]
  },
  {
   "cell_type": "code",
   "execution_count": null,
   "id": "c795756e",
   "metadata": {},
   "outputs": [],
   "source": []
  }
 ],
 "metadata": {
  "kernelspec": {
   "display_name": "Python 3 (ipykernel)",
   "language": "python",
   "name": "python3"
  },
  "language_info": {
   "codemirror_mode": {
    "name": "ipython",
    "version": 3
   },
   "file_extension": ".py",
   "mimetype": "text/x-python",
   "name": "python",
   "nbconvert_exporter": "python",
   "pygments_lexer": "ipython3",
   "version": "3.9.13"
  }
 },
 "nbformat": 4,
 "nbformat_minor": 5
}
