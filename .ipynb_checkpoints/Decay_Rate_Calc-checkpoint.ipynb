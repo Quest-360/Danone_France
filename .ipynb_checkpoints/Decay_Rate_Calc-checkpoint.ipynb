{
 "cells": [
  {
   "cell_type": "markdown",
   "id": "b6fd47b2",
   "metadata": {},
   "source": [
    "# Imports"
   ]
  },
  {
   "cell_type": "code",
   "execution_count": 66,
   "id": "6bd26321",
   "metadata": {},
   "outputs": [],
   "source": [
    "import pandas as pd\n",
    "import numpy as np\n",
    "import plotly.graph_objs as go\n",
    "import plotly.express as px\n",
    "import matplotlib.pyplot as plt\n",
    "from sklearn.feature_selection import RFE\n",
    "from sklearn.linear_model import LinearRegression\n",
    "import statsmodels.formula.api as smf\n",
    "import statsmodels.api as sm\n",
    "from sklearn.model_selection import train_test_split\n",
    "from sklearn.preprocessing import MinMaxScaler\n",
    "from sklearn.metrics import r2_score, mean_squared_error, mean_absolute_percentage_error\n",
    "import seaborn as sns"
   ]
  },
  {
   "cell_type": "code",
   "execution_count": 67,
   "id": "4ee24691",
   "metadata": {},
   "outputs": [],
   "source": [
    "df = pd.read_csv(\"ALL_DATA_COMBINED.csv\")"
   ]
  },
  {
   "cell_type": "code",
   "execution_count": 68,
   "id": "6c04b99f",
   "metadata": {},
   "outputs": [
    {
     "data": {
      "text/html": [
       "<div>\n",
       "<style scoped>\n",
       "    .dataframe tbody tr th:only-of-type {\n",
       "        vertical-align: middle;\n",
       "    }\n",
       "\n",
       "    .dataframe tbody tr th {\n",
       "        vertical-align: top;\n",
       "    }\n",
       "\n",
       "    .dataframe thead th {\n",
       "        text-align: right;\n",
       "    }\n",
       "</style>\n",
       "<table border=\"1\" class=\"dataframe\">\n",
       "  <thead>\n",
       "    <tr style=\"text-align: right;\">\n",
       "      <th></th>\n",
       "      <th>week_start</th>\n",
       "      <th>digital_catchuptv_bledina_brand-equity_spends</th>\n",
       "      <th>digital_dataretailers_bledina_brand-equity_spends</th>\n",
       "      <th>digital_directbuying_bledina_brand-equity_spends</th>\n",
       "      <th>digital_keywordtargeting_bledina_brand-equity_spends</th>\n",
       "      <th>digital_nativeads_bledina_brand-equity_spends</th>\n",
       "      <th>digital_programmatic_bledina_brand-equity_spends</th>\n",
       "      <th>digital_sea_bledina_brand-equity_spends</th>\n",
       "      <th>digital_social_bledina_brand-equity_spends</th>\n",
       "      <th>press_equity_bledina_brand-equity_spends</th>\n",
       "      <th>...</th>\n",
       "      <th>digital_social_bledina_product_spends</th>\n",
       "      <th>press_product_bledina_product_spends</th>\n",
       "      <th>tv_product_bledina_product_spends</th>\n",
       "      <th>promo_total_bledina_bledina_spends</th>\n",
       "      <th>retail_total_bledina_product_volume</th>\n",
       "      <th>retail_total_bledina_product_dvm</th>\n",
       "      <th>retail_total_bledina_product_price</th>\n",
       "      <th>competition_retail_competition_nonorganic_dvm</th>\n",
       "      <th>competition_retail_competition_nonorganic_price</th>\n",
       "      <th>Sales</th>\n",
       "    </tr>\n",
       "  </thead>\n",
       "  <tbody>\n",
       "    <tr>\n",
       "      <th>0</th>\n",
       "      <td>02-01-2017</td>\n",
       "      <td>0.01</td>\n",
       "      <td>0.0</td>\n",
       "      <td>0.01</td>\n",
       "      <td>0.0</td>\n",
       "      <td>2367.40</td>\n",
       "      <td>0.06</td>\n",
       "      <td>16089.49</td>\n",
       "      <td>0.01</td>\n",
       "      <td>0.0</td>\n",
       "      <td>...</td>\n",
       "      <td>0.0</td>\n",
       "      <td>0.0</td>\n",
       "      <td>0.0</td>\n",
       "      <td>7238.542484</td>\n",
       "      <td>1.159064e+06</td>\n",
       "      <td>67.142970</td>\n",
       "      <td>5.941145</td>\n",
       "      <td>49.752306</td>\n",
       "      <td>4.615065</td>\n",
       "      <td>6886165.0</td>\n",
       "    </tr>\n",
       "    <tr>\n",
       "      <th>1</th>\n",
       "      <td>09-01-2017</td>\n",
       "      <td>0.00</td>\n",
       "      <td>0.0</td>\n",
       "      <td>0.01</td>\n",
       "      <td>0.0</td>\n",
       "      <td>2785.65</td>\n",
       "      <td>0.05</td>\n",
       "      <td>11618.44</td>\n",
       "      <td>10034.99</td>\n",
       "      <td>0.0</td>\n",
       "      <td>...</td>\n",
       "      <td>0.0</td>\n",
       "      <td>0.0</td>\n",
       "      <td>0.0</td>\n",
       "      <td>20498.188230</td>\n",
       "      <td>9.700224e+05</td>\n",
       "      <td>63.112123</td>\n",
       "      <td>6.057041</td>\n",
       "      <td>45.138664</td>\n",
       "      <td>4.613792</td>\n",
       "      <td>5875465.0</td>\n",
       "    </tr>\n",
       "    <tr>\n",
       "      <th>2</th>\n",
       "      <td>16-01-2017</td>\n",
       "      <td>0.00</td>\n",
       "      <td>0.0</td>\n",
       "      <td>0.01</td>\n",
       "      <td>0.0</td>\n",
       "      <td>2708.31</td>\n",
       "      <td>0.08</td>\n",
       "      <td>10388.53</td>\n",
       "      <td>6955.56</td>\n",
       "      <td>0.0</td>\n",
       "      <td>...</td>\n",
       "      <td>0.0</td>\n",
       "      <td>0.0</td>\n",
       "      <td>0.0</td>\n",
       "      <td>104070.912100</td>\n",
       "      <td>1.004450e+06</td>\n",
       "      <td>64.281646</td>\n",
       "      <td>5.871734</td>\n",
       "      <td>50.758389</td>\n",
       "      <td>4.523880</td>\n",
       "      <td>5897865.0</td>\n",
       "    </tr>\n",
       "    <tr>\n",
       "      <th>3</th>\n",
       "      <td>23-01-2017</td>\n",
       "      <td>0.00</td>\n",
       "      <td>0.0</td>\n",
       "      <td>0.00</td>\n",
       "      <td>0.0</td>\n",
       "      <td>2473.94</td>\n",
       "      <td>0.08</td>\n",
       "      <td>9699.73</td>\n",
       "      <td>4630.01</td>\n",
       "      <td>0.0</td>\n",
       "      <td>...</td>\n",
       "      <td>0.0</td>\n",
       "      <td>0.0</td>\n",
       "      <td>0.0</td>\n",
       "      <td>67294.616930</td>\n",
       "      <td>9.012154e+05</td>\n",
       "      <td>63.696530</td>\n",
       "      <td>6.026822</td>\n",
       "      <td>51.561729</td>\n",
       "      <td>4.645751</td>\n",
       "      <td>5431465.0</td>\n",
       "    </tr>\n",
       "    <tr>\n",
       "      <th>4</th>\n",
       "      <td>30-01-2017</td>\n",
       "      <td>0.00</td>\n",
       "      <td>0.0</td>\n",
       "      <td>0.01</td>\n",
       "      <td>0.0</td>\n",
       "      <td>618.99</td>\n",
       "      <td>0.01</td>\n",
       "      <td>6182.01</td>\n",
       "      <td>2911.88</td>\n",
       "      <td>0.0</td>\n",
       "      <td>...</td>\n",
       "      <td>0.0</td>\n",
       "      <td>0.0</td>\n",
       "      <td>0.0</td>\n",
       "      <td>46532.729780</td>\n",
       "      <td>9.233847e+05</td>\n",
       "      <td>64.752914</td>\n",
       "      <td>5.953575</td>\n",
       "      <td>51.450668</td>\n",
       "      <td>4.707299</td>\n",
       "      <td>5497440.0</td>\n",
       "    </tr>\n",
       "  </tbody>\n",
       "</table>\n",
       "<p>5 rows × 52 columns</p>\n",
       "</div>"
      ],
      "text/plain": [
       "   week_start  digital_catchuptv_bledina_brand-equity_spends  \\\n",
       "0  02-01-2017                                           0.01   \n",
       "1  09-01-2017                                           0.00   \n",
       "2  16-01-2017                                           0.00   \n",
       "3  23-01-2017                                           0.00   \n",
       "4  30-01-2017                                           0.00   \n",
       "\n",
       "   digital_dataretailers_bledina_brand-equity_spends  \\\n",
       "0                                                0.0   \n",
       "1                                                0.0   \n",
       "2                                                0.0   \n",
       "3                                                0.0   \n",
       "4                                                0.0   \n",
       "\n",
       "   digital_directbuying_bledina_brand-equity_spends  \\\n",
       "0                                              0.01   \n",
       "1                                              0.01   \n",
       "2                                              0.01   \n",
       "3                                              0.00   \n",
       "4                                              0.01   \n",
       "\n",
       "   digital_keywordtargeting_bledina_brand-equity_spends  \\\n",
       "0                                                0.0      \n",
       "1                                                0.0      \n",
       "2                                                0.0      \n",
       "3                                                0.0      \n",
       "4                                                0.0      \n",
       "\n",
       "   digital_nativeads_bledina_brand-equity_spends  \\\n",
       "0                                        2367.40   \n",
       "1                                        2785.65   \n",
       "2                                        2708.31   \n",
       "3                                        2473.94   \n",
       "4                                         618.99   \n",
       "\n",
       "   digital_programmatic_bledina_brand-equity_spends  \\\n",
       "0                                              0.06   \n",
       "1                                              0.05   \n",
       "2                                              0.08   \n",
       "3                                              0.08   \n",
       "4                                              0.01   \n",
       "\n",
       "   digital_sea_bledina_brand-equity_spends  \\\n",
       "0                                 16089.49   \n",
       "1                                 11618.44   \n",
       "2                                 10388.53   \n",
       "3                                  9699.73   \n",
       "4                                  6182.01   \n",
       "\n",
       "   digital_social_bledina_brand-equity_spends  \\\n",
       "0                                        0.01   \n",
       "1                                    10034.99   \n",
       "2                                     6955.56   \n",
       "3                                     4630.01   \n",
       "4                                     2911.88   \n",
       "\n",
       "   press_equity_bledina_brand-equity_spends  ...  \\\n",
       "0                                       0.0  ...   \n",
       "1                                       0.0  ...   \n",
       "2                                       0.0  ...   \n",
       "3                                       0.0  ...   \n",
       "4                                       0.0  ...   \n",
       "\n",
       "   digital_social_bledina_product_spends  \\\n",
       "0                                    0.0   \n",
       "1                                    0.0   \n",
       "2                                    0.0   \n",
       "3                                    0.0   \n",
       "4                                    0.0   \n",
       "\n",
       "   press_product_bledina_product_spends  tv_product_bledina_product_spends  \\\n",
       "0                                   0.0                                0.0   \n",
       "1                                   0.0                                0.0   \n",
       "2                                   0.0                                0.0   \n",
       "3                                   0.0                                0.0   \n",
       "4                                   0.0                                0.0   \n",
       "\n",
       "   promo_total_bledina_bledina_spends  retail_total_bledina_product_volume  \\\n",
       "0                         7238.542484                         1.159064e+06   \n",
       "1                        20498.188230                         9.700224e+05   \n",
       "2                       104070.912100                         1.004450e+06   \n",
       "3                        67294.616930                         9.012154e+05   \n",
       "4                        46532.729780                         9.233847e+05   \n",
       "\n",
       "   retail_total_bledina_product_dvm  retail_total_bledina_product_price  \\\n",
       "0                         67.142970                            5.941145   \n",
       "1                         63.112123                            6.057041   \n",
       "2                         64.281646                            5.871734   \n",
       "3                         63.696530                            6.026822   \n",
       "4                         64.752914                            5.953575   \n",
       "\n",
       "   competition_retail_competition_nonorganic_dvm  \\\n",
       "0                                      49.752306   \n",
       "1                                      45.138664   \n",
       "2                                      50.758389   \n",
       "3                                      51.561729   \n",
       "4                                      51.450668   \n",
       "\n",
       "   competition_retail_competition_nonorganic_price      Sales  \n",
       "0                                         4.615065  6886165.0  \n",
       "1                                         4.613792  5875465.0  \n",
       "2                                         4.523880  5897865.0  \n",
       "3                                         4.645751  5431465.0  \n",
       "4                                         4.707299  5497440.0  \n",
       "\n",
       "[5 rows x 52 columns]"
      ]
     },
     "execution_count": 68,
     "metadata": {},
     "output_type": "execute_result"
    }
   ],
   "source": [
    "df.head()"
   ]
  },
  {
   "cell_type": "code",
   "execution_count": 69,
   "id": "6eceba18",
   "metadata": {},
   "outputs": [
    {
     "data": {
      "text/plain": [
       "['week_start',\n",
       " 'digital_catchuptv_bledina_brand-equity_spends',\n",
       " 'digital_dataretailers_bledina_brand-equity_spends',\n",
       " 'digital_directbuying_bledina_brand-equity_spends',\n",
       " 'digital_keywordtargeting_bledina_brand-equity_spends',\n",
       " 'digital_nativeads_bledina_brand-equity_spends',\n",
       " 'digital_programmatic_bledina_brand-equity_spends',\n",
       " 'digital_sea_bledina_brand-equity_spends',\n",
       " 'digital_social_bledina_brand-equity_spends',\n",
       " 'press_equity_bledina_brand-equity_spends',\n",
       " 'tv_equity_bledina_brand-equity_spends',\n",
       " 'digital_dataretailers_bledina_brand-range_spends',\n",
       " 'digital_directbuying_bledina_brand-range_spends',\n",
       " 'digital_keywordtargeting_bledina_brand-range_spends',\n",
       " 'digital_programmatic_bledina_brand-range_spends',\n",
       " 'digital_sea_bledina_brand-range_spends',\n",
       " 'digital_social_bledina_brand-range_spends',\n",
       " 'press_product_bledina_brand-range_spends',\n",
       " 'app_total_bledina_brand_visits',\n",
       " 'crm_automatic_bledina_brand_emails',\n",
       " 'crm_event_bledina_brand_emails',\n",
       " 'website_total_bledina_brand_visits',\n",
       " 'competition_digital_competition-nestle_total_spends',\n",
       " 'competition_digital_competition-others_total_spends',\n",
       " 'competition_ooh_competition-nestle_total_spends',\n",
       " 'competition_ooh_competition-others_total_spends',\n",
       " 'competition_press_competition-nestle_total_spends',\n",
       " 'competition_press_competition-others_total_spends',\n",
       " 'competition_tv_competition-nestle_total_spends',\n",
       " 'competition_tv_competition-others_total_spends',\n",
       " 'macroeconomic_total_total_total_cci',\n",
       " 'macroeconomic_total_total_total_holiday',\n",
       " 'macroeconomic_total_total_total_livebirths',\n",
       " 'macroeconomic_total_total_total_lockdownflag',\n",
       " 'macroeconomic_total_total_total_population',\n",
       " 'macroeconomic_total_total_total_unemploymentrate',\n",
       " 'macroeconomic_total_total_total_weeklycases',\n",
       " 'macroeconomic_total_total_total_weeklydeath',\n",
       " 'digital_catchuptv_bledina_product_spends',\n",
       " 'digital_dataretailers_bledina_product_spends',\n",
       " 'digital_keywordtargeting_bledina_product_spends',\n",
       " 'digital_programmatic_bledina_product_spends',\n",
       " 'digital_social_bledina_product_spends',\n",
       " 'press_product_bledina_product_spends',\n",
       " 'tv_product_bledina_product_spends',\n",
       " 'promo_total_bledina_bledina_spends',\n",
       " 'retail_total_bledina_product_volume',\n",
       " 'retail_total_bledina_product_dvm',\n",
       " 'retail_total_bledina_product_price',\n",
       " 'competition_retail_competition_nonorganic_dvm',\n",
       " 'competition_retail_competition_nonorganic_price',\n",
       " 'Sales']"
      ]
     },
     "execution_count": 69,
     "metadata": {},
     "output_type": "execute_result"
    }
   ],
   "source": [
    "df.columns.tolist()"
   ]
  },
  {
   "cell_type": "markdown",
   "id": "c7d5d61c",
   "metadata": {},
   "source": [
    "# DF splits on Digital , Non-Digital, Promo"
   ]
  },
  {
   "cell_type": "code",
   "execution_count": 70,
   "id": "36a8ad25",
   "metadata": {},
   "outputs": [],
   "source": [
    "digital_columns = [col for col in df.columns if 'digital' in col.lower()]"
   ]
  },
  {
   "cell_type": "code",
   "execution_count": 71,
   "id": "d3b4ae8e",
   "metadata": {},
   "outputs": [],
   "source": [
    "Digital=df[digital_columns]"
   ]
  },
  {
   "cell_type": "code",
   "execution_count": 72,
   "id": "9b0c2487",
   "metadata": {},
   "outputs": [],
   "source": [
    "promo_columns = [col for col in df.columns if 'promo' in col.lower()]"
   ]
  },
  {
   "cell_type": "code",
   "execution_count": 73,
   "id": "95a5f76c",
   "metadata": {},
   "outputs": [],
   "source": [
    "Promo=df[promo_columns]"
   ]
  },
  {
   "cell_type": "code",
   "execution_count": 74,
   "id": "bf1ca806",
   "metadata": {},
   "outputs": [],
   "source": [
    "non_digital_columns= [col for col in df.columns if 'spends' in col.lower() and 'digital' not in col.lower() and 'competition' not in col.lower()]"
   ]
  },
  {
   "cell_type": "code",
   "execution_count": 75,
   "id": "08dbbcce",
   "metadata": {},
   "outputs": [],
   "source": [
    "non_digital_columns.remove('promo_total_bledina_bledina_spends')"
   ]
  },
  {
   "cell_type": "code",
   "execution_count": 76,
   "id": "4e154eb1",
   "metadata": {},
   "outputs": [],
   "source": [
    "Non_Digital=df[non_digital_columns]"
   ]
  },
  {
   "cell_type": "code",
   "execution_count": 77,
   "id": "ecddef29",
   "metadata": {},
   "outputs": [
    {
     "data": {
      "text/html": [
       "<div>\n",
       "<style scoped>\n",
       "    .dataframe tbody tr th:only-of-type {\n",
       "        vertical-align: middle;\n",
       "    }\n",
       "\n",
       "    .dataframe tbody tr th {\n",
       "        vertical-align: top;\n",
       "    }\n",
       "\n",
       "    .dataframe thead th {\n",
       "        text-align: right;\n",
       "    }\n",
       "</style>\n",
       "<table border=\"1\" class=\"dataframe\">\n",
       "  <thead>\n",
       "    <tr style=\"text-align: right;\">\n",
       "      <th></th>\n",
       "      <th>press_equity_bledina_brand-equity_spends</th>\n",
       "      <th>tv_equity_bledina_brand-equity_spends</th>\n",
       "      <th>press_product_bledina_brand-range_spends</th>\n",
       "      <th>press_product_bledina_product_spends</th>\n",
       "      <th>tv_product_bledina_product_spends</th>\n",
       "    </tr>\n",
       "  </thead>\n",
       "  <tbody>\n",
       "    <tr>\n",
       "      <th>0</th>\n",
       "      <td>0.0</td>\n",
       "      <td>2369.390000</td>\n",
       "      <td>0</td>\n",
       "      <td>0.0</td>\n",
       "      <td>0.0</td>\n",
       "    </tr>\n",
       "    <tr>\n",
       "      <th>1</th>\n",
       "      <td>0.0</td>\n",
       "      <td>2470.600000</td>\n",
       "      <td>0</td>\n",
       "      <td>0.0</td>\n",
       "      <td>0.0</td>\n",
       "    </tr>\n",
       "    <tr>\n",
       "      <th>2</th>\n",
       "      <td>0.0</td>\n",
       "      <td>2470.600000</td>\n",
       "      <td>0</td>\n",
       "      <td>0.0</td>\n",
       "      <td>0.0</td>\n",
       "    </tr>\n",
       "    <tr>\n",
       "      <th>3</th>\n",
       "      <td>0.0</td>\n",
       "      <td>2470.600000</td>\n",
       "      <td>0</td>\n",
       "      <td>0.0</td>\n",
       "      <td>0.0</td>\n",
       "    </tr>\n",
       "    <tr>\n",
       "      <th>4</th>\n",
       "      <td>0.0</td>\n",
       "      <td>2463.250000</td>\n",
       "      <td>0</td>\n",
       "      <td>0.0</td>\n",
       "      <td>0.0</td>\n",
       "    </tr>\n",
       "    <tr>\n",
       "      <th>...</th>\n",
       "      <td>...</td>\n",
       "      <td>...</td>\n",
       "      <td>...</td>\n",
       "      <td>...</td>\n",
       "      <td>...</td>\n",
       "    </tr>\n",
       "    <tr>\n",
       "      <th>177</th>\n",
       "      <td>0.0</td>\n",
       "      <td>2777.054278</td>\n",
       "      <td>0</td>\n",
       "      <td>0.0</td>\n",
       "      <td>0.0</td>\n",
       "    </tr>\n",
       "    <tr>\n",
       "      <th>178</th>\n",
       "      <td>0.0</td>\n",
       "      <td>2347.751201</td>\n",
       "      <td>0</td>\n",
       "      <td>0.0</td>\n",
       "      <td>0.0</td>\n",
       "    </tr>\n",
       "    <tr>\n",
       "      <th>179</th>\n",
       "      <td>0.0</td>\n",
       "      <td>3132.570888</td>\n",
       "      <td>0</td>\n",
       "      <td>0.0</td>\n",
       "      <td>0.0</td>\n",
       "    </tr>\n",
       "    <tr>\n",
       "      <th>180</th>\n",
       "      <td>0.0</td>\n",
       "      <td>3132.570888</td>\n",
       "      <td>0</td>\n",
       "      <td>0.0</td>\n",
       "      <td>0.0</td>\n",
       "    </tr>\n",
       "    <tr>\n",
       "      <th>181</th>\n",
       "      <td>0.0</td>\n",
       "      <td>2441.661249</td>\n",
       "      <td>0</td>\n",
       "      <td>0.0</td>\n",
       "      <td>0.0</td>\n",
       "    </tr>\n",
       "  </tbody>\n",
       "</table>\n",
       "<p>182 rows × 5 columns</p>\n",
       "</div>"
      ],
      "text/plain": [
       "     press_equity_bledina_brand-equity_spends  \\\n",
       "0                                         0.0   \n",
       "1                                         0.0   \n",
       "2                                         0.0   \n",
       "3                                         0.0   \n",
       "4                                         0.0   \n",
       "..                                        ...   \n",
       "177                                       0.0   \n",
       "178                                       0.0   \n",
       "179                                       0.0   \n",
       "180                                       0.0   \n",
       "181                                       0.0   \n",
       "\n",
       "     tv_equity_bledina_brand-equity_spends  \\\n",
       "0                              2369.390000   \n",
       "1                              2470.600000   \n",
       "2                              2470.600000   \n",
       "3                              2470.600000   \n",
       "4                              2463.250000   \n",
       "..                                     ...   \n",
       "177                            2777.054278   \n",
       "178                            2347.751201   \n",
       "179                            3132.570888   \n",
       "180                            3132.570888   \n",
       "181                            2441.661249   \n",
       "\n",
       "     press_product_bledina_brand-range_spends  \\\n",
       "0                                           0   \n",
       "1                                           0   \n",
       "2                                           0   \n",
       "3                                           0   \n",
       "4                                           0   \n",
       "..                                        ...   \n",
       "177                                         0   \n",
       "178                                         0   \n",
       "179                                         0   \n",
       "180                                         0   \n",
       "181                                         0   \n",
       "\n",
       "     press_product_bledina_product_spends  tv_product_bledina_product_spends  \n",
       "0                                     0.0                                0.0  \n",
       "1                                     0.0                                0.0  \n",
       "2                                     0.0                                0.0  \n",
       "3                                     0.0                                0.0  \n",
       "4                                     0.0                                0.0  \n",
       "..                                    ...                                ...  \n",
       "177                                   0.0                                0.0  \n",
       "178                                   0.0                                0.0  \n",
       "179                                   0.0                                0.0  \n",
       "180                                   0.0                                0.0  \n",
       "181                                   0.0                                0.0  \n",
       "\n",
       "[182 rows x 5 columns]"
      ]
     },
     "execution_count": 77,
     "metadata": {},
     "output_type": "execute_result"
    }
   ],
   "source": [
    "Non_Digital"
   ]
  },
  {
   "cell_type": "code",
   "execution_count": 78,
   "id": "b4ea9dc5",
   "metadata": {},
   "outputs": [],
   "source": [
    "Digital=Digital.drop(['competition_digital_competition-nestle_total_spends','competition_digital_competition-others_total_spends'],axis=1)"
   ]
  },
  {
   "cell_type": "markdown",
   "id": "1752fba0",
   "metadata": {},
   "source": [
    "# Aggreate"
   ]
  },
  {
   "cell_type": "code",
   "execution_count": 79,
   "id": "ffbe42f0",
   "metadata": {},
   "outputs": [],
   "source": [
    "def row_sum(row):\n",
    "    return row.iloc[1:].sum()"
   ]
  },
  {
   "cell_type": "markdown",
   "id": "7eec06c6",
   "metadata": {},
   "source": [
    "# Non Digital"
   ]
  },
  {
   "cell_type": "code",
   "execution_count": 80,
   "id": "0006e541",
   "metadata": {},
   "outputs": [
    {
     "name": "stderr",
     "output_type": "stream",
     "text": [
      "C:\\Users\\AniruddhaMistry\\AppData\\Local\\Temp\\ipykernel_6088\\4169463997.py:1: SettingWithCopyWarning: \n",
      "A value is trying to be set on a copy of a slice from a DataFrame.\n",
      "Try using .loc[row_indexer,col_indexer] = value instead\n",
      "\n",
      "See the caveats in the documentation: https://pandas.pydata.org/pandas-docs/stable/user_guide/indexing.html#returning-a-view-versus-a-copy\n",
      "  Non_Digital['Non_Digital_Sum'] = Non_Digital.apply(row_sum,axis=1)\n"
     ]
    }
   ],
   "source": [
    "Non_Digital['Non_Digital_Sum'] = Non_Digital.apply(row_sum,axis=1)"
   ]
  },
  {
   "cell_type": "markdown",
   "id": "8dcec076",
   "metadata": {},
   "source": [
    "# Digital "
   ]
  },
  {
   "cell_type": "code",
   "execution_count": 81,
   "id": "69d79f23",
   "metadata": {},
   "outputs": [],
   "source": [
    "Digital['Digital_Sum'] = Digital.apply(row_sum, axis=1)"
   ]
  },
  {
   "cell_type": "markdown",
   "id": "1ab8c75a",
   "metadata": {},
   "source": [
    "# Promo"
   ]
  },
  {
   "cell_type": "code",
   "execution_count": 82,
   "id": "dd3c2443",
   "metadata": {},
   "outputs": [
    {
     "data": {
      "text/html": [
       "<div>\n",
       "<style scoped>\n",
       "    .dataframe tbody tr th:only-of-type {\n",
       "        vertical-align: middle;\n",
       "    }\n",
       "\n",
       "    .dataframe tbody tr th {\n",
       "        vertical-align: top;\n",
       "    }\n",
       "\n",
       "    .dataframe thead th {\n",
       "        text-align: right;\n",
       "    }\n",
       "</style>\n",
       "<table border=\"1\" class=\"dataframe\">\n",
       "  <thead>\n",
       "    <tr style=\"text-align: right;\">\n",
       "      <th></th>\n",
       "      <th>promo_total_bledina_bledina_spends</th>\n",
       "    </tr>\n",
       "  </thead>\n",
       "  <tbody>\n",
       "    <tr>\n",
       "      <th>0</th>\n",
       "      <td>7238.542484</td>\n",
       "    </tr>\n",
       "    <tr>\n",
       "      <th>1</th>\n",
       "      <td>20498.188230</td>\n",
       "    </tr>\n",
       "    <tr>\n",
       "      <th>2</th>\n",
       "      <td>104070.912100</td>\n",
       "    </tr>\n",
       "    <tr>\n",
       "      <th>3</th>\n",
       "      <td>67294.616930</td>\n",
       "    </tr>\n",
       "    <tr>\n",
       "      <th>4</th>\n",
       "      <td>46532.729780</td>\n",
       "    </tr>\n",
       "    <tr>\n",
       "      <th>...</th>\n",
       "      <td>...</td>\n",
       "    </tr>\n",
       "    <tr>\n",
       "      <th>177</th>\n",
       "      <td>23682.980950</td>\n",
       "    </tr>\n",
       "    <tr>\n",
       "      <th>178</th>\n",
       "      <td>15803.450730</td>\n",
       "    </tr>\n",
       "    <tr>\n",
       "      <th>179</th>\n",
       "      <td>2392.235897</td>\n",
       "    </tr>\n",
       "    <tr>\n",
       "      <th>180</th>\n",
       "      <td>13390.429120</td>\n",
       "    </tr>\n",
       "    <tr>\n",
       "      <th>181</th>\n",
       "      <td>23858.509340</td>\n",
       "    </tr>\n",
       "  </tbody>\n",
       "</table>\n",
       "<p>182 rows × 1 columns</p>\n",
       "</div>"
      ],
      "text/plain": [
       "     promo_total_bledina_bledina_spends\n",
       "0                           7238.542484\n",
       "1                          20498.188230\n",
       "2                         104070.912100\n",
       "3                          67294.616930\n",
       "4                          46532.729780\n",
       "..                                  ...\n",
       "177                        23682.980950\n",
       "178                        15803.450730\n",
       "179                         2392.235897\n",
       "180                        13390.429120\n",
       "181                        23858.509340\n",
       "\n",
       "[182 rows x 1 columns]"
      ]
     },
     "execution_count": 82,
     "metadata": {},
     "output_type": "execute_result"
    }
   ],
   "source": [
    "Promo"
   ]
  },
  {
   "cell_type": "markdown",
   "id": "9f0eb5fb",
   "metadata": {},
   "source": [
    "# Time-Period"
   ]
  },
  {
   "cell_type": "code",
   "execution_count": 83,
   "id": "df26512f",
   "metadata": {},
   "outputs": [
    {
     "data": {
      "text/plain": [
       "0    02-01-2017\n",
       "Name: week_start, dtype: object"
      ]
     },
     "execution_count": 83,
     "metadata": {},
     "output_type": "execute_result"
    }
   ],
   "source": [
    "df['week_start'].head(1)"
   ]
  },
  {
   "cell_type": "code",
   "execution_count": 84,
   "id": "a0dd6518",
   "metadata": {},
   "outputs": [
    {
     "data": {
      "text/plain": [
       "181    22-06-2020\n",
       "Name: week_start, dtype: object"
      ]
     },
     "execution_count": 84,
     "metadata": {},
     "output_type": "execute_result"
    }
   ],
   "source": [
    "df['week_start'].tail(1)"
   ]
  },
  {
   "cell_type": "markdown",
   "id": "793d777c",
   "metadata": {},
   "source": [
    "# Convert week_start to datetime"
   ]
  },
  {
   "cell_type": "code",
   "execution_count": 85,
   "id": "bb171140",
   "metadata": {},
   "outputs": [],
   "source": [
    "df['week_start'] = pd.to_datetime(df['week_start'], format='%d-%m-%Y')"
   ]
  },
  {
   "cell_type": "markdown",
   "id": "bff7c241",
   "metadata": {},
   "source": [
    "# KPI"
   ]
  },
  {
   "cell_type": "code",
   "execution_count": 86,
   "id": "ffedc530",
   "metadata": {},
   "outputs": [],
   "source": [
    "kpi = ['week_start','crm_automatic_bledina_brand_emails','website_total_bledina_brand_visits','retail_total_bledina_product_dvm','Sales']"
   ]
  },
  {
   "cell_type": "code",
   "execution_count": 87,
   "id": "3205939f",
   "metadata": {},
   "outputs": [],
   "source": [
    "KPI_df = df[kpi]"
   ]
  },
  {
   "cell_type": "code",
   "execution_count": 88,
   "id": "6f2ea86d",
   "metadata": {},
   "outputs": [
    {
     "name": "stderr",
     "output_type": "stream",
     "text": [
      "C:\\Users\\AniruddhaMistry\\AppData\\Local\\Temp\\ipykernel_6088\\2750205986.py:1: SettingWithCopyWarning: \n",
      "A value is trying to be set on a copy of a slice from a DataFrame.\n",
      "Try using .loc[row_indexer,col_indexer] = value instead\n",
      "\n",
      "See the caveats in the documentation: https://pandas.pydata.org/pandas-docs/stable/user_guide/indexing.html#returning-a-view-versus-a-copy\n",
      "  KPI_df['Digital'] = Digital['Digital_Sum']\n"
     ]
    }
   ],
   "source": [
    "KPI_df['Digital'] = Digital['Digital_Sum']"
   ]
  },
  {
   "cell_type": "code",
   "execution_count": 89,
   "id": "4bdb2ab2",
   "metadata": {},
   "outputs": [
    {
     "name": "stderr",
     "output_type": "stream",
     "text": [
      "C:\\Users\\AniruddhaMistry\\AppData\\Local\\Temp\\ipykernel_6088\\2141172397.py:1: SettingWithCopyWarning: \n",
      "A value is trying to be set on a copy of a slice from a DataFrame.\n",
      "Try using .loc[row_indexer,col_indexer] = value instead\n",
      "\n",
      "See the caveats in the documentation: https://pandas.pydata.org/pandas-docs/stable/user_guide/indexing.html#returning-a-view-versus-a-copy\n",
      "  KPI_df['Non_Digital'] = Non_Digital['Non_Digital_Sum']\n"
     ]
    }
   ],
   "source": [
    "KPI_df['Non_Digital'] = Non_Digital['Non_Digital_Sum']"
   ]
  },
  {
   "cell_type": "code",
   "execution_count": 90,
   "id": "3d3cbeb2",
   "metadata": {},
   "outputs": [
    {
     "name": "stderr",
     "output_type": "stream",
     "text": [
      "C:\\Users\\AniruddhaMistry\\AppData\\Local\\Temp\\ipykernel_6088\\1598446203.py:1: SettingWithCopyWarning: \n",
      "A value is trying to be set on a copy of a slice from a DataFrame.\n",
      "Try using .loc[row_indexer,col_indexer] = value instead\n",
      "\n",
      "See the caveats in the documentation: https://pandas.pydata.org/pandas-docs/stable/user_guide/indexing.html#returning-a-view-versus-a-copy\n",
      "  KPI_df['Promo'] = Promo['promo_total_bledina_bledina_spends']\n"
     ]
    }
   ],
   "source": [
    "KPI_df['Promo'] = Promo['promo_total_bledina_bledina_spends']"
   ]
  },
  {
   "cell_type": "code",
   "execution_count": 91,
   "id": "82443ff0",
   "metadata": {},
   "outputs": [
    {
     "data": {
      "text/html": [
       "<div>\n",
       "<style scoped>\n",
       "    .dataframe tbody tr th:only-of-type {\n",
       "        vertical-align: middle;\n",
       "    }\n",
       "\n",
       "    .dataframe tbody tr th {\n",
       "        vertical-align: top;\n",
       "    }\n",
       "\n",
       "    .dataframe thead th {\n",
       "        text-align: right;\n",
       "    }\n",
       "</style>\n",
       "<table border=\"1\" class=\"dataframe\">\n",
       "  <thead>\n",
       "    <tr style=\"text-align: right;\">\n",
       "      <th></th>\n",
       "      <th>week_start</th>\n",
       "      <th>crm_automatic_bledina_brand_emails</th>\n",
       "      <th>website_total_bledina_brand_visits</th>\n",
       "      <th>retail_total_bledina_product_dvm</th>\n",
       "      <th>Sales</th>\n",
       "      <th>Digital</th>\n",
       "      <th>Non_Digital</th>\n",
       "      <th>Promo</th>\n",
       "    </tr>\n",
       "  </thead>\n",
       "  <tbody>\n",
       "    <tr>\n",
       "      <th>0</th>\n",
       "      <td>2017-01-02</td>\n",
       "      <td>21274.0000</td>\n",
       "      <td>186007</td>\n",
       "      <td>67.142970</td>\n",
       "      <td>6886165.0</td>\n",
       "      <td>18456.970000</td>\n",
       "      <td>2369.390000</td>\n",
       "      <td>7238.542484</td>\n",
       "    </tr>\n",
       "    <tr>\n",
       "      <th>1</th>\n",
       "      <td>2017-01-09</td>\n",
       "      <td>41976.0000</td>\n",
       "      <td>141778</td>\n",
       "      <td>63.112123</td>\n",
       "      <td>5875465.0</td>\n",
       "      <td>24439.140000</td>\n",
       "      <td>2470.600000</td>\n",
       "      <td>20498.188230</td>\n",
       "    </tr>\n",
       "    <tr>\n",
       "      <th>2</th>\n",
       "      <td>2017-01-16</td>\n",
       "      <td>24593.0000</td>\n",
       "      <td>130202</td>\n",
       "      <td>64.281646</td>\n",
       "      <td>5897865.0</td>\n",
       "      <td>20052.500000</td>\n",
       "      <td>2470.600000</td>\n",
       "      <td>104070.912100</td>\n",
       "    </tr>\n",
       "    <tr>\n",
       "      <th>3</th>\n",
       "      <td>2017-01-23</td>\n",
       "      <td>6784.0000</td>\n",
       "      <td>111688</td>\n",
       "      <td>63.696530</td>\n",
       "      <td>5431465.0</td>\n",
       "      <td>16803.770000</td>\n",
       "      <td>2470.600000</td>\n",
       "      <td>67294.616930</td>\n",
       "    </tr>\n",
       "    <tr>\n",
       "      <th>4</th>\n",
       "      <td>2017-01-30</td>\n",
       "      <td>23766.0000</td>\n",
       "      <td>81460</td>\n",
       "      <td>64.752914</td>\n",
       "      <td>5497440.0</td>\n",
       "      <td>9712.900000</td>\n",
       "      <td>2463.250000</td>\n",
       "      <td>46532.729780</td>\n",
       "    </tr>\n",
       "    <tr>\n",
       "      <th>...</th>\n",
       "      <td>...</td>\n",
       "      <td>...</td>\n",
       "      <td>...</td>\n",
       "      <td>...</td>\n",
       "      <td>...</td>\n",
       "      <td>...</td>\n",
       "      <td>...</td>\n",
       "      <td>...</td>\n",
       "    </tr>\n",
       "    <tr>\n",
       "      <th>177</th>\n",
       "      <td>2020-05-25</td>\n",
       "      <td>43550.0000</td>\n",
       "      <td>93887</td>\n",
       "      <td>57.179983</td>\n",
       "      <td>5164500.0</td>\n",
       "      <td>31559.826052</td>\n",
       "      <td>2777.054278</td>\n",
       "      <td>23682.980950</td>\n",
       "    </tr>\n",
       "    <tr>\n",
       "      <th>178</th>\n",
       "      <td>2020-06-01</td>\n",
       "      <td>210240.5329</td>\n",
       "      <td>99939</td>\n",
       "      <td>58.390835</td>\n",
       "      <td>5617000.0</td>\n",
       "      <td>11186.583246</td>\n",
       "      <td>2347.751201</td>\n",
       "      <td>15803.450730</td>\n",
       "    </tr>\n",
       "    <tr>\n",
       "      <th>179</th>\n",
       "      <td>2020-06-08</td>\n",
       "      <td>210240.5329</td>\n",
       "      <td>110895</td>\n",
       "      <td>56.617011</td>\n",
       "      <td>5183900.0</td>\n",
       "      <td>13361.599367</td>\n",
       "      <td>3132.570888</td>\n",
       "      <td>2392.235897</td>\n",
       "    </tr>\n",
       "    <tr>\n",
       "      <th>180</th>\n",
       "      <td>2020-06-15</td>\n",
       "      <td>210240.5329</td>\n",
       "      <td>101008</td>\n",
       "      <td>55.464290</td>\n",
       "      <td>5042800.0</td>\n",
       "      <td>12825.505402</td>\n",
       "      <td>3132.570888</td>\n",
       "      <td>13390.429120</td>\n",
       "    </tr>\n",
       "    <tr>\n",
       "      <th>181</th>\n",
       "      <td>2020-06-22</td>\n",
       "      <td>210240.5329</td>\n",
       "      <td>96274</td>\n",
       "      <td>54.264990</td>\n",
       "      <td>5500300.0</td>\n",
       "      <td>14542.227933</td>\n",
       "      <td>2441.661249</td>\n",
       "      <td>23858.509340</td>\n",
       "    </tr>\n",
       "  </tbody>\n",
       "</table>\n",
       "<p>182 rows × 8 columns</p>\n",
       "</div>"
      ],
      "text/plain": [
       "    week_start  crm_automatic_bledina_brand_emails  \\\n",
       "0   2017-01-02                          21274.0000   \n",
       "1   2017-01-09                          41976.0000   \n",
       "2   2017-01-16                          24593.0000   \n",
       "3   2017-01-23                           6784.0000   \n",
       "4   2017-01-30                          23766.0000   \n",
       "..         ...                                 ...   \n",
       "177 2020-05-25                          43550.0000   \n",
       "178 2020-06-01                         210240.5329   \n",
       "179 2020-06-08                         210240.5329   \n",
       "180 2020-06-15                         210240.5329   \n",
       "181 2020-06-22                         210240.5329   \n",
       "\n",
       "     website_total_bledina_brand_visits  retail_total_bledina_product_dvm  \\\n",
       "0                                186007                         67.142970   \n",
       "1                                141778                         63.112123   \n",
       "2                                130202                         64.281646   \n",
       "3                                111688                         63.696530   \n",
       "4                                 81460                         64.752914   \n",
       "..                                  ...                               ...   \n",
       "177                               93887                         57.179983   \n",
       "178                               99939                         58.390835   \n",
       "179                              110895                         56.617011   \n",
       "180                              101008                         55.464290   \n",
       "181                               96274                         54.264990   \n",
       "\n",
       "         Sales       Digital  Non_Digital          Promo  \n",
       "0    6886165.0  18456.970000  2369.390000    7238.542484  \n",
       "1    5875465.0  24439.140000  2470.600000   20498.188230  \n",
       "2    5897865.0  20052.500000  2470.600000  104070.912100  \n",
       "3    5431465.0  16803.770000  2470.600000   67294.616930  \n",
       "4    5497440.0   9712.900000  2463.250000   46532.729780  \n",
       "..         ...           ...          ...            ...  \n",
       "177  5164500.0  31559.826052  2777.054278   23682.980950  \n",
       "178  5617000.0  11186.583246  2347.751201   15803.450730  \n",
       "179  5183900.0  13361.599367  3132.570888    2392.235897  \n",
       "180  5042800.0  12825.505402  3132.570888   13390.429120  \n",
       "181  5500300.0  14542.227933  2441.661249   23858.509340  \n",
       "\n",
       "[182 rows x 8 columns]"
      ]
     },
     "execution_count": 91,
     "metadata": {},
     "output_type": "execute_result"
    }
   ],
   "source": [
    "KPI_df"
   ]
  },
  {
   "cell_type": "markdown",
   "id": "732aeaa2",
   "metadata": {},
   "source": [
    "# Check for zero values"
   ]
  },
  {
   "cell_type": "code",
   "execution_count": 92,
   "id": "bc36c0bb",
   "metadata": {},
   "outputs": [
    {
     "data": {
      "text/plain": [
       "Index(['week_start', 'crm_automatic_bledina_brand_emails',\n",
       "       'website_total_bledina_brand_visits',\n",
       "       'retail_total_bledina_product_dvm', 'Sales', 'Digital', 'Non_Digital',\n",
       "       'Promo'],\n",
       "      dtype='object')"
      ]
     },
     "execution_count": 92,
     "metadata": {},
     "output_type": "execute_result"
    }
   ],
   "source": [
    "KPI_df.columns"
   ]
  },
  {
   "cell_type": "code",
   "execution_count": 93,
   "id": "e61130c0",
   "metadata": {},
   "outputs": [
    {
     "data": {
      "text/plain": [
       "week_start                             0\n",
       "crm_automatic_bledina_brand_emails     0\n",
       "website_total_bledina_brand_visits     0\n",
       "retail_total_bledina_product_dvm       0\n",
       "Sales                                  0\n",
       "Digital                                1\n",
       "Non_Digital                           15\n",
       "Promo                                  0\n",
       "dtype: int64"
      ]
     },
     "execution_count": 93,
     "metadata": {},
     "output_type": "execute_result"
    }
   ],
   "source": [
    "(KPI_df==0).sum()"
   ]
  },
  {
   "cell_type": "markdown",
   "id": "88c2c553",
   "metadata": {},
   "source": [
    "# Impute zero values"
   ]
  },
  {
   "cell_type": "code",
   "execution_count": 94,
   "id": "2d39b449",
   "metadata": {},
   "outputs": [
    {
     "name": "stderr",
     "output_type": "stream",
     "text": [
      "C:\\Users\\AniruddhaMistry\\AppData\\Local\\Temp\\ipykernel_6088\\1205738032.py:1: FutureWarning: The pandas.np module is deprecated and will be removed from pandas in a future version. Import numpy directly instead.\n",
      "  KPI_df.replace(0, pd.np.nan, inplace=True)\n",
      "C:\\Users\\AniruddhaMistry\\AppData\\Local\\Temp\\ipykernel_6088\\1205738032.py:1: SettingWithCopyWarning: \n",
      "A value is trying to be set on a copy of a slice from a DataFrame\n",
      "\n",
      "See the caveats in the documentation: https://pandas.pydata.org/pandas-docs/stable/user_guide/indexing.html#returning-a-view-versus-a-copy\n",
      "  KPI_df.replace(0, pd.np.nan, inplace=True)\n"
     ]
    }
   ],
   "source": [
    "KPI_df.replace(0, pd.np.nan, inplace=True)"
   ]
  },
  {
   "cell_type": "code",
   "execution_count": 95,
   "id": "0a0196a8",
   "metadata": {},
   "outputs": [
    {
     "name": "stderr",
     "output_type": "stream",
     "text": [
      "C:\\Users\\AniruddhaMistry\\AppData\\Local\\Temp\\ipykernel_6088\\3699625188.py:1: FutureWarning: DataFrame.mean and DataFrame.median with numeric_only=None will include datetime64 and datetime64tz columns in a future version.\n",
      "  median = KPI_df.median()\n"
     ]
    }
   ],
   "source": [
    "median = KPI_df.median()"
   ]
  },
  {
   "cell_type": "code",
   "execution_count": 96,
   "id": "d9d75796",
   "metadata": {},
   "outputs": [
    {
     "name": "stderr",
     "output_type": "stream",
     "text": [
      "C:\\Users\\AniruddhaMistry\\AppData\\Local\\Temp\\ipykernel_6088\\4167979315.py:1: SettingWithCopyWarning: \n",
      "A value is trying to be set on a copy of a slice from a DataFrame.\n",
      "Try using .loc[row_indexer,col_indexer] = value instead\n",
      "\n",
      "See the caveats in the documentation: https://pandas.pydata.org/pandas-docs/stable/user_guide/indexing.html#returning-a-view-versus-a-copy\n",
      "  KPI_df.fillna(median, inplace=True)\n"
     ]
    }
   ],
   "source": [
    "KPI_df.fillna(median, inplace=True)"
   ]
  },
  {
   "cell_type": "code",
   "execution_count": 97,
   "id": "851b4ccc",
   "metadata": {},
   "outputs": [
    {
     "data": {
      "text/plain": [
       "week_start                            0\n",
       "crm_automatic_bledina_brand_emails    0\n",
       "website_total_bledina_brand_visits    0\n",
       "retail_total_bledina_product_dvm      0\n",
       "Sales                                 0\n",
       "Digital                               0\n",
       "Non_Digital                           0\n",
       "Promo                                 0\n",
       "dtype: int64"
      ]
     },
     "execution_count": 97,
     "metadata": {},
     "output_type": "execute_result"
    }
   ],
   "source": [
    "(KPI_df==0).sum()"
   ]
  },
  {
   "cell_type": "markdown",
   "id": "b3309205",
   "metadata": {},
   "source": [
    "# Change in KPI"
   ]
  },
  {
   "cell_type": "code",
   "execution_count": 98,
   "id": "0d86c03f",
   "metadata": {},
   "outputs": [],
   "source": [
    "first_ad_weeek_start = KPI_df['week_start'].min()"
   ]
  },
  {
   "cell_type": "code",
   "execution_count": 99,
   "id": "ee7f92d0",
   "metadata": {},
   "outputs": [],
   "source": [
    "KPI_df_since_ad = KPI_df[KPI_df['week_start'] >= first_ad_weeek_start]"
   ]
  },
  {
   "cell_type": "code",
   "execution_count": 100,
   "id": "1536af1e",
   "metadata": {},
   "outputs": [],
   "source": [
    "KPI_pct_change = KPI_df_since_ad.set_index('week_start').pct_change()"
   ]
  },
  {
   "cell_type": "code",
   "execution_count": 101,
   "id": "2ff77396",
   "metadata": {},
   "outputs": [
    {
     "data": {
      "text/plain": [
       "crm_automatic_bledina_brand_emails    1\n",
       "website_total_bledina_brand_visits    1\n",
       "retail_total_bledina_product_dvm      1\n",
       "Sales                                 1\n",
       "Digital                               1\n",
       "Non_Digital                           1\n",
       "Promo                                 1\n",
       "dtype: int64"
      ]
     },
     "execution_count": 101,
     "metadata": {},
     "output_type": "execute_result"
    }
   ],
   "source": [
    "KPI_pct_change.isnull().sum()"
   ]
  },
  {
   "cell_type": "code",
   "execution_count": 102,
   "id": "bf4762f1",
   "metadata": {},
   "outputs": [],
   "source": [
    "KPI_pct_change = KPI_pct_change.fillna(0)"
   ]
  },
  {
   "cell_type": "code",
   "execution_count": 103,
   "id": "f7f3f684",
   "metadata": {},
   "outputs": [
    {
     "data": {
      "text/plain": [
       "crm_automatic_bledina_brand_emails    0\n",
       "website_total_bledina_brand_visits    0\n",
       "retail_total_bledina_product_dvm      0\n",
       "Sales                                 0\n",
       "Digital                               0\n",
       "Non_Digital                           0\n",
       "Promo                                 0\n",
       "dtype: int64"
      ]
     },
     "execution_count": 103,
     "metadata": {},
     "output_type": "execute_result"
    }
   ],
   "source": [
    "KPI_pct_change.isnull().sum()"
   ]
  },
  {
   "cell_type": "code",
   "execution_count": 104,
   "id": "1a18910c",
   "metadata": {},
   "outputs": [],
   "source": [
    "KPI_pct_change=KPI_pct_change.reset_index()"
   ]
  },
  {
   "cell_type": "code",
   "execution_count": 105,
   "id": "89b6555b",
   "metadata": {},
   "outputs": [
    {
     "data": {
      "text/plain": [
       "Index(['week_start', 'crm_automatic_bledina_brand_emails',\n",
       "       'website_total_bledina_brand_visits',\n",
       "       'retail_total_bledina_product_dvm', 'Sales', 'Digital', 'Non_Digital',\n",
       "       'Promo'],\n",
       "      dtype='object')"
      ]
     },
     "execution_count": 105,
     "metadata": {},
     "output_type": "execute_result"
    }
   ],
   "source": [
    "KPI_pct_change.columns"
   ]
  },
  {
   "cell_type": "code",
   "execution_count": 106,
   "id": "795afa71",
   "metadata": {},
   "outputs": [
    {
     "name": "stderr",
     "output_type": "stream",
     "text": [
      "C:\\Users\\AniruddhaMistry\\AppData\\Local\\Temp\\ipykernel_6088\\1042725376.py:1: FutureWarning: DataFrame.mean and DataFrame.median with numeric_only=None will include datetime64 and datetime64tz columns in a future version.\n",
      "  KPI_avg_pct_change = KPI_pct_change.mean()\n"
     ]
    }
   ],
   "source": [
    "KPI_avg_pct_change = KPI_pct_change.mean()"
   ]
  },
  {
   "cell_type": "code",
   "execution_count": 107,
   "id": "d150c750",
   "metadata": {},
   "outputs": [
    {
     "data": {
      "text/plain": [
       "crm_automatic_bledina_brand_emails      0.842299\n",
       "website_total_bledina_brand_visits      0.008991\n",
       "retail_total_bledina_product_dvm       -0.000762\n",
       "Sales                                   0.003573\n",
       "Digital                               526.179905\n",
       "Non_Digital                             2.285586\n",
       "Promo                                  10.551112\n",
       "dtype: float64"
      ]
     },
     "execution_count": 107,
     "metadata": {},
     "output_type": "execute_result"
    }
   ],
   "source": [
    "KPI_avg_pct_change"
   ]
  },
  {
   "cell_type": "code",
   "execution_count": 108,
   "id": "b5f1d531",
   "metadata": {},
   "outputs": [
    {
     "data": {
      "text/html": [
       "<div>\n",
       "<style scoped>\n",
       "    .dataframe tbody tr th:only-of-type {\n",
       "        vertical-align: middle;\n",
       "    }\n",
       "\n",
       "    .dataframe tbody tr th {\n",
       "        vertical-align: top;\n",
       "    }\n",
       "\n",
       "    .dataframe thead th {\n",
       "        text-align: right;\n",
       "    }\n",
       "</style>\n",
       "<table border=\"1\" class=\"dataframe\">\n",
       "  <thead>\n",
       "    <tr style=\"text-align: right;\">\n",
       "      <th></th>\n",
       "      <th>week_start</th>\n",
       "      <th>crm_automatic_bledina_brand_emails</th>\n",
       "      <th>website_total_bledina_brand_visits</th>\n",
       "      <th>retail_total_bledina_product_dvm</th>\n",
       "      <th>Sales</th>\n",
       "      <th>Digital</th>\n",
       "      <th>Non_Digital</th>\n",
       "      <th>Promo</th>\n",
       "    </tr>\n",
       "  </thead>\n",
       "  <tbody>\n",
       "    <tr>\n",
       "      <th>0</th>\n",
       "      <td>2017-01-02</td>\n",
       "      <td>0.000000</td>\n",
       "      <td>0.000000</td>\n",
       "      <td>0.000000</td>\n",
       "      <td>0.000000</td>\n",
       "      <td>0.000000</td>\n",
       "      <td>0.000000</td>\n",
       "      <td>0.000000</td>\n",
       "    </tr>\n",
       "    <tr>\n",
       "      <th>1</th>\n",
       "      <td>2017-01-09</td>\n",
       "      <td>0.973113</td>\n",
       "      <td>-0.237781</td>\n",
       "      <td>-0.060034</td>\n",
       "      <td>-0.146773</td>\n",
       "      <td>0.324114</td>\n",
       "      <td>0.042716</td>\n",
       "      <td>1.831812</td>\n",
       "    </tr>\n",
       "    <tr>\n",
       "      <th>2</th>\n",
       "      <td>2017-01-16</td>\n",
       "      <td>-0.414118</td>\n",
       "      <td>-0.081649</td>\n",
       "      <td>0.018531</td>\n",
       "      <td>0.003812</td>\n",
       "      <td>-0.179492</td>\n",
       "      <td>0.000000</td>\n",
       "      <td>4.077079</td>\n",
       "    </tr>\n",
       "    <tr>\n",
       "      <th>3</th>\n",
       "      <td>2017-01-23</td>\n",
       "      <td>-0.724149</td>\n",
       "      <td>-0.142194</td>\n",
       "      <td>-0.009102</td>\n",
       "      <td>-0.079079</td>\n",
       "      <td>-0.162011</td>\n",
       "      <td>0.000000</td>\n",
       "      <td>-0.353377</td>\n",
       "    </tr>\n",
       "    <tr>\n",
       "      <th>4</th>\n",
       "      <td>2017-01-30</td>\n",
       "      <td>2.503243</td>\n",
       "      <td>-0.270647</td>\n",
       "      <td>0.016585</td>\n",
       "      <td>0.012147</td>\n",
       "      <td>-0.421981</td>\n",
       "      <td>-0.002975</td>\n",
       "      <td>-0.308522</td>\n",
       "    </tr>\n",
       "    <tr>\n",
       "      <th>...</th>\n",
       "      <td>...</td>\n",
       "      <td>...</td>\n",
       "      <td>...</td>\n",
       "      <td>...</td>\n",
       "      <td>...</td>\n",
       "      <td>...</td>\n",
       "      <td>...</td>\n",
       "      <td>...</td>\n",
       "    </tr>\n",
       "    <tr>\n",
       "      <th>177</th>\n",
       "      <td>2020-05-25</td>\n",
       "      <td>-0.146831</td>\n",
       "      <td>-0.087803</td>\n",
       "      <td>0.062810</td>\n",
       "      <td>0.072434</td>\n",
       "      <td>-0.329824</td>\n",
       "      <td>0.746835</td>\n",
       "      <td>-0.566803</td>\n",
       "    </tr>\n",
       "    <tr>\n",
       "      <th>178</th>\n",
       "      <td>2020-06-01</td>\n",
       "      <td>3.827567</td>\n",
       "      <td>0.064460</td>\n",
       "      <td>0.021176</td>\n",
       "      <td>0.087617</td>\n",
       "      <td>-0.645544</td>\n",
       "      <td>-0.154589</td>\n",
       "      <td>-0.332709</td>\n",
       "    </tr>\n",
       "    <tr>\n",
       "      <th>179</th>\n",
       "      <td>2020-06-08</td>\n",
       "      <td>0.000000</td>\n",
       "      <td>0.109627</td>\n",
       "      <td>-0.030378</td>\n",
       "      <td>-0.077105</td>\n",
       "      <td>0.194431</td>\n",
       "      <td>0.334286</td>\n",
       "      <td>-0.848626</td>\n",
       "    </tr>\n",
       "    <tr>\n",
       "      <th>180</th>\n",
       "      <td>2020-06-15</td>\n",
       "      <td>0.000000</td>\n",
       "      <td>-0.089156</td>\n",
       "      <td>-0.020360</td>\n",
       "      <td>-0.027219</td>\n",
       "      <td>-0.040122</td>\n",
       "      <td>0.000000</td>\n",
       "      <td>4.597453</td>\n",
       "    </tr>\n",
       "    <tr>\n",
       "      <th>181</th>\n",
       "      <td>2020-06-22</td>\n",
       "      <td>0.000000</td>\n",
       "      <td>-0.046868</td>\n",
       "      <td>-0.021623</td>\n",
       "      <td>0.090723</td>\n",
       "      <td>0.133852</td>\n",
       "      <td>-0.220557</td>\n",
       "      <td>0.781758</td>\n",
       "    </tr>\n",
       "  </tbody>\n",
       "</table>\n",
       "<p>182 rows × 8 columns</p>\n",
       "</div>"
      ],
      "text/plain": [
       "    week_start  crm_automatic_bledina_brand_emails  \\\n",
       "0   2017-01-02                            0.000000   \n",
       "1   2017-01-09                            0.973113   \n",
       "2   2017-01-16                           -0.414118   \n",
       "3   2017-01-23                           -0.724149   \n",
       "4   2017-01-30                            2.503243   \n",
       "..         ...                                 ...   \n",
       "177 2020-05-25                           -0.146831   \n",
       "178 2020-06-01                            3.827567   \n",
       "179 2020-06-08                            0.000000   \n",
       "180 2020-06-15                            0.000000   \n",
       "181 2020-06-22                            0.000000   \n",
       "\n",
       "     website_total_bledina_brand_visits  retail_total_bledina_product_dvm  \\\n",
       "0                              0.000000                          0.000000   \n",
       "1                             -0.237781                         -0.060034   \n",
       "2                             -0.081649                          0.018531   \n",
       "3                             -0.142194                         -0.009102   \n",
       "4                             -0.270647                          0.016585   \n",
       "..                                  ...                               ...   \n",
       "177                           -0.087803                          0.062810   \n",
       "178                            0.064460                          0.021176   \n",
       "179                            0.109627                         -0.030378   \n",
       "180                           -0.089156                         -0.020360   \n",
       "181                           -0.046868                         -0.021623   \n",
       "\n",
       "        Sales   Digital  Non_Digital     Promo  \n",
       "0    0.000000  0.000000     0.000000  0.000000  \n",
       "1   -0.146773  0.324114     0.042716  1.831812  \n",
       "2    0.003812 -0.179492     0.000000  4.077079  \n",
       "3   -0.079079 -0.162011     0.000000 -0.353377  \n",
       "4    0.012147 -0.421981    -0.002975 -0.308522  \n",
       "..        ...       ...          ...       ...  \n",
       "177  0.072434 -0.329824     0.746835 -0.566803  \n",
       "178  0.087617 -0.645544    -0.154589 -0.332709  \n",
       "179 -0.077105  0.194431     0.334286 -0.848626  \n",
       "180 -0.027219 -0.040122     0.000000  4.597453  \n",
       "181  0.090723  0.133852    -0.220557  0.781758  \n",
       "\n",
       "[182 rows x 8 columns]"
      ]
     },
     "execution_count": 108,
     "metadata": {},
     "output_type": "execute_result"
    }
   ],
   "source": [
    "KPI_pct_change"
   ]
  },
  {
   "cell_type": "markdown",
   "id": "a555307c",
   "metadata": {},
   "source": [
    "# Plotting"
   ]
  },
  {
   "cell_type": "code",
   "execution_count": 109,
   "id": "0555e58a",
   "metadata": {},
   "outputs": [],
   "source": [
    "pct_vals = ['crm_automatic_bledina_brand_emails',\n",
    "       'website_total_bledina_brand_visits',\n",
    "       'retail_total_bledina_product_dvm', 'Sales']"
   ]
  },
  {
   "cell_type": "code",
   "execution_count": 110,
   "id": "ca454146",
   "metadata": {},
   "outputs": [],
   "source": [
    "KPI_pct_change['week_start_float'] = KPI_pct_change['week_start'].apply(lambda x: x.timestamp())"
   ]
  },
  {
   "cell_type": "code",
   "execution_count": 111,
   "id": "6a296b45",
   "metadata": {},
   "outputs": [
    {
     "name": "stdout",
     "output_type": "stream",
     "text": [
      "<class 'pandas.core.frame.DataFrame'>\n",
      "RangeIndex: 182 entries, 0 to 181\n",
      "Data columns (total 9 columns):\n",
      " #   Column                              Non-Null Count  Dtype         \n",
      "---  ------                              --------------  -----         \n",
      " 0   week_start                          182 non-null    datetime64[ns]\n",
      " 1   crm_automatic_bledina_brand_emails  182 non-null    float64       \n",
      " 2   website_total_bledina_brand_visits  182 non-null    float64       \n",
      " 3   retail_total_bledina_product_dvm    182 non-null    float64       \n",
      " 4   Sales                               182 non-null    float64       \n",
      " 5   Digital                             182 non-null    float64       \n",
      " 6   Non_Digital                         182 non-null    float64       \n",
      " 7   Promo                               182 non-null    float64       \n",
      " 8   week_start_float                    182 non-null    float64       \n",
      "dtypes: datetime64[ns](1), float64(8)\n",
      "memory usage: 12.9 KB\n"
     ]
    }
   ],
   "source": [
    "KPI_pct_change.info()"
   ]
  },
  {
   "cell_type": "raw",
   "id": "fe1f5315",
   "metadata": {
    "scrolled": false
   },
   "source": [
    "# Loop through the KPI columns\n",
    "for i in pct_vals:\n",
    "    # Create a scatter plot with the percentage changes over time\n",
    "    fig = go.Figure()\n",
    "    fig.add_trace(go.Scatter(x=KPI_pct_change['week_start'], y=KPI_pct_change[i], mode='lines', name=i))\n",
    "    \n",
    "        \n",
    "    # Logarithmic trendline\n",
    "    z = np.polyfit(np.log(KPI_pct_change['week_start_float']), KPI_pct_change[i], 1)\n",
    "    p = np.poly1d(z)\n",
    "    fig.add_trace(go.Scatter(x=KPI_pct_change['week_start_float'], y=p(np.log(KPI_pct_change['week_start_float'])), mode='lines', name='Logarithmic trendline', line=dict(color='blue', dash='dash')))\n",
    "    \n",
    "    # Set the layout and show the plot\n",
    "    fig.update_layout(title='KPI Percentage Changes Over Time', xaxis_title='Date', yaxis_title=i)\n",
    "    fig.show()\n"
   ]
  },
  {
   "cell_type": "code",
   "execution_count": 112,
   "id": "d539772e",
   "metadata": {},
   "outputs": [],
   "source": [
    "Xf=pd.DataFrame()"
   ]
  },
  {
   "cell_type": "markdown",
   "id": "e6b51de7",
   "metadata": {},
   "source": [
    "# Gradient Values"
   ]
  },
  {
   "cell_type": "code",
   "execution_count": 113,
   "id": "76734a81",
   "metadata": {},
   "outputs": [],
   "source": [
    "# create a new DataFrame with the necessary columns\n",
    "df2 = KPI_pct_change[['week_start', 'Sales']]\n",
    "\n",
    "# calculate the gradient of the Sales column\n",
    "grad = np.gradient(df2['Sales'])"
   ]
  },
  {
   "cell_type": "code",
   "execution_count": 114,
   "id": "999e7f69",
   "metadata": {},
   "outputs": [],
   "source": [
    "# add the gradient as a new column to the DataFrame\n",
    "Xf['decay_rate_Sales'] = grad"
   ]
  },
  {
   "cell_type": "code",
   "execution_count": 115,
   "id": "7de26815",
   "metadata": {},
   "outputs": [],
   "source": [
    "# create a new DataFrame with the necessary columns\n",
    "df2 = KPI_pct_change[['week_start','crm_automatic_bledina_brand_emails']]\n",
    "\n",
    "# calculate the gradient of the Sales column\n",
    "grad = np.gradient(df2['crm_automatic_bledina_brand_emails'])"
   ]
  },
  {
   "cell_type": "code",
   "execution_count": 116,
   "id": "601efdfe",
   "metadata": {},
   "outputs": [],
   "source": [
    "# add the gradient as a new column to the DataFrame\n",
    "Xf['decay_rate_emails'] = grad"
   ]
  },
  {
   "cell_type": "code",
   "execution_count": 117,
   "id": "96fa1515",
   "metadata": {},
   "outputs": [],
   "source": [
    "# create a new DataFrame with the necessary columns\n",
    "df2 = KPI_pct_change[['week_start','website_total_bledina_brand_visits']]\n",
    "\n",
    "# calculate the gradient of the Sales column\n",
    "grad = np.gradient(df2['website_total_bledina_brand_visits'])"
   ]
  },
  {
   "cell_type": "code",
   "execution_count": 118,
   "id": "25b5ce81",
   "metadata": {},
   "outputs": [],
   "source": [
    "Xf['decay_rate_web'] = grad"
   ]
  },
  {
   "cell_type": "code",
   "execution_count": 119,
   "id": "8733d4b3",
   "metadata": {},
   "outputs": [],
   "source": [
    "# create a new DataFrame with the necessary columns\n",
    "df2 = KPI_pct_change[['week_start','retail_total_bledina_product_dvm']]\n",
    "\n",
    "# calculate the gradient of the Sales column\n",
    "grad = np.gradient(df2['retail_total_bledina_product_dvm'])"
   ]
  },
  {
   "cell_type": "code",
   "execution_count": 120,
   "id": "a97d3f13",
   "metadata": {},
   "outputs": [],
   "source": [
    "Xf['decay_rate_dvm'] = grad"
   ]
  },
  {
   "cell_type": "code",
   "execution_count": 121,
   "id": "d892e320",
   "metadata": {},
   "outputs": [],
   "source": [
    "# create a new DataFrame with the necessary columns\n",
    "df2 = KPI_pct_change[['week_start', 'Digital']]\n",
    "\n",
    "# calculate the gradient of the Sales column\n",
    "grad = np.gradient(df2['Digital'])"
   ]
  },
  {
   "cell_type": "code",
   "execution_count": 122,
   "id": "05a1860a",
   "metadata": {},
   "outputs": [],
   "source": [
    "Xf['decay_rate_Digital'] = grad"
   ]
  },
  {
   "cell_type": "code",
   "execution_count": 123,
   "id": "56155a77",
   "metadata": {},
   "outputs": [],
   "source": [
    "# create a new DataFrame with the necessary columns\n",
    "df2 = KPI_pct_change[['week_start','Non_Digital']]\n",
    "\n",
    "# calculate the gradient of the Sales column\n",
    "grad = np.gradient(df2['Non_Digital'])"
   ]
  },
  {
   "cell_type": "code",
   "execution_count": 124,
   "id": "8376da39",
   "metadata": {},
   "outputs": [],
   "source": [
    "Xf['decay_rate_Non_Digital'] = grad"
   ]
  },
  {
   "cell_type": "code",
   "execution_count": 125,
   "id": "a964126c",
   "metadata": {},
   "outputs": [],
   "source": [
    "# create a new DataFrame with the necessary columns\n",
    "df2 = KPI_pct_change[['week_start','Promo']]\n",
    "\n",
    "# calculate the gradient of the Sales column\n",
    "grad = np.gradient(df2['Promo'])"
   ]
  },
  {
   "cell_type": "code",
   "execution_count": 126,
   "id": "3cd5267e",
   "metadata": {},
   "outputs": [],
   "source": [
    "Xf['decay_rate_Non_Promo'] = grad"
   ]
  },
  {
   "cell_type": "code",
   "execution_count": 127,
   "id": "43359204",
   "metadata": {},
   "outputs": [
    {
     "data": {
      "text/html": [
       "<div>\n",
       "<style scoped>\n",
       "    .dataframe tbody tr th:only-of-type {\n",
       "        vertical-align: middle;\n",
       "    }\n",
       "\n",
       "    .dataframe tbody tr th {\n",
       "        vertical-align: top;\n",
       "    }\n",
       "\n",
       "    .dataframe thead th {\n",
       "        text-align: right;\n",
       "    }\n",
       "</style>\n",
       "<table border=\"1\" class=\"dataframe\">\n",
       "  <thead>\n",
       "    <tr style=\"text-align: right;\">\n",
       "      <th></th>\n",
       "      <th>decay_rate_Sales</th>\n",
       "      <th>decay_rate_emails</th>\n",
       "      <th>decay_rate_web</th>\n",
       "      <th>decay_rate_dvm</th>\n",
       "      <th>decay_rate_Digital</th>\n",
       "      <th>decay_rate_Non_Digital</th>\n",
       "      <th>decay_rate_Non_Promo</th>\n",
       "    </tr>\n",
       "  </thead>\n",
       "  <tbody>\n",
       "    <tr>\n",
       "      <th>0</th>\n",
       "      <td>-0.146773</td>\n",
       "      <td>0.973113</td>\n",
       "      <td>-0.237781</td>\n",
       "      <td>-0.060034</td>\n",
       "      <td>0.324114</td>\n",
       "      <td>0.042716</td>\n",
       "      <td>1.831812</td>\n",
       "    </tr>\n",
       "    <tr>\n",
       "      <th>1</th>\n",
       "      <td>0.001906</td>\n",
       "      <td>-0.207059</td>\n",
       "      <td>-0.040824</td>\n",
       "      <td>0.009265</td>\n",
       "      <td>-0.089746</td>\n",
       "      <td>0.000000</td>\n",
       "      <td>2.038539</td>\n",
       "    </tr>\n",
       "    <tr>\n",
       "      <th>2</th>\n",
       "      <td>0.033847</td>\n",
       "      <td>-0.848631</td>\n",
       "      <td>0.047793</td>\n",
       "      <td>0.025466</td>\n",
       "      <td>-0.243063</td>\n",
       "      <td>-0.021358</td>\n",
       "      <td>-1.092594</td>\n",
       "    </tr>\n",
       "    <tr>\n",
       "      <th>3</th>\n",
       "      <td>0.004167</td>\n",
       "      <td>1.458680</td>\n",
       "      <td>-0.094499</td>\n",
       "      <td>-0.000973</td>\n",
       "      <td>-0.121244</td>\n",
       "      <td>-0.001487</td>\n",
       "      <td>-2.192800</td>\n",
       "    </tr>\n",
       "    <tr>\n",
       "      <th>4</th>\n",
       "      <td>0.039376</td>\n",
       "      <td>0.237211</td>\n",
       "      <td>-0.059771</td>\n",
       "      <td>0.009428</td>\n",
       "      <td>-0.231403</td>\n",
       "      <td>-0.103207</td>\n",
       "      <td>-0.160700</td>\n",
       "    </tr>\n",
       "    <tr>\n",
       "      <th>5</th>\n",
       "      <td>-0.049590</td>\n",
       "      <td>-0.540080</td>\n",
       "      <td>0.136787</td>\n",
       "      <td>-0.018813</td>\n",
       "      <td>0.240845</td>\n",
       "      <td>0.001487</td>\n",
       "      <td>0.025886</td>\n",
       "    </tr>\n",
       "    <tr>\n",
       "      <th>6</th>\n",
       "      <td>0.010657</td>\n",
       "      <td>0.202445</td>\n",
       "      <td>0.228091</td>\n",
       "      <td>-0.005948</td>\n",
       "      <td>0.457588</td>\n",
       "      <td>21.243078</td>\n",
       "      <td>0.077413</td>\n",
       "    </tr>\n",
       "    <tr>\n",
       "      <th>7</th>\n",
       "      <td>0.158474</td>\n",
       "      <td>-0.921830</td>\n",
       "      <td>0.026707</td>\n",
       "      <td>0.015566</td>\n",
       "      <td>0.320376</td>\n",
       "      <td>-0.135951</td>\n",
       "      <td>9.062753</td>\n",
       "    </tr>\n",
       "    <tr>\n",
       "      <th>8</th>\n",
       "      <td>0.057700</td>\n",
       "      <td>-0.129243</td>\n",
       "      <td>-0.225505</td>\n",
       "      <td>-0.002002</td>\n",
       "      <td>-0.359068</td>\n",
       "      <td>-21.618907</td>\n",
       "      <td>1.059492</td>\n",
       "    </tr>\n",
       "    <tr>\n",
       "      <th>9</th>\n",
       "      <td>-0.252128</td>\n",
       "      <td>0.276175</td>\n",
       "      <td>0.022283</td>\n",
       "      <td>-0.008419</td>\n",
       "      <td>-0.027973</td>\n",
       "      <td>19.890736</td>\n",
       "      <td>-9.324184</td>\n",
       "    </tr>\n",
       "    <tr>\n",
       "      <th>10</th>\n",
       "      <td>-0.080916</td>\n",
       "      <td>0.043790</td>\n",
       "      <td>0.121595</td>\n",
       "      <td>0.002823</td>\n",
       "      <td>0.399870</td>\n",
       "      <td>0.656435</td>\n",
       "      <td>-1.274928</td>\n",
       "    </tr>\n",
       "    <tr>\n",
       "      <th>11</th>\n",
       "      <td>0.181262</td>\n",
       "      <td>-0.417579</td>\n",
       "      <td>-0.103941</td>\n",
       "      <td>0.017526</td>\n",
       "      <td>0.761423</td>\n",
       "      <td>-19.574674</td>\n",
       "      <td>0.311235</td>\n",
       "    </tr>\n",
       "    <tr>\n",
       "      <th>12</th>\n",
       "      <td>0.046981</td>\n",
       "      <td>1.399386</td>\n",
       "      <td>0.058027</td>\n",
       "      <td>0.001411</td>\n",
       "      <td>-0.005902</td>\n",
       "      <td>-0.458775</td>\n",
       "      <td>4.735150</td>\n",
       "    </tr>\n",
       "    <tr>\n",
       "      <th>13</th>\n",
       "      <td>-0.083099</td>\n",
       "      <td>0.698822</td>\n",
       "      <td>0.016761</td>\n",
       "      <td>-0.015663</td>\n",
       "      <td>-1.229224</td>\n",
       "      <td>-0.264934</td>\n",
       "      <td>-0.165439</td>\n",
       "    </tr>\n",
       "    <tr>\n",
       "      <th>14</th>\n",
       "      <td>-0.046151</td>\n",
       "      <td>-1.594297</td>\n",
       "      <td>-0.058974</td>\n",
       "      <td>0.001789</td>\n",
       "      <td>-0.164103</td>\n",
       "      <td>-0.216015</td>\n",
       "      <td>-1.648570</td>\n",
       "    </tr>\n",
       "    <tr>\n",
       "      <th>15</th>\n",
       "      <td>0.062220</td>\n",
       "      <td>-0.350958</td>\n",
       "      <td>0.010212</td>\n",
       "      <td>-0.007600</td>\n",
       "      <td>0.102783</td>\n",
       "      <td>4.338436</td>\n",
       "      <td>-0.134608</td>\n",
       "    </tr>\n",
       "    <tr>\n",
       "      <th>16</th>\n",
       "      <td>0.028184</td>\n",
       "      <td>0.191762</td>\n",
       "      <td>-0.010278</td>\n",
       "      <td>0.002791</td>\n",
       "      <td>-0.112633</td>\n",
       "      <td>23.411527</td>\n",
       "      <td>-1.729931</td>\n",
       "    </tr>\n",
       "    <tr>\n",
       "      <th>17</th>\n",
       "      <td>-0.070474</td>\n",
       "      <td>-0.079504</td>\n",
       "      <td>-0.006304</td>\n",
       "      <td>0.005017</td>\n",
       "      <td>-0.017833</td>\n",
       "      <td>-4.338732</td>\n",
       "      <td>0.158032</td>\n",
       "    </tr>\n",
       "    <tr>\n",
       "      <th>18</th>\n",
       "      <td>-0.025743</td>\n",
       "      <td>0.239297</td>\n",
       "      <td>0.023824</td>\n",
       "      <td>-0.016837</td>\n",
       "      <td>-0.000510</td>\n",
       "      <td>-22.999199</td>\n",
       "      <td>-0.561707</td>\n",
       "    </tr>\n",
       "    <tr>\n",
       "      <th>19</th>\n",
       "      <td>0.047664</td>\n",
       "      <td>0.311833</td>\n",
       "      <td>-0.045485</td>\n",
       "      <td>0.005044</td>\n",
       "      <td>-0.034314</td>\n",
       "      <td>0.014994</td>\n",
       "      <td>0.343313</td>\n",
       "    </tr>\n",
       "    <tr>\n",
       "      <th>20</th>\n",
       "      <td>0.084291</td>\n",
       "      <td>-0.603129</td>\n",
       "      <td>0.104695</td>\n",
       "      <td>0.028545</td>\n",
       "      <td>0.134113</td>\n",
       "      <td>-0.404076</td>\n",
       "      <td>-0.558504</td>\n",
       "    </tr>\n",
       "    <tr>\n",
       "      <th>21</th>\n",
       "      <td>0.002980</td>\n",
       "      <td>0.399469</td>\n",
       "      <td>0.116114</td>\n",
       "      <td>-0.000795</td>\n",
       "      <td>0.077333</td>\n",
       "      <td>0.070124</td>\n",
       "      <td>-0.358538</td>\n",
       "    </tr>\n",
       "    <tr>\n",
       "      <th>22</th>\n",
       "      <td>-0.073032</td>\n",
       "      <td>0.778614</td>\n",
       "      <td>-0.114623</td>\n",
       "      <td>-0.056122</td>\n",
       "      <td>-0.094594</td>\n",
       "      <td>0.489140</td>\n",
       "      <td>1.935837</td>\n",
       "    </tr>\n",
       "    <tr>\n",
       "      <th>23</th>\n",
       "      <td>-0.054987</td>\n",
       "      <td>-0.856786</td>\n",
       "      <td>0.057616</td>\n",
       "      <td>0.001893</td>\n",
       "      <td>-0.123527</td>\n",
       "      <td>0.000000</td>\n",
       "      <td>0.292158</td>\n",
       "    </tr>\n",
       "    <tr>\n",
       "      <th>24</th>\n",
       "      <td>0.023282</td>\n",
       "      <td>-0.339788</td>\n",
       "      <td>0.036642</td>\n",
       "      <td>0.062204</td>\n",
       "      <td>1.533645</td>\n",
       "      <td>15.706143</td>\n",
       "      <td>-2.162672</td>\n",
       "    </tr>\n",
       "    <tr>\n",
       "      <th>25</th>\n",
       "      <td>0.099276</td>\n",
       "      <td>1.064028</td>\n",
       "      <td>-0.138365</td>\n",
       "      <td>-0.008561</td>\n",
       "      <td>-0.124476</td>\n",
       "      <td>-0.048355</td>\n",
       "      <td>1.126422</td>\n",
       "    </tr>\n",
       "    <tr>\n",
       "      <th>26</th>\n",
       "      <td>-0.067621</td>\n",
       "      <td>-0.143736</td>\n",
       "      <td>-0.056484</td>\n",
       "      <td>-0.022998</td>\n",
       "      <td>-1.646254</td>\n",
       "      <td>-15.569075</td>\n",
       "      <td>0.454259</td>\n",
       "    </tr>\n",
       "    <tr>\n",
       "      <th>27</th>\n",
       "      <td>-0.069137</td>\n",
       "      <td>-0.669529</td>\n",
       "      <td>0.199385</td>\n",
       "      <td>0.003804</td>\n",
       "      <td>0.866367</td>\n",
       "      <td>-0.134277</td>\n",
       "      <td>-1.320733</td>\n",
       "    </tr>\n",
       "    <tr>\n",
       "      <th>28</th>\n",
       "      <td>0.057640</td>\n",
       "      <td>-0.219061</td>\n",
       "      <td>0.069824</td>\n",
       "      <td>0.006196</td>\n",
       "      <td>0.920692</td>\n",
       "      <td>-0.292628</td>\n",
       "      <td>0.129151</td>\n",
       "    </tr>\n",
       "    <tr>\n",
       "      <th>29</th>\n",
       "      <td>0.061420</td>\n",
       "      <td>0.171028</td>\n",
       "      <td>-0.051363</td>\n",
       "      <td>0.015751</td>\n",
       "      <td>-0.712590</td>\n",
       "      <td>0.736865</td>\n",
       "      <td>-0.276507</td>\n",
       "    </tr>\n",
       "  </tbody>\n",
       "</table>\n",
       "</div>"
      ],
      "text/plain": [
       "    decay_rate_Sales  decay_rate_emails  decay_rate_web  decay_rate_dvm  \\\n",
       "0          -0.146773           0.973113       -0.237781       -0.060034   \n",
       "1           0.001906          -0.207059       -0.040824        0.009265   \n",
       "2           0.033847          -0.848631        0.047793        0.025466   \n",
       "3           0.004167           1.458680       -0.094499       -0.000973   \n",
       "4           0.039376           0.237211       -0.059771        0.009428   \n",
       "5          -0.049590          -0.540080        0.136787       -0.018813   \n",
       "6           0.010657           0.202445        0.228091       -0.005948   \n",
       "7           0.158474          -0.921830        0.026707        0.015566   \n",
       "8           0.057700          -0.129243       -0.225505       -0.002002   \n",
       "9          -0.252128           0.276175        0.022283       -0.008419   \n",
       "10         -0.080916           0.043790        0.121595        0.002823   \n",
       "11          0.181262          -0.417579       -0.103941        0.017526   \n",
       "12          0.046981           1.399386        0.058027        0.001411   \n",
       "13         -0.083099           0.698822        0.016761       -0.015663   \n",
       "14         -0.046151          -1.594297       -0.058974        0.001789   \n",
       "15          0.062220          -0.350958        0.010212       -0.007600   \n",
       "16          0.028184           0.191762       -0.010278        0.002791   \n",
       "17         -0.070474          -0.079504       -0.006304        0.005017   \n",
       "18         -0.025743           0.239297        0.023824       -0.016837   \n",
       "19          0.047664           0.311833       -0.045485        0.005044   \n",
       "20          0.084291          -0.603129        0.104695        0.028545   \n",
       "21          0.002980           0.399469        0.116114       -0.000795   \n",
       "22         -0.073032           0.778614       -0.114623       -0.056122   \n",
       "23         -0.054987          -0.856786        0.057616        0.001893   \n",
       "24          0.023282          -0.339788        0.036642        0.062204   \n",
       "25          0.099276           1.064028       -0.138365       -0.008561   \n",
       "26         -0.067621          -0.143736       -0.056484       -0.022998   \n",
       "27         -0.069137          -0.669529        0.199385        0.003804   \n",
       "28          0.057640          -0.219061        0.069824        0.006196   \n",
       "29          0.061420           0.171028       -0.051363        0.015751   \n",
       "\n",
       "    decay_rate_Digital  decay_rate_Non_Digital  decay_rate_Non_Promo  \n",
       "0             0.324114                0.042716              1.831812  \n",
       "1            -0.089746                0.000000              2.038539  \n",
       "2            -0.243063               -0.021358             -1.092594  \n",
       "3            -0.121244               -0.001487             -2.192800  \n",
       "4            -0.231403               -0.103207             -0.160700  \n",
       "5             0.240845                0.001487              0.025886  \n",
       "6             0.457588               21.243078              0.077413  \n",
       "7             0.320376               -0.135951              9.062753  \n",
       "8            -0.359068              -21.618907              1.059492  \n",
       "9            -0.027973               19.890736             -9.324184  \n",
       "10            0.399870                0.656435             -1.274928  \n",
       "11            0.761423              -19.574674              0.311235  \n",
       "12           -0.005902               -0.458775              4.735150  \n",
       "13           -1.229224               -0.264934             -0.165439  \n",
       "14           -0.164103               -0.216015             -1.648570  \n",
       "15            0.102783                4.338436             -0.134608  \n",
       "16           -0.112633               23.411527             -1.729931  \n",
       "17           -0.017833               -4.338732              0.158032  \n",
       "18           -0.000510              -22.999199             -0.561707  \n",
       "19           -0.034314                0.014994              0.343313  \n",
       "20            0.134113               -0.404076             -0.558504  \n",
       "21            0.077333                0.070124             -0.358538  \n",
       "22           -0.094594                0.489140              1.935837  \n",
       "23           -0.123527                0.000000              0.292158  \n",
       "24            1.533645               15.706143             -2.162672  \n",
       "25           -0.124476               -0.048355              1.126422  \n",
       "26           -1.646254              -15.569075              0.454259  \n",
       "27            0.866367               -0.134277             -1.320733  \n",
       "28            0.920692               -0.292628              0.129151  \n",
       "29           -0.712590                0.736865             -0.276507  "
      ]
     },
     "execution_count": 127,
     "metadata": {},
     "output_type": "execute_result"
    }
   ],
   "source": [
    "Xf.head(30)"
   ]
  },
  {
   "cell_type": "code",
   "execution_count": 128,
   "id": "202309c6",
   "metadata": {},
   "outputs": [
    {
     "data": {
      "text/plain": [
       "decay_rate_Sales          0.000419\n",
       "decay_rate_emails         0.002673\n",
       "decay_rate_web           -0.000795\n",
       "decay_rate_dvm           -0.000287\n",
       "decay_rate_Digital        0.002104\n",
       "decay_rate_Non_Digital   -0.001700\n",
       "decay_rate_Non_Promo     -0.001155\n",
       "dtype: float64"
      ]
     },
     "execution_count": 128,
     "metadata": {},
     "output_type": "execute_result"
    }
   ],
   "source": [
    "Xf.mean()"
   ]
  },
  {
   "cell_type": "code",
   "execution_count": null,
   "id": "4f9d6ab0",
   "metadata": {},
   "outputs": [],
   "source": []
  }
 ],
 "metadata": {
  "kernelspec": {
   "display_name": "Python 3 (ipykernel)",
   "language": "python",
   "name": "python3"
  },
  "language_info": {
   "codemirror_mode": {
    "name": "ipython",
    "version": 3
   },
   "file_extension": ".py",
   "mimetype": "text/x-python",
   "name": "python",
   "nbconvert_exporter": "python",
   "pygments_lexer": "ipython3",
   "version": "3.9.13"
  }
 },
 "nbformat": 4,
 "nbformat_minor": 5
}
