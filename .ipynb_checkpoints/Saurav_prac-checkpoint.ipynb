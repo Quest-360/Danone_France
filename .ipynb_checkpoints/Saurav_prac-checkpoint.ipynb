{
 "cells": [
  {
   "cell_type": "code",
   "execution_count": 7,
   "id": "244a532c-1152-45b3-b69c-08bd0183766a",
   "metadata": {},
   "outputs": [],
   "source": [
    "saurav = 2"
   ]
  },
  {
   "cell_type": "code",
   "execution_count": 16,
   "id": "23f24b6c-4d15-4fe1-8825-3e471de92671",
   "metadata": {},
   "outputs": [],
   "source": [
    "a = \"Mentor\"+\" saurav\""
   ]
  },
  {
   "cell_type": "code",
   "execution_count": 17,
   "id": "788248f9-c5d6-482d-a009-fb41f7d9398d",
   "metadata": {},
   "outputs": [
    {
     "name": "stdout",
     "output_type": "stream",
     "text": [
      "Mentor saurav\n"
     ]
    }
   ],
   "source": [
    "print(a)"
   ]
  },
  {
   "cell_type": "code",
   "execution_count": 18,
   "id": "38015fe1-a748-48bc-a17d-6d977864fc3f",
   "metadata": {},
   "outputs": [
    {
     "data": {
      "text/plain": [
       "'Mentor saurav'"
      ]
     },
     "execution_count": 18,
     "metadata": {},
     "output_type": "execute_result"
    }
   ],
   "source": [
    "a\n"
   ]
  },
  {
   "cell_type": "code",
   "execution_count": 23,
   "id": "1721ae5e-8327-4c26-9d2f-2a81bdea5de2",
   "metadata": {},
   "outputs": [
    {
     "data": {
      "text/plain": [
       "'Mentor '"
      ]
     },
     "execution_count": 23,
     "metadata": {},
     "output_type": "execute_result"
    }
   ],
   "source": [
    "a[:7]"
   ]
  },
  {
   "cell_type": "code",
   "execution_count": 29,
   "id": "0ae08b5e-bd7e-4b42-af46-631f52f852f0",
   "metadata": {},
   "outputs": [
    {
     "data": {
      "text/plain": [
       "'av'"
      ]
     },
     "execution_count": 29,
     "metadata": {},
     "output_type": "execute_result"
    }
   ],
   "source": [
    "a[-2:]"
   ]
  },
  {
   "cell_type": "code",
   "execution_count": 30,
   "id": "2274b2a1-963b-4069-9dbf-4652a41bd17e",
   "metadata": {},
   "outputs": [
    {
     "data": {
      "text/plain": [
       "'23'"
      ]
     },
     "execution_count": 30,
     "metadata": {},
     "output_type": "execute_result"
    }
   ],
   "source": [
    "\"2\"+\"3\""
   ]
  },
  {
   "cell_type": "code",
   "execution_count": null,
   "id": "a31e5b62-4071-450b-8ad0-fcf17ab33fa4",
   "metadata": {},
   "outputs": [],
   "source": []
  }
 ],
 "metadata": {
  "kernelspec": {
   "display_name": "Python 3 (ipykernel)",
   "language": "python",
   "name": "python3"
  },
  "language_info": {
   "codemirror_mode": {
    "name": "ipython",
    "version": 3
   },
   "file_extension": ".py",
   "mimetype": "text/x-python",
   "name": "python",
   "nbconvert_exporter": "python",
   "pygments_lexer": "ipython3",
   "version": "3.9.13"
  }
 },
 "nbformat": 4,
 "nbformat_minor": 5
}
