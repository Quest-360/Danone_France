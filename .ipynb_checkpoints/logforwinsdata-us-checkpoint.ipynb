{
 "cells": [
  {
   "cell_type": "code",
   "execution_count": 1,
   "id": "b3c0d840",
   "metadata": {},
   "outputs": [],
   "source": [
    "import numpy as np\n",
    "from sklearn.model_selection import train_test_split\n",
    "import statsmodels.api as sm\n",
    "import pandas as pd\n",
    "import numpy as np"
   ]
  },
  {
   "cell_type": "code",
   "execution_count": 2,
   "id": "98d36304",
   "metadata": {},
   "outputs": [],
   "source": [
    "df=pd.read_excel('w-dataset.xlsx')"
   ]
  },
  {
   "cell_type": "code",
   "execution_count": 3,
   "id": "7936a75e",
   "metadata": {},
   "outputs": [
    {
     "data": {
      "text/html": [
       "<div>\n",
       "<style scoped>\n",
       "    .dataframe tbody tr th:only-of-type {\n",
       "        vertical-align: middle;\n",
       "    }\n",
       "\n",
       "    .dataframe tbody tr th {\n",
       "        vertical-align: top;\n",
       "    }\n",
       "\n",
       "    .dataframe thead th {\n",
       "        text-align: right;\n",
       "    }\n",
       "</style>\n",
       "<table border=\"1\" class=\"dataframe\">\n",
       "  <thead>\n",
       "    <tr style=\"text-align: right;\">\n",
       "      <th></th>\n",
       "      <th>Bledina_total_TV_spends</th>\n",
       "      <th>promo_total_bledina_bledina_spends</th>\n",
       "      <th>Bledina_total_digital_catchupTV_spends</th>\n",
       "      <th>digital_keywordtargeting_sea_spends</th>\n",
       "      <th>Bledina_total_digital_programmatic_spends</th>\n",
       "      <th>Bledina_total_digital_social_spends</th>\n",
       "      <th>competitor_total_digital_spends</th>\n",
       "      <th>competitor_ooh_spends</th>\n",
       "      <th>competitor_press_spends</th>\n",
       "      <th>competitor_tv_spends</th>\n",
       "      <th>...</th>\n",
       "      <th>competition_retail_competition_nonorganic_dvm</th>\n",
       "      <th>competition_retail_competition_nonorganic_price</th>\n",
       "      <th>Bledina_total_digital_dataretailers_spends</th>\n",
       "      <th>Bledina_total_emails</th>\n",
       "      <th>Bledina_total_press_spends</th>\n",
       "      <th>week_start</th>\n",
       "      <th>retail_total_bledina_product_price</th>\n",
       "      <th>Net Sales of Bledina</th>\n",
       "      <th>macroeconomic_total_total_total_livebirths</th>\n",
       "      <th>retail_total_bledina_product_dvm</th>\n",
       "    </tr>\n",
       "  </thead>\n",
       "  <tbody>\n",
       "    <tr>\n",
       "      <th>0</th>\n",
       "      <td>2369.390000</td>\n",
       "      <td>7238.542484</td>\n",
       "      <td>0.01</td>\n",
       "      <td>10557.612930</td>\n",
       "      <td>0.060000</td>\n",
       "      <td>0.010000</td>\n",
       "      <td>10838.70968</td>\n",
       "      <td>225.806452</td>\n",
       "      <td>32741.93548</td>\n",
       "      <td>801161.2903</td>\n",
       "      <td>...</td>\n",
       "      <td>49.752306</td>\n",
       "      <td>4.686509</td>\n",
       "      <td>0.000</td>\n",
       "      <td>21274.00000</td>\n",
       "      <td>0.0</td>\n",
       "      <td>2017-01-02</td>\n",
       "      <td>5.941145</td>\n",
       "      <td>6886165.0</td>\n",
       "      <td>60446.00000</td>\n",
       "      <td>67.142970</td>\n",
       "    </tr>\n",
       "    <tr>\n",
       "      <th>1</th>\n",
       "      <td>2470.600000</td>\n",
       "      <td>20498.188230</td>\n",
       "      <td>0.00</td>\n",
       "      <td>10557.612930</td>\n",
       "      <td>0.050000</td>\n",
       "      <td>10034.990000</td>\n",
       "      <td>10838.70968</td>\n",
       "      <td>225.806452</td>\n",
       "      <td>32741.93548</td>\n",
       "      <td>801161.2903</td>\n",
       "      <td>...</td>\n",
       "      <td>46.862353</td>\n",
       "      <td>4.686509</td>\n",
       "      <td>0.000</td>\n",
       "      <td>57515.00000</td>\n",
       "      <td>0.0</td>\n",
       "      <td>2017-01-09</td>\n",
       "      <td>6.057041</td>\n",
       "      <td>5875465.0</td>\n",
       "      <td>60446.00000</td>\n",
       "      <td>63.112123</td>\n",
       "    </tr>\n",
       "    <tr>\n",
       "      <th>2</th>\n",
       "      <td>2470.600000</td>\n",
       "      <td>95419.787177</td>\n",
       "      <td>0.00</td>\n",
       "      <td>10388.530000</td>\n",
       "      <td>0.090000</td>\n",
       "      <td>6955.560000</td>\n",
       "      <td>10838.70968</td>\n",
       "      <td>225.806452</td>\n",
       "      <td>32741.93548</td>\n",
       "      <td>801161.2903</td>\n",
       "      <td>...</td>\n",
       "      <td>50.758389</td>\n",
       "      <td>4.686509</td>\n",
       "      <td>0.000</td>\n",
       "      <td>24593.00000</td>\n",
       "      <td>0.0</td>\n",
       "      <td>2017-01-16</td>\n",
       "      <td>5.871734</td>\n",
       "      <td>5897865.0</td>\n",
       "      <td>60446.00000</td>\n",
       "      <td>64.281646</td>\n",
       "    </tr>\n",
       "    <tr>\n",
       "      <th>3</th>\n",
       "      <td>2470.600000</td>\n",
       "      <td>67294.616930</td>\n",
       "      <td>0.00</td>\n",
       "      <td>9699.730000</td>\n",
       "      <td>0.090000</td>\n",
       "      <td>4630.010000</td>\n",
       "      <td>10838.70968</td>\n",
       "      <td>225.806452</td>\n",
       "      <td>32741.93548</td>\n",
       "      <td>801161.2903</td>\n",
       "      <td>...</td>\n",
       "      <td>51.561729</td>\n",
       "      <td>4.686509</td>\n",
       "      <td>0.000</td>\n",
       "      <td>18039.60000</td>\n",
       "      <td>0.0</td>\n",
       "      <td>2017-01-23</td>\n",
       "      <td>6.026822</td>\n",
       "      <td>5431465.0</td>\n",
       "      <td>60446.00000</td>\n",
       "      <td>63.696530</td>\n",
       "    </tr>\n",
       "    <tr>\n",
       "      <th>4</th>\n",
       "      <td>2463.250000</td>\n",
       "      <td>46532.729780</td>\n",
       "      <td>0.00</td>\n",
       "      <td>6182.010000</td>\n",
       "      <td>0.010000</td>\n",
       "      <td>2911.880000</td>\n",
       "      <td>21311.05991</td>\n",
       "      <td>421.658986</td>\n",
       "      <td>77390.55300</td>\n",
       "      <td>655688.9401</td>\n",
       "      <td>...</td>\n",
       "      <td>51.450668</td>\n",
       "      <td>4.707299</td>\n",
       "      <td>0.000</td>\n",
       "      <td>23766.00000</td>\n",
       "      <td>0.0</td>\n",
       "      <td>2017-01-30</td>\n",
       "      <td>5.953575</td>\n",
       "      <td>5497440.0</td>\n",
       "      <td>56518.85714</td>\n",
       "      <td>64.752914</td>\n",
       "    </tr>\n",
       "    <tr>\n",
       "      <th>...</th>\n",
       "      <td>...</td>\n",
       "      <td>...</td>\n",
       "      <td>...</td>\n",
       "      <td>...</td>\n",
       "      <td>...</td>\n",
       "      <td>...</td>\n",
       "      <td>...</td>\n",
       "      <td>...</td>\n",
       "      <td>...</td>\n",
       "      <td>...</td>\n",
       "      <td>...</td>\n",
       "      <td>...</td>\n",
       "      <td>...</td>\n",
       "      <td>...</td>\n",
       "      <td>...</td>\n",
       "      <td>...</td>\n",
       "      <td>...</td>\n",
       "      <td>...</td>\n",
       "      <td>...</td>\n",
       "      <td>...</td>\n",
       "      <td>...</td>\n",
       "    </tr>\n",
       "    <tr>\n",
       "      <th>177</th>\n",
       "      <td>2777.054278</td>\n",
       "      <td>23682.980950</td>\n",
       "      <td>0.00</td>\n",
       "      <td>10557.612930</td>\n",
       "      <td>5501.142043</td>\n",
       "      <td>8923.720012</td>\n",
       "      <td>18741.93548</td>\n",
       "      <td>0.000000</td>\n",
       "      <td>52387.09677</td>\n",
       "      <td>454322.5806</td>\n",
       "      <td>...</td>\n",
       "      <td>54.708210</td>\n",
       "      <td>4.851504</td>\n",
       "      <td>0.000</td>\n",
       "      <td>43550.00000</td>\n",
       "      <td>0.0</td>\n",
       "      <td>2020-05-25</td>\n",
       "      <td>6.142551</td>\n",
       "      <td>5164500.0</td>\n",
       "      <td>59900.00000</td>\n",
       "      <td>57.179983</td>\n",
       "    </tr>\n",
       "    <tr>\n",
       "      <th>178</th>\n",
       "      <td>2347.751201</td>\n",
       "      <td>15803.450730</td>\n",
       "      <td>0.00</td>\n",
       "      <td>10110.587240</td>\n",
       "      <td>0.000000</td>\n",
       "      <td>1075.980003</td>\n",
       "      <td>10500.00000</td>\n",
       "      <td>0.000000</td>\n",
       "      <td>31266.66667</td>\n",
       "      <td>257600.0000</td>\n",
       "      <td>...</td>\n",
       "      <td>54.708210</td>\n",
       "      <td>4.822768</td>\n",
       "      <td>0.016</td>\n",
       "      <td>303050.63158</td>\n",
       "      <td>0.0</td>\n",
       "      <td>2020-06-01</td>\n",
       "      <td>6.168749</td>\n",
       "      <td>5617000.0</td>\n",
       "      <td>59436.00000</td>\n",
       "      <td>58.390835</td>\n",
       "    </tr>\n",
       "    <tr>\n",
       "      <th>179</th>\n",
       "      <td>3132.570888</td>\n",
       "      <td>2392.235897</td>\n",
       "      <td>0.00</td>\n",
       "      <td>9618.621368</td>\n",
       "      <td>0.000000</td>\n",
       "      <td>3742.977999</td>\n",
       "      <td>10500.00000</td>\n",
       "      <td>0.000000</td>\n",
       "      <td>31266.66667</td>\n",
       "      <td>257600.0000</td>\n",
       "      <td>...</td>\n",
       "      <td>54.708210</td>\n",
       "      <td>4.789930</td>\n",
       "      <td>0.000</td>\n",
       "      <td>303050.63158</td>\n",
       "      <td>0.0</td>\n",
       "      <td>2020-06-08</td>\n",
       "      <td>6.238926</td>\n",
       "      <td>5183900.0</td>\n",
       "      <td>59436.00000</td>\n",
       "      <td>56.617011</td>\n",
       "    </tr>\n",
       "    <tr>\n",
       "      <th>180</th>\n",
       "      <td>3132.570888</td>\n",
       "      <td>13390.429120</td>\n",
       "      <td>0.00</td>\n",
       "      <td>8437.384404</td>\n",
       "      <td>0.000000</td>\n",
       "      <td>4007.615998</td>\n",
       "      <td>10500.00000</td>\n",
       "      <td>0.000000</td>\n",
       "      <td>31266.66667</td>\n",
       "      <td>257600.0000</td>\n",
       "      <td>...</td>\n",
       "      <td>54.276386</td>\n",
       "      <td>4.835722</td>\n",
       "      <td>380.505</td>\n",
       "      <td>303050.63158</td>\n",
       "      <td>0.0</td>\n",
       "      <td>2020-06-15</td>\n",
       "      <td>6.280523</td>\n",
       "      <td>5042800.0</td>\n",
       "      <td>59436.00000</td>\n",
       "      <td>55.464290</td>\n",
       "    </tr>\n",
       "    <tr>\n",
       "      <th>181</th>\n",
       "      <td>2441.661249</td>\n",
       "      <td>23858.509340</td>\n",
       "      <td>0.00</td>\n",
       "      <td>7166.802929</td>\n",
       "      <td>0.000000</td>\n",
       "      <td>3086.460004</td>\n",
       "      <td>10500.00000</td>\n",
       "      <td>0.000000</td>\n",
       "      <td>31266.66667</td>\n",
       "      <td>257600.0000</td>\n",
       "      <td>...</td>\n",
       "      <td>53.773189</td>\n",
       "      <td>4.755775</td>\n",
       "      <td>4288.965</td>\n",
       "      <td>303050.63158</td>\n",
       "      <td>0.0</td>\n",
       "      <td>2020-06-22</td>\n",
       "      <td>6.264799</td>\n",
       "      <td>5500300.0</td>\n",
       "      <td>59436.00000</td>\n",
       "      <td>54.264990</td>\n",
       "    </tr>\n",
       "  </tbody>\n",
       "</table>\n",
       "<p>182 rows × 22 columns</p>\n",
       "</div>"
      ],
      "text/plain": [
       "     Bledina_total_TV_spends  promo_total_bledina_bledina_spends  \\\n",
       "0                2369.390000                         7238.542484   \n",
       "1                2470.600000                        20498.188230   \n",
       "2                2470.600000                        95419.787177   \n",
       "3                2470.600000                        67294.616930   \n",
       "4                2463.250000                        46532.729780   \n",
       "..                       ...                                 ...   \n",
       "177              2777.054278                        23682.980950   \n",
       "178              2347.751201                        15803.450730   \n",
       "179              3132.570888                         2392.235897   \n",
       "180              3132.570888                        13390.429120   \n",
       "181              2441.661249                        23858.509340   \n",
       "\n",
       "     Bledina_total_digital_catchupTV_spends  \\\n",
       "0                                      0.01   \n",
       "1                                      0.00   \n",
       "2                                      0.00   \n",
       "3                                      0.00   \n",
       "4                                      0.00   \n",
       "..                                      ...   \n",
       "177                                    0.00   \n",
       "178                                    0.00   \n",
       "179                                    0.00   \n",
       "180                                    0.00   \n",
       "181                                    0.00   \n",
       "\n",
       "     digital_keywordtargeting_sea_spends  \\\n",
       "0                           10557.612930   \n",
       "1                           10557.612930   \n",
       "2                           10388.530000   \n",
       "3                            9699.730000   \n",
       "4                            6182.010000   \n",
       "..                                   ...   \n",
       "177                         10557.612930   \n",
       "178                         10110.587240   \n",
       "179                          9618.621368   \n",
       "180                          8437.384404   \n",
       "181                          7166.802929   \n",
       "\n",
       "     Bledina_total_digital_programmatic_spends  \\\n",
       "0                                     0.060000   \n",
       "1                                     0.050000   \n",
       "2                                     0.090000   \n",
       "3                                     0.090000   \n",
       "4                                     0.010000   \n",
       "..                                         ...   \n",
       "177                                5501.142043   \n",
       "178                                   0.000000   \n",
       "179                                   0.000000   \n",
       "180                                   0.000000   \n",
       "181                                   0.000000   \n",
       "\n",
       "     Bledina_total_digital_social_spends  competitor_total_digital_spends  \\\n",
       "0                               0.010000                      10838.70968   \n",
       "1                           10034.990000                      10838.70968   \n",
       "2                            6955.560000                      10838.70968   \n",
       "3                            4630.010000                      10838.70968   \n",
       "4                            2911.880000                      21311.05991   \n",
       "..                                   ...                              ...   \n",
       "177                          8923.720012                      18741.93548   \n",
       "178                          1075.980003                      10500.00000   \n",
       "179                          3742.977999                      10500.00000   \n",
       "180                          4007.615998                      10500.00000   \n",
       "181                          3086.460004                      10500.00000   \n",
       "\n",
       "     competitor_ooh_spends  competitor_press_spends  competitor_tv_spends  \\\n",
       "0               225.806452              32741.93548           801161.2903   \n",
       "1               225.806452              32741.93548           801161.2903   \n",
       "2               225.806452              32741.93548           801161.2903   \n",
       "3               225.806452              32741.93548           801161.2903   \n",
       "4               421.658986              77390.55300           655688.9401   \n",
       "..                     ...                      ...                   ...   \n",
       "177               0.000000              52387.09677           454322.5806   \n",
       "178               0.000000              31266.66667           257600.0000   \n",
       "179               0.000000              31266.66667           257600.0000   \n",
       "180               0.000000              31266.66667           257600.0000   \n",
       "181               0.000000              31266.66667           257600.0000   \n",
       "\n",
       "     ...  competition_retail_competition_nonorganic_dvm  \\\n",
       "0    ...                                      49.752306   \n",
       "1    ...                                      46.862353   \n",
       "2    ...                                      50.758389   \n",
       "3    ...                                      51.561729   \n",
       "4    ...                                      51.450668   \n",
       "..   ...                                            ...   \n",
       "177  ...                                      54.708210   \n",
       "178  ...                                      54.708210   \n",
       "179  ...                                      54.708210   \n",
       "180  ...                                      54.276386   \n",
       "181  ...                                      53.773189   \n",
       "\n",
       "     competition_retail_competition_nonorganic_price  \\\n",
       "0                                           4.686509   \n",
       "1                                           4.686509   \n",
       "2                                           4.686509   \n",
       "3                                           4.686509   \n",
       "4                                           4.707299   \n",
       "..                                               ...   \n",
       "177                                         4.851504   \n",
       "178                                         4.822768   \n",
       "179                                         4.789930   \n",
       "180                                         4.835722   \n",
       "181                                         4.755775   \n",
       "\n",
       "     Bledina_total_digital_dataretailers_spends  Bledina_total_emails   \\\n",
       "0                                         0.000            21274.00000   \n",
       "1                                         0.000            57515.00000   \n",
       "2                                         0.000            24593.00000   \n",
       "3                                         0.000            18039.60000   \n",
       "4                                         0.000            23766.00000   \n",
       "..                                          ...                    ...   \n",
       "177                                       0.000            43550.00000   \n",
       "178                                       0.016           303050.63158   \n",
       "179                                       0.000           303050.63158   \n",
       "180                                     380.505           303050.63158   \n",
       "181                                    4288.965           303050.63158   \n",
       "\n",
       "     Bledina_total_press_spends  week_start  \\\n",
       "0                           0.0  2017-01-02   \n",
       "1                           0.0  2017-01-09   \n",
       "2                           0.0  2017-01-16   \n",
       "3                           0.0  2017-01-23   \n",
       "4                           0.0  2017-01-30   \n",
       "..                          ...         ...   \n",
       "177                         0.0  2020-05-25   \n",
       "178                         0.0  2020-06-01   \n",
       "179                         0.0  2020-06-08   \n",
       "180                         0.0  2020-06-15   \n",
       "181                         0.0  2020-06-22   \n",
       "\n",
       "     retail_total_bledina_product_price Net Sales of Bledina  \\\n",
       "0                              5.941145            6886165.0   \n",
       "1                              6.057041            5875465.0   \n",
       "2                              5.871734            5897865.0   \n",
       "3                              6.026822            5431465.0   \n",
       "4                              5.953575            5497440.0   \n",
       "..                                  ...                  ...   \n",
       "177                            6.142551            5164500.0   \n",
       "178                            6.168749            5617000.0   \n",
       "179                            6.238926            5183900.0   \n",
       "180                            6.280523            5042800.0   \n",
       "181                            6.264799            5500300.0   \n",
       "\n",
       "     macroeconomic_total_total_total_livebirths  \\\n",
       "0                                   60446.00000   \n",
       "1                                   60446.00000   \n",
       "2                                   60446.00000   \n",
       "3                                   60446.00000   \n",
       "4                                   56518.85714   \n",
       "..                                          ...   \n",
       "177                                 59900.00000   \n",
       "178                                 59436.00000   \n",
       "179                                 59436.00000   \n",
       "180                                 59436.00000   \n",
       "181                                 59436.00000   \n",
       "\n",
       "     retail_total_bledina_product_dvm  \n",
       "0                           67.142970  \n",
       "1                           63.112123  \n",
       "2                           64.281646  \n",
       "3                           63.696530  \n",
       "4                           64.752914  \n",
       "..                                ...  \n",
       "177                         57.179983  \n",
       "178                         58.390835  \n",
       "179                         56.617011  \n",
       "180                         55.464290  \n",
       "181                         54.264990  \n",
       "\n",
       "[182 rows x 22 columns]"
      ]
     },
     "execution_count": 3,
     "metadata": {},
     "output_type": "execute_result"
    }
   ],
   "source": [
    "df"
   ]
  },
  {
   "cell_type": "code",
   "execution_count": 4,
   "id": "159f537e",
   "metadata": {},
   "outputs": [],
   "source": [
    "x=df.drop(['week_start','Net Sales of Bledina','Bledina_total_emails ','app_website_visits','macroeconomic_total_total_total_cci'], axis=1)\n",
    "x=x+1\n",
    "y=df['Net Sales of Bledina']"
   ]
  },
  {
   "cell_type": "code",
   "execution_count": 5,
   "id": "80757081",
   "metadata": {},
   "outputs": [
    {
     "name": "stdout",
     "output_type": "stream",
     "text": [
      "                            OLS Regression Results                            \n",
      "==============================================================================\n",
      "Dep. Variable:                      y   R-squared:                       0.518\n",
      "Model:                            OLS   Adj. R-squared:                  0.468\n",
      "Method:                 Least Squares   F-statistic:                     10.36\n",
      "Date:                Wed, 19 Apr 2023   Prob (F-statistic):           1.95e-18\n",
      "Time:                        09:36:23   Log-Likelihood:                -2579.6\n",
      "No. Observations:                 182   AIC:                             5195.\n",
      "Df Residuals:                     164   BIC:                             5253.\n",
      "Df Model:                          17                                         \n",
      "Covariance Type:            nonrobust                                         \n",
      "==============================================================================\n",
      "                 coef    std err          t      P>|t|      [0.025      0.975]\n",
      "------------------------------------------------------------------------------\n",
      "Intercept   1.228e+07   3.86e+06      3.181      0.002    4.66e+06    1.99e+07\n",
      "x[0]          -1.9326      0.891     -2.170      0.031      -3.691      -0.174\n",
      "x[1]           1.9208      1.220      1.575      0.117      -0.488       4.329\n",
      "x[2]         -10.3244      8.404     -1.229      0.221     -26.919       6.270\n",
      "x[3]          17.6540     12.193      1.448      0.150      -6.421      41.729\n",
      "x[4]           1.4066      2.993      0.470      0.639      -4.503       7.316\n",
      "x[5]          -0.0735      6.129     -0.012      0.990     -12.175      12.028\n",
      "x[6]           0.0006      1.160      0.001      1.000      -2.289       2.291\n",
      "x[7]           3.3197      3.810      0.871      0.385      -4.203      10.842\n",
      "x[8]          -3.2054      1.043     -3.073      0.002      -5.265      -1.146\n",
      "x[9]          -0.0788      0.105     -0.749      0.455      -0.287       0.129\n",
      "x[10]       9.964e+04    1.5e+04      6.631      0.000       7e+04    1.29e+05\n",
      "x[11]      -1.712e+06    5.3e+05     -3.227      0.002   -2.76e+06   -6.64e+05\n",
      "x[12]         -1.4940      7.382     -0.202      0.840     -16.070      13.082\n",
      "x[13]         25.7348      9.725      2.646      0.009       6.533      44.936\n",
      "x[14]      -1.066e+06   3.69e+05     -2.887      0.004    -1.8e+06   -3.37e+05\n",
      "x[15]         35.8482     10.667      3.361      0.001      14.785      56.911\n",
      "x[16]       5.516e+04   1.25e+04      4.401      0.000    3.04e+04    7.99e+04\n",
      "==============================================================================\n",
      "Omnibus:                       49.988   Durbin-Watson:                   1.137\n",
      "Prob(Omnibus):                  0.000   Jarque-Bera (JB):              122.980\n",
      "Skew:                           1.183   Prob(JB):                     1.97e-27\n",
      "Kurtosis:                       6.259   Cond. No.                     6.45e+07\n",
      "==============================================================================\n",
      "\n",
      "Notes:\n",
      "[1] Standard Errors assume that the covariance matrix of the errors is correctly specified.\n",
      "[2] The condition number is large, 6.45e+07. This might indicate that there are\n",
      "strong multicollinearity or other numerical problems.\n"
     ]
    }
   ],
   "source": [
    "import pandas as pd\n",
    "import statsmodels.formula.api as smf\n",
    "\n",
    "y_log = np.log(y)\n",
    "x_log= np.log(x)\n",
    "# fit the log-log regression model\n",
    "model = smf.ols('y~x', data=df).fit()\n",
    "# print the model summary\n",
    "print(model.summary())"
   ]
  },
  {
   "cell_type": "code",
   "execution_count": 15,
   "id": "e253f817",
   "metadata": {},
   "outputs": [],
   "source": [
    "from sklearn.model_selection import train_test_split\n",
    "x_log_train,x_log_test,y_log_train,y_log_test=train_test_split(x_log,y_log,test_size=0.2, random_state=442)\n"
   ]
  },
  {
   "cell_type": "code",
   "execution_count": 16,
   "id": "25dfe350",
   "metadata": {},
   "outputs": [],
   "source": [
    "from sklearn.linear_model import LinearRegression"
   ]
  },
  {
   "cell_type": "code",
   "execution_count": 17,
   "id": "65932f5b",
   "metadata": {},
   "outputs": [
    {
     "data": {
      "text/html": [
       "<style>#sk-container-id-2 {color: black;background-color: white;}#sk-container-id-2 pre{padding: 0;}#sk-container-id-2 div.sk-toggleable {background-color: white;}#sk-container-id-2 label.sk-toggleable__label {cursor: pointer;display: block;width: 100%;margin-bottom: 0;padding: 0.3em;box-sizing: border-box;text-align: center;}#sk-container-id-2 label.sk-toggleable__label-arrow:before {content: \"▸\";float: left;margin-right: 0.25em;color: #696969;}#sk-container-id-2 label.sk-toggleable__label-arrow:hover:before {color: black;}#sk-container-id-2 div.sk-estimator:hover label.sk-toggleable__label-arrow:before {color: black;}#sk-container-id-2 div.sk-toggleable__content {max-height: 0;max-width: 0;overflow: hidden;text-align: left;background-color: #f0f8ff;}#sk-container-id-2 div.sk-toggleable__content pre {margin: 0.2em;color: black;border-radius: 0.25em;background-color: #f0f8ff;}#sk-container-id-2 input.sk-toggleable__control:checked~div.sk-toggleable__content {max-height: 200px;max-width: 100%;overflow: auto;}#sk-container-id-2 input.sk-toggleable__control:checked~label.sk-toggleable__label-arrow:before {content: \"▾\";}#sk-container-id-2 div.sk-estimator input.sk-toggleable__control:checked~label.sk-toggleable__label {background-color: #d4ebff;}#sk-container-id-2 div.sk-label input.sk-toggleable__control:checked~label.sk-toggleable__label {background-color: #d4ebff;}#sk-container-id-2 input.sk-hidden--visually {border: 0;clip: rect(1px 1px 1px 1px);clip: rect(1px, 1px, 1px, 1px);height: 1px;margin: -1px;overflow: hidden;padding: 0;position: absolute;width: 1px;}#sk-container-id-2 div.sk-estimator {font-family: monospace;background-color: #f0f8ff;border: 1px dotted black;border-radius: 0.25em;box-sizing: border-box;margin-bottom: 0.5em;}#sk-container-id-2 div.sk-estimator:hover {background-color: #d4ebff;}#sk-container-id-2 div.sk-parallel-item::after {content: \"\";width: 100%;border-bottom: 1px solid gray;flex-grow: 1;}#sk-container-id-2 div.sk-label:hover label.sk-toggleable__label {background-color: #d4ebff;}#sk-container-id-2 div.sk-serial::before {content: \"\";position: absolute;border-left: 1px solid gray;box-sizing: border-box;top: 0;bottom: 0;left: 50%;z-index: 0;}#sk-container-id-2 div.sk-serial {display: flex;flex-direction: column;align-items: center;background-color: white;padding-right: 0.2em;padding-left: 0.2em;position: relative;}#sk-container-id-2 div.sk-item {position: relative;z-index: 1;}#sk-container-id-2 div.sk-parallel {display: flex;align-items: stretch;justify-content: center;background-color: white;position: relative;}#sk-container-id-2 div.sk-item::before, #sk-container-id-2 div.sk-parallel-item::before {content: \"\";position: absolute;border-left: 1px solid gray;box-sizing: border-box;top: 0;bottom: 0;left: 50%;z-index: -1;}#sk-container-id-2 div.sk-parallel-item {display: flex;flex-direction: column;z-index: 1;position: relative;background-color: white;}#sk-container-id-2 div.sk-parallel-item:first-child::after {align-self: flex-end;width: 50%;}#sk-container-id-2 div.sk-parallel-item:last-child::after {align-self: flex-start;width: 50%;}#sk-container-id-2 div.sk-parallel-item:only-child::after {width: 0;}#sk-container-id-2 div.sk-dashed-wrapped {border: 1px dashed gray;margin: 0 0.4em 0.5em 0.4em;box-sizing: border-box;padding-bottom: 0.4em;background-color: white;}#sk-container-id-2 div.sk-label label {font-family: monospace;font-weight: bold;display: inline-block;line-height: 1.2em;}#sk-container-id-2 div.sk-label-container {text-align: center;}#sk-container-id-2 div.sk-container {/* jupyter's `normalize.less` sets `[hidden] { display: none; }` but bootstrap.min.css set `[hidden] { display: none !important; }` so we also need the `!important` here to be able to override the default hidden behavior on the sphinx rendered scikit-learn.org. See: https://github.com/scikit-learn/scikit-learn/issues/21755 */display: inline-block !important;position: relative;}#sk-container-id-2 div.sk-text-repr-fallback {display: none;}</style><div id=\"sk-container-id-2\" class=\"sk-top-container\"><div class=\"sk-text-repr-fallback\"><pre>LinearRegression()</pre><b>In a Jupyter environment, please rerun this cell to show the HTML representation or trust the notebook. <br />On GitHub, the HTML representation is unable to render, please try loading this page with nbviewer.org.</b></div><div class=\"sk-container\" hidden><div class=\"sk-item\"><div class=\"sk-estimator sk-toggleable\"><input class=\"sk-toggleable__control sk-hidden--visually\" id=\"sk-estimator-id-2\" type=\"checkbox\" checked><label for=\"sk-estimator-id-2\" class=\"sk-toggleable__label sk-toggleable__label-arrow\">LinearRegression</label><div class=\"sk-toggleable__content\"><pre>LinearRegression()</pre></div></div></div></div></div>"
      ],
      "text/plain": [
       "LinearRegression()"
      ]
     },
     "execution_count": 17,
     "metadata": {},
     "output_type": "execute_result"
    }
   ],
   "source": [
    "lr=LinearRegression()\n",
    "lr.fit(x_log_train,y_log_train)"
   ]
  },
  {
   "cell_type": "code",
   "execution_count": 18,
   "id": "54935a12",
   "metadata": {},
   "outputs": [],
   "source": [
    "y_log_pred_train = lr.predict(x_log_train)\n",
    "y_log_pred_test = lr.predict(x_log_test)"
   ]
  },
  {
   "cell_type": "code",
   "execution_count": 19,
   "id": "16d9a4d0",
   "metadata": {},
   "outputs": [],
   "source": [
    "from sklearn.metrics import r2_score, mean_squared_error, mean_absolute_percentage_error"
   ]
  },
  {
   "cell_type": "code",
   "execution_count": 20,
   "id": "42f5ca5b",
   "metadata": {},
   "outputs": [
    {
     "name": "stdout",
     "output_type": "stream",
     "text": [
      "0.5840854971648737\n",
      "0.0031564077341127016\n",
      "0.0026777117299004237\n"
     ]
    }
   ],
   "source": [
    "print(r2_score(y_log_train,y_log_pred_train))\n",
    "print(mean_squared_error(y_log_train,y_log_pred_train))\n",
    "print(mean_absolute_percentage_error(y_log_train,y_log_pred_train))"
   ]
  },
  {
   "cell_type": "code",
   "execution_count": 21,
   "id": "5cb4d5f7",
   "metadata": {},
   "outputs": [
    {
     "name": "stdout",
     "output_type": "stream",
     "text": [
      "0.2997623298591342\n",
      "0.0067098056317367065\n",
      "0.0036016250326307933\n"
     ]
    }
   ],
   "source": [
    "print(r2_score(y_log_test,y_log_pred_test))\n",
    "print(mean_squared_error(y_log_test,y_log_pred_test))\n",
    "print(mean_absolute_percentage_error(y_log_test,y_log_pred_test))"
   ]
  },
  {
   "cell_type": "code",
   "execution_count": 22,
   "id": "06f3d80f",
   "metadata": {},
   "outputs": [
    {
     "data": {
      "application/vnd.plotly.v1+json": {
       "config": {
        "plotlyServerURL": "https://plot.ly"
       },
       "data": [
        {
         "name": "Actual",
         "type": "scatter",
         "x": [
          0,
          1,
          2,
          3,
          4,
          5,
          6,
          7,
          8,
          9,
          10,
          11,
          12,
          13,
          14,
          15,
          16,
          17,
          18,
          19,
          20,
          21,
          22,
          23,
          24,
          25,
          26,
          27,
          28,
          29,
          30,
          31,
          32,
          33,
          34,
          35,
          36,
          37,
          38,
          39,
          40,
          41,
          42,
          43,
          44,
          45,
          46,
          47,
          48,
          49,
          50,
          51,
          52,
          53,
          54,
          55,
          56,
          57,
          58,
          59,
          60,
          61,
          62,
          63,
          64,
          65,
          66,
          67,
          68,
          69,
          70,
          71,
          72,
          73,
          74,
          75,
          76,
          77,
          78,
          79,
          80,
          81,
          82,
          83,
          84,
          85,
          86,
          87,
          88,
          89,
          90,
          91,
          92,
          93,
          94,
          95,
          96,
          97,
          98,
          99,
          100,
          101,
          102,
          103,
          104,
          105,
          106,
          107,
          108,
          109,
          110,
          111,
          112,
          113,
          114,
          115,
          116,
          117,
          118,
          119,
          120,
          121,
          122,
          123,
          124,
          125,
          126,
          127,
          128,
          129,
          130,
          131,
          132,
          133,
          134,
          135,
          136,
          137,
          138,
          139,
          140,
          141,
          142,
          143,
          144,
          145,
          146,
          147,
          148,
          149,
          150,
          151,
          152,
          153,
          154,
          155,
          156,
          157,
          158,
          159,
          160,
          161,
          162,
          163,
          164,
          165,
          166,
          167,
          168,
          169,
          170,
          171,
          172,
          173,
          174,
          175,
          176,
          177,
          178,
          179,
          180,
          181
         ],
         "y": [
          15.498444719773577,
          15.355821839966094,
          15.401309662360891,
          15.432152062118039,
          15.368208263215477,
          15.501147369326047,
          15.483791930416928,
          15.425816093904224,
          15.421833122738208,
          15.486259915121478,
          15.545642376468876,
          15.434544679151772,
          15.780579429574606,
          15.737100496507525,
          15.448464781661434,
          15.46330573396325,
          15.542726172707201,
          15.507994202937262,
          15.424016035816333,
          15.686897879594547,
          15.520810316188852,
          15.415016511376443,
          15.442081360645318,
          15.475334693521143,
          15.391891561911184,
          15.567267575227536,
          15.484575324021401,
          15.475246544718681,
          15.38680621549988,
          15.627219049001068,
          15.532752278784093,
          15.475415703691388,
          15.400347841077412,
          15.54130827151457,
          15.384456421440095,
          15.504895327324528,
          15.641180189942046
         ]
        },
        {
         "name": "Predicted",
         "type": "scatter",
         "x": [
          0,
          1,
          2,
          3,
          4,
          5,
          6,
          7,
          8,
          9,
          10,
          11,
          12,
          13,
          14,
          15,
          16,
          17,
          18,
          19,
          20,
          21,
          22,
          23,
          24,
          25,
          26,
          27,
          28,
          29,
          30,
          31,
          32,
          33,
          34,
          35,
          36,
          37,
          38,
          39,
          40,
          41,
          42,
          43,
          44,
          45,
          46,
          47,
          48,
          49,
          50,
          51,
          52,
          53,
          54,
          55,
          56,
          57,
          58,
          59,
          60,
          61,
          62,
          63,
          64,
          65,
          66,
          67,
          68,
          69,
          70,
          71,
          72,
          73,
          74,
          75,
          76,
          77,
          78,
          79,
          80,
          81,
          82,
          83,
          84,
          85,
          86,
          87,
          88,
          89,
          90,
          91,
          92,
          93,
          94,
          95,
          96,
          97,
          98,
          99,
          100,
          101,
          102,
          103,
          104,
          105,
          106,
          107,
          108,
          109,
          110,
          111,
          112,
          113,
          114,
          115,
          116,
          117,
          118,
          119,
          120,
          121,
          122,
          123,
          124,
          125,
          126,
          127,
          128,
          129,
          130,
          131,
          132,
          133,
          134,
          135,
          136,
          137,
          138,
          139,
          140,
          141,
          142,
          143,
          144,
          145,
          146,
          147,
          148,
          149,
          150,
          151,
          152,
          153,
          154,
          155,
          156,
          157,
          158,
          159,
          160,
          161,
          162,
          163,
          164,
          165,
          166,
          167,
          168,
          169,
          170,
          171,
          172,
          173,
          174,
          175,
          176,
          177,
          178,
          179,
          180,
          181
         ],
         "y": [
          15.489652439334503,
          15.408438636212326,
          15.369273733891736,
          15.480690070867531,
          15.385455783709126,
          15.49038503596061,
          15.5179661856106,
          15.521188972886097,
          15.366231079149106,
          15.496014059734172,
          15.511858630552366,
          15.47834074187232,
          15.538320462515362,
          15.534209270171885,
          15.428232211770549,
          15.501469717898544,
          15.607557335489197,
          15.37670035700946,
          15.396028238146497,
          15.445834191507647,
          15.523139808143215,
          15.403167405237292,
          15.480339865644636,
          15.484746373290248,
          15.434151228667275,
          15.438005538419882,
          15.525594815642185,
          15.432439887013429,
          15.40659897695955,
          15.57748359674457,
          15.515368445957304,
          15.45144503165989,
          15.41899099154385,
          15.515398269103446,
          15.449384766416355,
          15.477372359771202,
          15.543133347934145
         ]
        }
       ],
       "layout": {
        "template": {
         "data": {
          "bar": [
           {
            "error_x": {
             "color": "#2a3f5f"
            },
            "error_y": {
             "color": "#2a3f5f"
            },
            "marker": {
             "line": {
              "color": "#E5ECF6",
              "width": 0.5
             },
             "pattern": {
              "fillmode": "overlay",
              "size": 10,
              "solidity": 0.2
             }
            },
            "type": "bar"
           }
          ],
          "barpolar": [
           {
            "marker": {
             "line": {
              "color": "#E5ECF6",
              "width": 0.5
             },
             "pattern": {
              "fillmode": "overlay",
              "size": 10,
              "solidity": 0.2
             }
            },
            "type": "barpolar"
           }
          ],
          "carpet": [
           {
            "aaxis": {
             "endlinecolor": "#2a3f5f",
             "gridcolor": "white",
             "linecolor": "white",
             "minorgridcolor": "white",
             "startlinecolor": "#2a3f5f"
            },
            "baxis": {
             "endlinecolor": "#2a3f5f",
             "gridcolor": "white",
             "linecolor": "white",
             "minorgridcolor": "white",
             "startlinecolor": "#2a3f5f"
            },
            "type": "carpet"
           }
          ],
          "choropleth": [
           {
            "colorbar": {
             "outlinewidth": 0,
             "ticks": ""
            },
            "type": "choropleth"
           }
          ],
          "contour": [
           {
            "colorbar": {
             "outlinewidth": 0,
             "ticks": ""
            },
            "colorscale": [
             [
              0,
              "#0d0887"
             ],
             [
              0.1111111111111111,
              "#46039f"
             ],
             [
              0.2222222222222222,
              "#7201a8"
             ],
             [
              0.3333333333333333,
              "#9c179e"
             ],
             [
              0.4444444444444444,
              "#bd3786"
             ],
             [
              0.5555555555555556,
              "#d8576b"
             ],
             [
              0.6666666666666666,
              "#ed7953"
             ],
             [
              0.7777777777777778,
              "#fb9f3a"
             ],
             [
              0.8888888888888888,
              "#fdca26"
             ],
             [
              1,
              "#f0f921"
             ]
            ],
            "type": "contour"
           }
          ],
          "contourcarpet": [
           {
            "colorbar": {
             "outlinewidth": 0,
             "ticks": ""
            },
            "type": "contourcarpet"
           }
          ],
          "heatmap": [
           {
            "colorbar": {
             "outlinewidth": 0,
             "ticks": ""
            },
            "colorscale": [
             [
              0,
              "#0d0887"
             ],
             [
              0.1111111111111111,
              "#46039f"
             ],
             [
              0.2222222222222222,
              "#7201a8"
             ],
             [
              0.3333333333333333,
              "#9c179e"
             ],
             [
              0.4444444444444444,
              "#bd3786"
             ],
             [
              0.5555555555555556,
              "#d8576b"
             ],
             [
              0.6666666666666666,
              "#ed7953"
             ],
             [
              0.7777777777777778,
              "#fb9f3a"
             ],
             [
              0.8888888888888888,
              "#fdca26"
             ],
             [
              1,
              "#f0f921"
             ]
            ],
            "type": "heatmap"
           }
          ],
          "heatmapgl": [
           {
            "colorbar": {
             "outlinewidth": 0,
             "ticks": ""
            },
            "colorscale": [
             [
              0,
              "#0d0887"
             ],
             [
              0.1111111111111111,
              "#46039f"
             ],
             [
              0.2222222222222222,
              "#7201a8"
             ],
             [
              0.3333333333333333,
              "#9c179e"
             ],
             [
              0.4444444444444444,
              "#bd3786"
             ],
             [
              0.5555555555555556,
              "#d8576b"
             ],
             [
              0.6666666666666666,
              "#ed7953"
             ],
             [
              0.7777777777777778,
              "#fb9f3a"
             ],
             [
              0.8888888888888888,
              "#fdca26"
             ],
             [
              1,
              "#f0f921"
             ]
            ],
            "type": "heatmapgl"
           }
          ],
          "histogram": [
           {
            "marker": {
             "pattern": {
              "fillmode": "overlay",
              "size": 10,
              "solidity": 0.2
             }
            },
            "type": "histogram"
           }
          ],
          "histogram2d": [
           {
            "colorbar": {
             "outlinewidth": 0,
             "ticks": ""
            },
            "colorscale": [
             [
              0,
              "#0d0887"
             ],
             [
              0.1111111111111111,
              "#46039f"
             ],
             [
              0.2222222222222222,
              "#7201a8"
             ],
             [
              0.3333333333333333,
              "#9c179e"
             ],
             [
              0.4444444444444444,
              "#bd3786"
             ],
             [
              0.5555555555555556,
              "#d8576b"
             ],
             [
              0.6666666666666666,
              "#ed7953"
             ],
             [
              0.7777777777777778,
              "#fb9f3a"
             ],
             [
              0.8888888888888888,
              "#fdca26"
             ],
             [
              1,
              "#f0f921"
             ]
            ],
            "type": "histogram2d"
           }
          ],
          "histogram2dcontour": [
           {
            "colorbar": {
             "outlinewidth": 0,
             "ticks": ""
            },
            "colorscale": [
             [
              0,
              "#0d0887"
             ],
             [
              0.1111111111111111,
              "#46039f"
             ],
             [
              0.2222222222222222,
              "#7201a8"
             ],
             [
              0.3333333333333333,
              "#9c179e"
             ],
             [
              0.4444444444444444,
              "#bd3786"
             ],
             [
              0.5555555555555556,
              "#d8576b"
             ],
             [
              0.6666666666666666,
              "#ed7953"
             ],
             [
              0.7777777777777778,
              "#fb9f3a"
             ],
             [
              0.8888888888888888,
              "#fdca26"
             ],
             [
              1,
              "#f0f921"
             ]
            ],
            "type": "histogram2dcontour"
           }
          ],
          "mesh3d": [
           {
            "colorbar": {
             "outlinewidth": 0,
             "ticks": ""
            },
            "type": "mesh3d"
           }
          ],
          "parcoords": [
           {
            "line": {
             "colorbar": {
              "outlinewidth": 0,
              "ticks": ""
             }
            },
            "type": "parcoords"
           }
          ],
          "pie": [
           {
            "automargin": true,
            "type": "pie"
           }
          ],
          "scatter": [
           {
            "fillpattern": {
             "fillmode": "overlay",
             "size": 10,
             "solidity": 0.2
            },
            "type": "scatter"
           }
          ],
          "scatter3d": [
           {
            "line": {
             "colorbar": {
              "outlinewidth": 0,
              "ticks": ""
             }
            },
            "marker": {
             "colorbar": {
              "outlinewidth": 0,
              "ticks": ""
             }
            },
            "type": "scatter3d"
           }
          ],
          "scattercarpet": [
           {
            "marker": {
             "colorbar": {
              "outlinewidth": 0,
              "ticks": ""
             }
            },
            "type": "scattercarpet"
           }
          ],
          "scattergeo": [
           {
            "marker": {
             "colorbar": {
              "outlinewidth": 0,
              "ticks": ""
             }
            },
            "type": "scattergeo"
           }
          ],
          "scattergl": [
           {
            "marker": {
             "colorbar": {
              "outlinewidth": 0,
              "ticks": ""
             }
            },
            "type": "scattergl"
           }
          ],
          "scattermapbox": [
           {
            "marker": {
             "colorbar": {
              "outlinewidth": 0,
              "ticks": ""
             }
            },
            "type": "scattermapbox"
           }
          ],
          "scatterpolar": [
           {
            "marker": {
             "colorbar": {
              "outlinewidth": 0,
              "ticks": ""
             }
            },
            "type": "scatterpolar"
           }
          ],
          "scatterpolargl": [
           {
            "marker": {
             "colorbar": {
              "outlinewidth": 0,
              "ticks": ""
             }
            },
            "type": "scatterpolargl"
           }
          ],
          "scatterternary": [
           {
            "marker": {
             "colorbar": {
              "outlinewidth": 0,
              "ticks": ""
             }
            },
            "type": "scatterternary"
           }
          ],
          "surface": [
           {
            "colorbar": {
             "outlinewidth": 0,
             "ticks": ""
            },
            "colorscale": [
             [
              0,
              "#0d0887"
             ],
             [
              0.1111111111111111,
              "#46039f"
             ],
             [
              0.2222222222222222,
              "#7201a8"
             ],
             [
              0.3333333333333333,
              "#9c179e"
             ],
             [
              0.4444444444444444,
              "#bd3786"
             ],
             [
              0.5555555555555556,
              "#d8576b"
             ],
             [
              0.6666666666666666,
              "#ed7953"
             ],
             [
              0.7777777777777778,
              "#fb9f3a"
             ],
             [
              0.8888888888888888,
              "#fdca26"
             ],
             [
              1,
              "#f0f921"
             ]
            ],
            "type": "surface"
           }
          ],
          "table": [
           {
            "cells": {
             "fill": {
              "color": "#EBF0F8"
             },
             "line": {
              "color": "white"
             }
            },
            "header": {
             "fill": {
              "color": "#C8D4E3"
             },
             "line": {
              "color": "white"
             }
            },
            "type": "table"
           }
          ]
         },
         "layout": {
          "annotationdefaults": {
           "arrowcolor": "#2a3f5f",
           "arrowhead": 0,
           "arrowwidth": 1
          },
          "autotypenumbers": "strict",
          "coloraxis": {
           "colorbar": {
            "outlinewidth": 0,
            "ticks": ""
           }
          },
          "colorscale": {
           "diverging": [
            [
             0,
             "#8e0152"
            ],
            [
             0.1,
             "#c51b7d"
            ],
            [
             0.2,
             "#de77ae"
            ],
            [
             0.3,
             "#f1b6da"
            ],
            [
             0.4,
             "#fde0ef"
            ],
            [
             0.5,
             "#f7f7f7"
            ],
            [
             0.6,
             "#e6f5d0"
            ],
            [
             0.7,
             "#b8e186"
            ],
            [
             0.8,
             "#7fbc41"
            ],
            [
             0.9,
             "#4d9221"
            ],
            [
             1,
             "#276419"
            ]
           ],
           "sequential": [
            [
             0,
             "#0d0887"
            ],
            [
             0.1111111111111111,
             "#46039f"
            ],
            [
             0.2222222222222222,
             "#7201a8"
            ],
            [
             0.3333333333333333,
             "#9c179e"
            ],
            [
             0.4444444444444444,
             "#bd3786"
            ],
            [
             0.5555555555555556,
             "#d8576b"
            ],
            [
             0.6666666666666666,
             "#ed7953"
            ],
            [
             0.7777777777777778,
             "#fb9f3a"
            ],
            [
             0.8888888888888888,
             "#fdca26"
            ],
            [
             1,
             "#f0f921"
            ]
           ],
           "sequentialminus": [
            [
             0,
             "#0d0887"
            ],
            [
             0.1111111111111111,
             "#46039f"
            ],
            [
             0.2222222222222222,
             "#7201a8"
            ],
            [
             0.3333333333333333,
             "#9c179e"
            ],
            [
             0.4444444444444444,
             "#bd3786"
            ],
            [
             0.5555555555555556,
             "#d8576b"
            ],
            [
             0.6666666666666666,
             "#ed7953"
            ],
            [
             0.7777777777777778,
             "#fb9f3a"
            ],
            [
             0.8888888888888888,
             "#fdca26"
            ],
            [
             1,
             "#f0f921"
            ]
           ]
          },
          "colorway": [
           "#636efa",
           "#EF553B",
           "#00cc96",
           "#ab63fa",
           "#FFA15A",
           "#19d3f3",
           "#FF6692",
           "#B6E880",
           "#FF97FF",
           "#FECB52"
          ],
          "font": {
           "color": "#2a3f5f"
          },
          "geo": {
           "bgcolor": "white",
           "lakecolor": "white",
           "landcolor": "#E5ECF6",
           "showlakes": true,
           "showland": true,
           "subunitcolor": "white"
          },
          "hoverlabel": {
           "align": "left"
          },
          "hovermode": "closest",
          "mapbox": {
           "style": "light"
          },
          "paper_bgcolor": "white",
          "plot_bgcolor": "#E5ECF6",
          "polar": {
           "angularaxis": {
            "gridcolor": "white",
            "linecolor": "white",
            "ticks": ""
           },
           "bgcolor": "#E5ECF6",
           "radialaxis": {
            "gridcolor": "white",
            "linecolor": "white",
            "ticks": ""
           }
          },
          "scene": {
           "xaxis": {
            "backgroundcolor": "#E5ECF6",
            "gridcolor": "white",
            "gridwidth": 2,
            "linecolor": "white",
            "showbackground": true,
            "ticks": "",
            "zerolinecolor": "white"
           },
           "yaxis": {
            "backgroundcolor": "#E5ECF6",
            "gridcolor": "white",
            "gridwidth": 2,
            "linecolor": "white",
            "showbackground": true,
            "ticks": "",
            "zerolinecolor": "white"
           },
           "zaxis": {
            "backgroundcolor": "#E5ECF6",
            "gridcolor": "white",
            "gridwidth": 2,
            "linecolor": "white",
            "showbackground": true,
            "ticks": "",
            "zerolinecolor": "white"
           }
          },
          "shapedefaults": {
           "line": {
            "color": "#2a3f5f"
           }
          },
          "ternary": {
           "aaxis": {
            "gridcolor": "white",
            "linecolor": "white",
            "ticks": ""
           },
           "baxis": {
            "gridcolor": "white",
            "linecolor": "white",
            "ticks": ""
           },
           "bgcolor": "#E5ECF6",
           "caxis": {
            "gridcolor": "white",
            "linecolor": "white",
            "ticks": ""
           }
          },
          "title": {
           "x": 0.05
          },
          "xaxis": {
           "automargin": true,
           "gridcolor": "white",
           "linecolor": "white",
           "ticks": "",
           "title": {
            "standoff": 15
           },
           "zerolinecolor": "white",
           "zerolinewidth": 2
          },
          "yaxis": {
           "automargin": true,
           "gridcolor": "white",
           "linecolor": "white",
           "ticks": "",
           "title": {
            "standoff": 15
           },
           "zerolinecolor": "white",
           "zerolinewidth": 2
          }
         }
        },
        "title": {
         "text": "Actual vs Predicted Sales"
        },
        "xaxis": {
         "title": {
          "text": "Index"
         }
        },
        "yaxis": {
         "title": {
          "text": "Sales"
         }
        }
       }
      },
      "text/html": [
       "<div>                            <div id=\"80a42c02-cc54-4471-87af-4412a8a1b71e\" class=\"plotly-graph-div\" style=\"height:525px; width:100%;\"></div>            <script type=\"text/javascript\">                require([\"plotly\"], function(Plotly) {                    window.PLOTLYENV=window.PLOTLYENV || {};                                    if (document.getElementById(\"80a42c02-cc54-4471-87af-4412a8a1b71e\")) {                    Plotly.newPlot(                        \"80a42c02-cc54-4471-87af-4412a8a1b71e\",                        [{\"name\":\"Actual\",\"x\":[0,1,2,3,4,5,6,7,8,9,10,11,12,13,14,15,16,17,18,19,20,21,22,23,24,25,26,27,28,29,30,31,32,33,34,35,36,37,38,39,40,41,42,43,44,45,46,47,48,49,50,51,52,53,54,55,56,57,58,59,60,61,62,63,64,65,66,67,68,69,70,71,72,73,74,75,76,77,78,79,80,81,82,83,84,85,86,87,88,89,90,91,92,93,94,95,96,97,98,99,100,101,102,103,104,105,106,107,108,109,110,111,112,113,114,115,116,117,118,119,120,121,122,123,124,125,126,127,128,129,130,131,132,133,134,135,136,137,138,139,140,141,142,143,144,145,146,147,148,149,150,151,152,153,154,155,156,157,158,159,160,161,162,163,164,165,166,167,168,169,170,171,172,173,174,175,176,177,178,179,180,181],\"y\":[15.498444719773577,15.355821839966094,15.401309662360891,15.432152062118039,15.368208263215477,15.501147369326047,15.483791930416928,15.425816093904224,15.421833122738208,15.486259915121478,15.545642376468876,15.434544679151772,15.780579429574606,15.737100496507525,15.448464781661434,15.46330573396325,15.542726172707201,15.507994202937262,15.424016035816333,15.686897879594547,15.520810316188852,15.415016511376443,15.442081360645318,15.475334693521143,15.391891561911184,15.567267575227536,15.484575324021401,15.475246544718681,15.38680621549988,15.627219049001068,15.532752278784093,15.475415703691388,15.400347841077412,15.54130827151457,15.384456421440095,15.504895327324528,15.641180189942046],\"type\":\"scatter\"},{\"name\":\"Predicted\",\"x\":[0,1,2,3,4,5,6,7,8,9,10,11,12,13,14,15,16,17,18,19,20,21,22,23,24,25,26,27,28,29,30,31,32,33,34,35,36,37,38,39,40,41,42,43,44,45,46,47,48,49,50,51,52,53,54,55,56,57,58,59,60,61,62,63,64,65,66,67,68,69,70,71,72,73,74,75,76,77,78,79,80,81,82,83,84,85,86,87,88,89,90,91,92,93,94,95,96,97,98,99,100,101,102,103,104,105,106,107,108,109,110,111,112,113,114,115,116,117,118,119,120,121,122,123,124,125,126,127,128,129,130,131,132,133,134,135,136,137,138,139,140,141,142,143,144,145,146,147,148,149,150,151,152,153,154,155,156,157,158,159,160,161,162,163,164,165,166,167,168,169,170,171,172,173,174,175,176,177,178,179,180,181],\"y\":[15.489652439334503,15.408438636212326,15.369273733891736,15.480690070867531,15.385455783709126,15.49038503596061,15.5179661856106,15.521188972886097,15.366231079149106,15.496014059734172,15.511858630552366,15.47834074187232,15.538320462515362,15.534209270171885,15.428232211770549,15.501469717898544,15.607557335489197,15.37670035700946,15.396028238146497,15.445834191507647,15.523139808143215,15.403167405237292,15.480339865644636,15.484746373290248,15.434151228667275,15.438005538419882,15.525594815642185,15.432439887013429,15.40659897695955,15.57748359674457,15.515368445957304,15.45144503165989,15.41899099154385,15.515398269103446,15.449384766416355,15.477372359771202,15.543133347934145],\"type\":\"scatter\"}],                        {\"title\":{\"text\":\"Actual vs Predicted Sales\"},\"xaxis\":{\"title\":{\"text\":\"Index\"}},\"yaxis\":{\"title\":{\"text\":\"Sales\"}},\"template\":{\"data\":{\"histogram2dcontour\":[{\"type\":\"histogram2dcontour\",\"colorbar\":{\"outlinewidth\":0,\"ticks\":\"\"},\"colorscale\":[[0.0,\"#0d0887\"],[0.1111111111111111,\"#46039f\"],[0.2222222222222222,\"#7201a8\"],[0.3333333333333333,\"#9c179e\"],[0.4444444444444444,\"#bd3786\"],[0.5555555555555556,\"#d8576b\"],[0.6666666666666666,\"#ed7953\"],[0.7777777777777778,\"#fb9f3a\"],[0.8888888888888888,\"#fdca26\"],[1.0,\"#f0f921\"]]}],\"choropleth\":[{\"type\":\"choropleth\",\"colorbar\":{\"outlinewidth\":0,\"ticks\":\"\"}}],\"histogram2d\":[{\"type\":\"histogram2d\",\"colorbar\":{\"outlinewidth\":0,\"ticks\":\"\"},\"colorscale\":[[0.0,\"#0d0887\"],[0.1111111111111111,\"#46039f\"],[0.2222222222222222,\"#7201a8\"],[0.3333333333333333,\"#9c179e\"],[0.4444444444444444,\"#bd3786\"],[0.5555555555555556,\"#d8576b\"],[0.6666666666666666,\"#ed7953\"],[0.7777777777777778,\"#fb9f3a\"],[0.8888888888888888,\"#fdca26\"],[1.0,\"#f0f921\"]]}],\"heatmap\":[{\"type\":\"heatmap\",\"colorbar\":{\"outlinewidth\":0,\"ticks\":\"\"},\"colorscale\":[[0.0,\"#0d0887\"],[0.1111111111111111,\"#46039f\"],[0.2222222222222222,\"#7201a8\"],[0.3333333333333333,\"#9c179e\"],[0.4444444444444444,\"#bd3786\"],[0.5555555555555556,\"#d8576b\"],[0.6666666666666666,\"#ed7953\"],[0.7777777777777778,\"#fb9f3a\"],[0.8888888888888888,\"#fdca26\"],[1.0,\"#f0f921\"]]}],\"heatmapgl\":[{\"type\":\"heatmapgl\",\"colorbar\":{\"outlinewidth\":0,\"ticks\":\"\"},\"colorscale\":[[0.0,\"#0d0887\"],[0.1111111111111111,\"#46039f\"],[0.2222222222222222,\"#7201a8\"],[0.3333333333333333,\"#9c179e\"],[0.4444444444444444,\"#bd3786\"],[0.5555555555555556,\"#d8576b\"],[0.6666666666666666,\"#ed7953\"],[0.7777777777777778,\"#fb9f3a\"],[0.8888888888888888,\"#fdca26\"],[1.0,\"#f0f921\"]]}],\"contourcarpet\":[{\"type\":\"contourcarpet\",\"colorbar\":{\"outlinewidth\":0,\"ticks\":\"\"}}],\"contour\":[{\"type\":\"contour\",\"colorbar\":{\"outlinewidth\":0,\"ticks\":\"\"},\"colorscale\":[[0.0,\"#0d0887\"],[0.1111111111111111,\"#46039f\"],[0.2222222222222222,\"#7201a8\"],[0.3333333333333333,\"#9c179e\"],[0.4444444444444444,\"#bd3786\"],[0.5555555555555556,\"#d8576b\"],[0.6666666666666666,\"#ed7953\"],[0.7777777777777778,\"#fb9f3a\"],[0.8888888888888888,\"#fdca26\"],[1.0,\"#f0f921\"]]}],\"surface\":[{\"type\":\"surface\",\"colorbar\":{\"outlinewidth\":0,\"ticks\":\"\"},\"colorscale\":[[0.0,\"#0d0887\"],[0.1111111111111111,\"#46039f\"],[0.2222222222222222,\"#7201a8\"],[0.3333333333333333,\"#9c179e\"],[0.4444444444444444,\"#bd3786\"],[0.5555555555555556,\"#d8576b\"],[0.6666666666666666,\"#ed7953\"],[0.7777777777777778,\"#fb9f3a\"],[0.8888888888888888,\"#fdca26\"],[1.0,\"#f0f921\"]]}],\"mesh3d\":[{\"type\":\"mesh3d\",\"colorbar\":{\"outlinewidth\":0,\"ticks\":\"\"}}],\"scatter\":[{\"fillpattern\":{\"fillmode\":\"overlay\",\"size\":10,\"solidity\":0.2},\"type\":\"scatter\"}],\"parcoords\":[{\"type\":\"parcoords\",\"line\":{\"colorbar\":{\"outlinewidth\":0,\"ticks\":\"\"}}}],\"scatterpolargl\":[{\"type\":\"scatterpolargl\",\"marker\":{\"colorbar\":{\"outlinewidth\":0,\"ticks\":\"\"}}}],\"bar\":[{\"error_x\":{\"color\":\"#2a3f5f\"},\"error_y\":{\"color\":\"#2a3f5f\"},\"marker\":{\"line\":{\"color\":\"#E5ECF6\",\"width\":0.5},\"pattern\":{\"fillmode\":\"overlay\",\"size\":10,\"solidity\":0.2}},\"type\":\"bar\"}],\"scattergeo\":[{\"type\":\"scattergeo\",\"marker\":{\"colorbar\":{\"outlinewidth\":0,\"ticks\":\"\"}}}],\"scatterpolar\":[{\"type\":\"scatterpolar\",\"marker\":{\"colorbar\":{\"outlinewidth\":0,\"ticks\":\"\"}}}],\"histogram\":[{\"marker\":{\"pattern\":{\"fillmode\":\"overlay\",\"size\":10,\"solidity\":0.2}},\"type\":\"histogram\"}],\"scattergl\":[{\"type\":\"scattergl\",\"marker\":{\"colorbar\":{\"outlinewidth\":0,\"ticks\":\"\"}}}],\"scatter3d\":[{\"type\":\"scatter3d\",\"line\":{\"colorbar\":{\"outlinewidth\":0,\"ticks\":\"\"}},\"marker\":{\"colorbar\":{\"outlinewidth\":0,\"ticks\":\"\"}}}],\"scattermapbox\":[{\"type\":\"scattermapbox\",\"marker\":{\"colorbar\":{\"outlinewidth\":0,\"ticks\":\"\"}}}],\"scatterternary\":[{\"type\":\"scatterternary\",\"marker\":{\"colorbar\":{\"outlinewidth\":0,\"ticks\":\"\"}}}],\"scattercarpet\":[{\"type\":\"scattercarpet\",\"marker\":{\"colorbar\":{\"outlinewidth\":0,\"ticks\":\"\"}}}],\"carpet\":[{\"aaxis\":{\"endlinecolor\":\"#2a3f5f\",\"gridcolor\":\"white\",\"linecolor\":\"white\",\"minorgridcolor\":\"white\",\"startlinecolor\":\"#2a3f5f\"},\"baxis\":{\"endlinecolor\":\"#2a3f5f\",\"gridcolor\":\"white\",\"linecolor\":\"white\",\"minorgridcolor\":\"white\",\"startlinecolor\":\"#2a3f5f\"},\"type\":\"carpet\"}],\"table\":[{\"cells\":{\"fill\":{\"color\":\"#EBF0F8\"},\"line\":{\"color\":\"white\"}},\"header\":{\"fill\":{\"color\":\"#C8D4E3\"},\"line\":{\"color\":\"white\"}},\"type\":\"table\"}],\"barpolar\":[{\"marker\":{\"line\":{\"color\":\"#E5ECF6\",\"width\":0.5},\"pattern\":{\"fillmode\":\"overlay\",\"size\":10,\"solidity\":0.2}},\"type\":\"barpolar\"}],\"pie\":[{\"automargin\":true,\"type\":\"pie\"}]},\"layout\":{\"autotypenumbers\":\"strict\",\"colorway\":[\"#636efa\",\"#EF553B\",\"#00cc96\",\"#ab63fa\",\"#FFA15A\",\"#19d3f3\",\"#FF6692\",\"#B6E880\",\"#FF97FF\",\"#FECB52\"],\"font\":{\"color\":\"#2a3f5f\"},\"hovermode\":\"closest\",\"hoverlabel\":{\"align\":\"left\"},\"paper_bgcolor\":\"white\",\"plot_bgcolor\":\"#E5ECF6\",\"polar\":{\"bgcolor\":\"#E5ECF6\",\"angularaxis\":{\"gridcolor\":\"white\",\"linecolor\":\"white\",\"ticks\":\"\"},\"radialaxis\":{\"gridcolor\":\"white\",\"linecolor\":\"white\",\"ticks\":\"\"}},\"ternary\":{\"bgcolor\":\"#E5ECF6\",\"aaxis\":{\"gridcolor\":\"white\",\"linecolor\":\"white\",\"ticks\":\"\"},\"baxis\":{\"gridcolor\":\"white\",\"linecolor\":\"white\",\"ticks\":\"\"},\"caxis\":{\"gridcolor\":\"white\",\"linecolor\":\"white\",\"ticks\":\"\"}},\"coloraxis\":{\"colorbar\":{\"outlinewidth\":0,\"ticks\":\"\"}},\"colorscale\":{\"sequential\":[[0.0,\"#0d0887\"],[0.1111111111111111,\"#46039f\"],[0.2222222222222222,\"#7201a8\"],[0.3333333333333333,\"#9c179e\"],[0.4444444444444444,\"#bd3786\"],[0.5555555555555556,\"#d8576b\"],[0.6666666666666666,\"#ed7953\"],[0.7777777777777778,\"#fb9f3a\"],[0.8888888888888888,\"#fdca26\"],[1.0,\"#f0f921\"]],\"sequentialminus\":[[0.0,\"#0d0887\"],[0.1111111111111111,\"#46039f\"],[0.2222222222222222,\"#7201a8\"],[0.3333333333333333,\"#9c179e\"],[0.4444444444444444,\"#bd3786\"],[0.5555555555555556,\"#d8576b\"],[0.6666666666666666,\"#ed7953\"],[0.7777777777777778,\"#fb9f3a\"],[0.8888888888888888,\"#fdca26\"],[1.0,\"#f0f921\"]],\"diverging\":[[0,\"#8e0152\"],[0.1,\"#c51b7d\"],[0.2,\"#de77ae\"],[0.3,\"#f1b6da\"],[0.4,\"#fde0ef\"],[0.5,\"#f7f7f7\"],[0.6,\"#e6f5d0\"],[0.7,\"#b8e186\"],[0.8,\"#7fbc41\"],[0.9,\"#4d9221\"],[1,\"#276419\"]]},\"xaxis\":{\"gridcolor\":\"white\",\"linecolor\":\"white\",\"ticks\":\"\",\"title\":{\"standoff\":15},\"zerolinecolor\":\"white\",\"automargin\":true,\"zerolinewidth\":2},\"yaxis\":{\"gridcolor\":\"white\",\"linecolor\":\"white\",\"ticks\":\"\",\"title\":{\"standoff\":15},\"zerolinecolor\":\"white\",\"automargin\":true,\"zerolinewidth\":2},\"scene\":{\"xaxis\":{\"backgroundcolor\":\"#E5ECF6\",\"gridcolor\":\"white\",\"linecolor\":\"white\",\"showbackground\":true,\"ticks\":\"\",\"zerolinecolor\":\"white\",\"gridwidth\":2},\"yaxis\":{\"backgroundcolor\":\"#E5ECF6\",\"gridcolor\":\"white\",\"linecolor\":\"white\",\"showbackground\":true,\"ticks\":\"\",\"zerolinecolor\":\"white\",\"gridwidth\":2},\"zaxis\":{\"backgroundcolor\":\"#E5ECF6\",\"gridcolor\":\"white\",\"linecolor\":\"white\",\"showbackground\":true,\"ticks\":\"\",\"zerolinecolor\":\"white\",\"gridwidth\":2}},\"shapedefaults\":{\"line\":{\"color\":\"#2a3f5f\"}},\"annotationdefaults\":{\"arrowcolor\":\"#2a3f5f\",\"arrowhead\":0,\"arrowwidth\":1},\"geo\":{\"bgcolor\":\"white\",\"landcolor\":\"#E5ECF6\",\"subunitcolor\":\"white\",\"showland\":true,\"showlakes\":true,\"lakecolor\":\"white\"},\"title\":{\"x\":0.05},\"mapbox\":{\"style\":\"light\"}}}},                        {\"responsive\": true}                    ).then(function(){\n",
       "                            \n",
       "var gd = document.getElementById('80a42c02-cc54-4471-87af-4412a8a1b71e');\n",
       "var x = new MutationObserver(function (mutations, observer) {{\n",
       "        var display = window.getComputedStyle(gd).display;\n",
       "        if (!display || display === 'none') {{\n",
       "            console.log([gd, 'removed!']);\n",
       "            Plotly.purge(gd);\n",
       "            observer.disconnect();\n",
       "        }}\n",
       "}});\n",
       "\n",
       "// Listen for the removal of the full notebook cells\n",
       "var notebookContainer = gd.closest('#notebook-container');\n",
       "if (notebookContainer) {{\n",
       "    x.observe(notebookContainer, {childList: true});\n",
       "}}\n",
       "\n",
       "// Listen for the clearing of the current output cell\n",
       "var outputEl = gd.closest('.output');\n",
       "if (outputEl) {{\n",
       "    x.observe(outputEl, {childList: true});\n",
       "}}\n",
       "\n",
       "                        })                };                });            </script>        </div>"
      ]
     },
     "metadata": {},
     "output_type": "display_data"
    }
   ],
   "source": [
    "# plot actual vs predicted sales\n",
    "import plotly.graph_objs as go\n",
    "import plotly.express as px\n",
    "import matplotlib.pyplot as plt\n",
    "trace_actual = go.Scatter(x=df.index, y=y_log_test, name='Actual')\n",
    "trace_predicted = go.Scatter(x=df.index, y=y_log_pred_test, name='Predicted')\n",
    "data = [trace_actual, trace_predicted]\n",
    "layout = go.Layout(title='Actual vs Predicted Sales', xaxis=dict(title='Index'), yaxis=dict(title='Sales'))\n",
    "fig = go.Figure(data=data, layout=layout)\n",
    "fig.show()"
   ]
  },
  {
   "cell_type": "code",
   "execution_count": 14,
   "id": "a32e7b8d",
   "metadata": {},
   "outputs": [],
   "source": [
    "k = x.columns\n",
    "k=k.tolist()"
   ]
  },
  {
   "cell_type": "code",
   "execution_count": 15,
   "id": "37985246",
   "metadata": {},
   "outputs": [],
   "source": [
    "feat_dict = { 'feature_name':k , 'feature_coef': lr.coef_}\n",
    "feat_importance = pd.DataFrame(feat_dict)"
   ]
  },
  {
   "cell_type": "code",
   "execution_count": 16,
   "id": "1309a648",
   "metadata": {},
   "outputs": [
    {
     "data": {
      "text/plain": [
       "<AxesSubplot:>"
      ]
     },
     "execution_count": 16,
     "metadata": {},
     "output_type": "execute_result"
    },
    {
     "data": {
      "image/png": "[encoded data removed]",
      "text/plain": [
       "<Figure size 640x480 with 1 Axes>"
      ]
     },
     "metadata": {},
     "output_type": "display_data"
    }
   ],
   "source": [
    "feat_importance.plot.bar()"
   ]
  },
  {
   "cell_type": "code",
   "execution_count": 17,
   "id": "50af8a04",
   "metadata": {},
   "outputs": [
    {
     "data": {
      "text/html": [
       "<div>\n",
       "<style scoped>\n",
       "    .dataframe tbody tr th:only-of-type {\n",
       "        vertical-align: middle;\n",
       "    }\n",
       "\n",
       "    .dataframe tbody tr th {\n",
       "        vertical-align: top;\n",
       "    }\n",
       "\n",
       "    .dataframe thead th {\n",
       "        text-align: right;\n",
       "    }\n",
       "</style>\n",
       "<table border=\"1\" class=\"dataframe\">\n",
       "  <thead>\n",
       "    <tr style=\"text-align: right;\">\n",
       "      <th></th>\n",
       "      <th>feature_name</th>\n",
       "      <th>feature_coef</th>\n",
       "    </tr>\n",
       "  </thead>\n",
       "  <tbody>\n",
       "    <tr>\n",
       "      <th>0</th>\n",
       "      <td>Bledina_total_TV_spends</td>\n",
       "      <td>-0.002526</td>\n",
       "    </tr>\n",
       "    <tr>\n",
       "      <th>1</th>\n",
       "      <td>promo_total_bledina_bledina_spends</td>\n",
       "      <td>0.007406</td>\n",
       "    </tr>\n",
       "    <tr>\n",
       "      <th>2</th>\n",
       "      <td>Bledina_total_digital_catchupTV_spends</td>\n",
       "      <td>0.000031</td>\n",
       "    </tr>\n",
       "    <tr>\n",
       "      <th>3</th>\n",
       "      <td>digital_keywordtargeting_sea_spends</td>\n",
       "      <td>-0.001008</td>\n",
       "    </tr>\n",
       "    <tr>\n",
       "      <th>4</th>\n",
       "      <td>Bledina_total_digital_programmatic_spends</td>\n",
       "      <td>-0.001840</td>\n",
       "    </tr>\n",
       "    <tr>\n",
       "      <th>5</th>\n",
       "      <td>Bledina_total_digital_social_spends</td>\n",
       "      <td>-0.001464</td>\n",
       "    </tr>\n",
       "    <tr>\n",
       "      <th>6</th>\n",
       "      <td>competitor_total_digital_spends</td>\n",
       "      <td>-0.012447</td>\n",
       "    </tr>\n",
       "    <tr>\n",
       "      <th>7</th>\n",
       "      <td>competitor_ooh_spends</td>\n",
       "      <td>-0.000544</td>\n",
       "    </tr>\n",
       "    <tr>\n",
       "      <th>8</th>\n",
       "      <td>competitor_press_spends</td>\n",
       "      <td>-0.017215</td>\n",
       "    </tr>\n",
       "    <tr>\n",
       "      <th>9</th>\n",
       "      <td>competitor_tv_spends</td>\n",
       "      <td>0.001623</td>\n",
       "    </tr>\n",
       "    <tr>\n",
       "      <th>10</th>\n",
       "      <td>competition_retail_competition_nonorganic_dvm</td>\n",
       "      <td>0.832443</td>\n",
       "    </tr>\n",
       "    <tr>\n",
       "      <th>11</th>\n",
       "      <td>competition_retail_competition_nonorganic_price</td>\n",
       "      <td>-1.539311</td>\n",
       "    </tr>\n",
       "    <tr>\n",
       "      <th>12</th>\n",
       "      <td>Bledina_total_digital_dataretailers_spends</td>\n",
       "      <td>0.003047</td>\n",
       "    </tr>\n",
       "    <tr>\n",
       "      <th>13</th>\n",
       "      <td>Bledina_total_press_spends</td>\n",
       "      <td>0.004093</td>\n",
       "    </tr>\n",
       "    <tr>\n",
       "      <th>14</th>\n",
       "      <td>retail_total_bledina_product_price</td>\n",
       "      <td>-1.746041</td>\n",
       "    </tr>\n",
       "    <tr>\n",
       "      <th>15</th>\n",
       "      <td>macroeconomic_total_total_total_livebirths</td>\n",
       "      <td>0.293028</td>\n",
       "    </tr>\n",
       "    <tr>\n",
       "      <th>16</th>\n",
       "      <td>retail_total_bledina_product_dvm</td>\n",
       "      <td>0.538451</td>\n",
       "    </tr>\n",
       "  </tbody>\n",
       "</table>\n",
       "</div>"
      ],
      "text/plain": [
       "                                       feature_name  feature_coef\n",
       "0                           Bledina_total_TV_spends     -0.002526\n",
       "1                promo_total_bledina_bledina_spends      0.007406\n",
       "2            Bledina_total_digital_catchupTV_spends      0.000031\n",
       "3               digital_keywordtargeting_sea_spends     -0.001008\n",
       "4         Bledina_total_digital_programmatic_spends     -0.001840\n",
       "5               Bledina_total_digital_social_spends     -0.001464\n",
       "6                   competitor_total_digital_spends     -0.012447\n",
       "7                             competitor_ooh_spends     -0.000544\n",
       "8                           competitor_press_spends     -0.017215\n",
       "9                              competitor_tv_spends      0.001623\n",
       "10    competition_retail_competition_nonorganic_dvm      0.832443\n",
       "11  competition_retail_competition_nonorganic_price     -1.539311\n",
       "12       Bledina_total_digital_dataretailers_spends      0.003047\n",
       "13                       Bledina_total_press_spends      0.004093\n",
       "14               retail_total_bledina_product_price     -1.746041\n",
       "15       macroeconomic_total_total_total_livebirths      0.293028\n",
       "16                 retail_total_bledina_product_dvm      0.538451"
      ]
     },
     "execution_count": 17,
     "metadata": {},
     "output_type": "execute_result"
    }
   ],
   "source": [
    "feat_importance"
   ]
  },
  {
   "cell_type": "code",
   "execution_count": 18,
   "id": "79db16ca",
   "metadata": {},
   "outputs": [
    {
     "ename": "ModuleNotFoundError",
     "evalue": "No module named 'dataprep'",
     "output_type": "error",
     "traceback": [
      "\u001b[1;31m---------------------------------------------------------------------------\u001b[0m",
      "\u001b[1;31mModuleNotFoundError\u001b[0m                       Traceback (most recent call last)",
      "\u001b[1;32m~\\AppData\\Local\\Temp\\ipykernel_14716\\612245551.py\u001b[0m in \u001b[0;36m<module>\u001b[1;34m\u001b[0m\n\u001b[0;32m      1\u001b[0m \u001b[1;32mimport\u001b[0m \u001b[0mpandas\u001b[0m \u001b[1;32mas\u001b[0m \u001b[0mpd\u001b[0m\u001b[1;33m\u001b[0m\u001b[1;33m\u001b[0m\u001b[0m\n\u001b[1;32m----> 2\u001b[1;33m \u001b[1;32mfrom\u001b[0m \u001b[0mdataprep\u001b[0m\u001b[1;33m.\u001b[0m\u001b[0meda\u001b[0m \u001b[1;32mimport\u001b[0m \u001b[0mcreate_report\u001b[0m\u001b[1;33m\u001b[0m\u001b[1;33m\u001b[0m\u001b[0m\n\u001b[0m\u001b[0;32m      3\u001b[0m \u001b[0mdf\u001b[0m \u001b[1;33m=\u001b[0m \u001b[0mpd\u001b[0m\u001b[1;33m.\u001b[0m\u001b[0mread_excel\u001b[0m\u001b[1;33m(\u001b[0m\u001b[1;34m\"w-dataset.xlsx\"\u001b[0m\u001b[1;33m)\u001b[0m\u001b[1;33m\u001b[0m\u001b[1;33m\u001b[0m\u001b[0m\n\u001b[0;32m      4\u001b[0m \u001b[0mcreate_report\u001b[0m\u001b[1;33m(\u001b[0m\u001b[1;33m)\u001b[0m\u001b[1;33m\u001b[0m\u001b[1;33m\u001b[0m\u001b[0m\n",
      "\u001b[1;31mModuleNotFoundError\u001b[0m: No module named 'dataprep'"
     ]
    }
   ],
   "source": [
    "import pandas as pd\n",
    "from dataprep.eda import create_report\n",
    "df = pd.read_excel(\"w-dataset.xlsx\")\n",
    "create_report()"
   ]
  },
  {
   "cell_type": "code",
   "execution_count": null,
   "id": "5197eb8f",
   "metadata": {},
   "outputs": [],
   "source": []
  },
  {
   "cell_type": "code",
   "execution_count": null,
   "id": "01f492ea",
   "metadata": {},
   "outputs": [],
   "source": []
  }
 ],
 "metadata": {
  "kernelspec": {
   "display_name": "Python 3 (ipykernel)",
   "language": "python",
   "name": "python3"
  },
  "language_info": {
   "codemirror_mode": {
    "name": "ipython",
    "version": 3
   },
   "file_extension": ".py",
   "mimetype": "text/x-python",
   "name": "python",
   "nbconvert_exporter": "python",
   "pygments_lexer": "ipython3",
   "version": "3.9.13"
  }
 },
 "nbformat": 4,
 "nbformat_minor": 5
}
