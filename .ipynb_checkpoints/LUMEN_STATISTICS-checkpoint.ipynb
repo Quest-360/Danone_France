{
 "cells": [
  {
   "cell_type": "code",
   "execution_count": 1,
   "id": "09b51220",
   "metadata": {},
   "outputs": [],
   "source": [
    "import numpy as np\n",
    "marks = np.array([37,58,48,55,67,75,35,40,56,37,60,52,57,66,43,74,75,63,72,54])\n"
   ]
  },
  {
   "cell_type": "code",
   "execution_count": 2,
   "id": "88b18311",
   "metadata": {},
   "outputs": [
    {
     "data": {
      "text/plain": [
       "35"
      ]
     },
     "execution_count": 2,
     "metadata": {},
     "output_type": "execute_result"
    }
   ],
   "source": [
    "np.quantile(marks,0)"
   ]
  },
  {
   "cell_type": "code",
   "execution_count": 3,
   "id": "c0730603",
   "metadata": {},
   "outputs": [
    {
     "data": {
      "text/plain": [
       "35"
      ]
     },
     "execution_count": 3,
     "metadata": {},
     "output_type": "execute_result"
    }
   ],
   "source": [
    "np.min(marks)"
   ]
  },
  {
   "cell_type": "code",
   "execution_count": 4,
   "id": "8a45e8ad",
   "metadata": {},
   "outputs": [
    {
     "data": {
      "text/plain": [
       "75"
      ]
     },
     "execution_count": 4,
     "metadata": {},
     "output_type": "execute_result"
    }
   ],
   "source": [
    "np.max(marks)"
   ]
  },
  {
   "cell_type": "code",
   "execution_count": 5,
   "id": "841a6e33",
   "metadata": {},
   "outputs": [
    {
     "data": {
      "text/plain": [
       "40"
      ]
     },
     "execution_count": 5,
     "metadata": {},
     "output_type": "execute_result"
    }
   ],
   "source": [
    "np.max(marks)-np.min(marks)"
   ]
  },
  {
   "cell_type": "code",
   "execution_count": 6,
   "id": "ef9e100e",
   "metadata": {},
   "outputs": [
    {
     "data": {
      "text/plain": [
       "46.75"
      ]
     },
     "execution_count": 6,
     "metadata": {},
     "output_type": "execute_result"
    }
   ],
   "source": [
    "np.quantile(marks,0.25)"
   ]
  },
  {
   "cell_type": "code",
   "execution_count": 10,
   "id": "b98b3f2b",
   "metadata": {},
   "outputs": [
    {
     "data": {
      "text/plain": [
       "75"
      ]
     },
     "execution_count": 10,
     "metadata": {},
     "output_type": "execute_result"
    }
   ],
   "source": [
    "np.quantile(marks,1)"
   ]
  },
  {
   "cell_type": "code",
   "execution_count": 7,
   "id": "bfd97961",
   "metadata": {},
   "outputs": [
    {
     "data": {
      "text/plain": [
       "56.5"
      ]
     },
     "execution_count": 7,
     "metadata": {},
     "output_type": "execute_result"
    }
   ],
   "source": [
    "np.median(marks)"
   ]
  },
  {
   "cell_type": "code",
   "execution_count": 8,
   "id": "4a7ba789",
   "metadata": {},
   "outputs": [
    {
     "data": {
      "text/plain": [
       "56.2"
      ]
     },
     "execution_count": 8,
     "metadata": {},
     "output_type": "execute_result"
    }
   ],
   "source": [
    "np.mean(marks)"
   ]
  },
  {
   "cell_type": "code",
   "execution_count": 11,
   "id": "48ba5950",
   "metadata": {},
   "outputs": [
    {
     "data": {
      "text/plain": [
       "56.5"
      ]
     },
     "execution_count": 11,
     "metadata": {},
     "output_type": "execute_result"
    }
   ],
   "source": [
    "np.percentile(marks,50)"
   ]
  },
  {
   "cell_type": "code",
   "execution_count": 12,
   "id": "6fb26925",
   "metadata": {},
   "outputs": [
    {
     "data": {
      "text/plain": [
       "37.0"
      ]
     },
     "execution_count": 12,
     "metadata": {},
     "output_type": "execute_result"
    }
   ],
   "source": [
    "np.percentile(marks,10)"
   ]
  },
  {
   "cell_type": "code",
   "execution_count": 13,
   "id": "702d21fb",
   "metadata": {},
   "outputs": [
    {
     "data": {
      "text/plain": [
       "46.75"
      ]
     },
     "execution_count": 13,
     "metadata": {},
     "output_type": "execute_result"
    }
   ],
   "source": [
    "np.percentile(marks,25)"
   ]
  },
  {
   "cell_type": "code",
   "execution_count": 14,
   "id": "205d23e7",
   "metadata": {},
   "outputs": [
    {
     "data": {
      "text/plain": [
       "66.25"
      ]
     },
     "execution_count": 14,
     "metadata": {},
     "output_type": "execute_result"
    }
   ],
   "source": [
    "np.percentile(marks,75)"
   ]
  },
  {
   "cell_type": "code",
   "execution_count": 16,
   "id": "8bbfd2e5",
   "metadata": {},
   "outputs": [
    {
     "data": {
      "text/plain": [
       "19.5"
      ]
     },
     "execution_count": 16,
     "metadata": {},
     "output_type": "execute_result"
    }
   ],
   "source": [
    "iqr = np.percentile(marks,75)-np.percentile(marks,25)\n",
    "iqr"
   ]
  },
  {
   "cell_type": "code",
   "execution_count": 17,
   "id": "2dbd0d69",
   "metadata": {},
   "outputs": [
    {
     "data": {
      "text/plain": [
       "19.5"
      ]
     },
     "execution_count": 17,
     "metadata": {},
     "output_type": "execute_result"
    }
   ],
   "source": [
    "import scipy.stats as st\n",
    "st.iqr(marks)"
   ]
  },
  {
   "cell_type": "code",
   "execution_count": 18,
   "id": "cec6d464",
   "metadata": {},
   "outputs": [
    {
     "data": {
      "text/plain": [
       "<AxesSubplot:>"
      ]
     },
     "execution_count": 18,
     "metadata": {},
     "output_type": "execute_result"
    },
    {
     "data": {
      "image/png": "[encoded data removed]",
      "text/plain": [
       "<Figure size 640x480 with 1 Axes>"
      ]
     },
     "metadata": {},
     "output_type": "display_data"
    }
   ],
   "source": [
    "import seaborn as sns\n",
    "sns.boxplot(y=marks)"
   ]
  },
  {
   "cell_type": "code",
   "execution_count": 20,
   "id": "1835714c",
   "metadata": {},
   "outputs": [],
   "source": [
    "sal = np.array([55000,50000,44000,42000,42000,40000,38000,38000,36000,36000,36000,36000,36000,35000,35000,30000])"
   ]
  },
  {
   "cell_type": "code",
   "execution_count": 22,
   "id": "716c2e06",
   "metadata": {},
   "outputs": [
    {
     "data": {
      "text/plain": [
       "16"
      ]
     },
     "execution_count": 22,
     "metadata": {},
     "output_type": "execute_result"
    }
   ],
   "source": [
    "n=len(sal)\n",
    "n"
   ]
  },
  {
   "cell_type": "code",
   "execution_count": 23,
   "id": "8cfed529",
   "metadata": {},
   "outputs": [
    {
     "data": {
      "text/plain": [
       "30000"
      ]
     },
     "execution_count": 23,
     "metadata": {},
     "output_type": "execute_result"
    }
   ],
   "source": [
    "np.quantile(sal,0)"
   ]
  },
  {
   "cell_type": "code",
   "execution_count": 28,
   "id": "6f5ba73b",
   "metadata": {},
   "outputs": [
    {
     "data": {
      "text/plain": [
       "36000.0"
      ]
     },
     "execution_count": 28,
     "metadata": {},
     "output_type": "execute_result"
    }
   ],
   "source": [
    "np.quantile(sal,0.20)"
   ]
  },
  {
   "cell_type": "code",
   "execution_count": 26,
   "id": "fbbd1f83",
   "metadata": {},
   "outputs": [
    {
     "data": {
      "text/plain": [
       "30000"
      ]
     },
     "execution_count": 26,
     "metadata": {},
     "output_type": "execute_result"
    }
   ],
   "source": [
    "np.min(sal)"
   ]
  },
  {
   "cell_type": "code",
   "execution_count": 27,
   "id": "763c8dc6",
   "metadata": {},
   "outputs": [
    {
     "data": {
      "text/plain": [
       "55000"
      ]
     },
     "execution_count": 27,
     "metadata": {},
     "output_type": "execute_result"
    }
   ],
   "source": [
    "np.max(sal)"
   ]
  },
  {
   "cell_type": "code",
   "execution_count": 29,
   "id": "cd7c379c",
   "metadata": {},
   "outputs": [
    {
     "data": {
      "text/plain": [
       "56.5"
      ]
     },
     "execution_count": 29,
     "metadata": {},
     "output_type": "execute_result"
    }
   ],
   "source": [
    "np.median(marks)"
   ]
  },
  {
   "cell_type": "code",
   "execution_count": 30,
   "id": "9526f2be",
   "metadata": {},
   "outputs": [
    {
     "data": {
      "text/plain": [
       "56.2"
      ]
     },
     "execution_count": 30,
     "metadata": {},
     "output_type": "execute_result"
    }
   ],
   "source": [
    "np.mean(marks)"
   ]
  },
  {
   "cell_type": "code",
   "execution_count": 31,
   "id": "3d8d965d",
   "metadata": {},
   "outputs": [
    {
     "data": {
      "text/plain": [
       "56.2"
      ]
     },
     "execution_count": 31,
     "metadata": {},
     "output_type": "execute_result"
    }
   ],
   "source": [
    "marks.sum()/len(marks)"
   ]
  },
  {
   "cell_type": "code",
   "execution_count": 32,
   "id": "77b158be",
   "metadata": {},
   "outputs": [
    {
     "name": "stderr",
     "output_type": "stream",
     "text": [
      "C:\\Users\\AniruddhaMistry\\AppData\\Local\\Temp\\ipykernel_3620\\163168632.py:2: FutureWarning: Unlike other reduction functions (e.g. `skew`, `kurtosis`), the default behavior of `mode` typically preserves the axis it acts along. In SciPy 1.11.0, this behavior will change: the default value of `keepdims` will become False, the `axis` over which the statistic is taken will be eliminated, and the value None will no longer be accepted. Set `keepdims` to True or False to avoid this warning.\n",
      "  st.mode(marks)\n"
     ]
    },
    {
     "data": {
      "text/plain": [
       "ModeResult(mode=array([37]), count=array([2]))"
      ]
     },
     "execution_count": 32,
     "metadata": {},
     "output_type": "execute_result"
    }
   ],
   "source": [
    "import scipy.stats as st\n",
    "st.mode(marks)"
   ]
  },
  {
   "cell_type": "code",
   "execution_count": 33,
   "id": "f7a100f4",
   "metadata": {},
   "outputs": [
    {
     "name": "stderr",
     "output_type": "stream",
     "text": [
      "C:\\Users\\AniruddhaMistry\\AppData\\Local\\Temp\\ipykernel_3620\\1849966487.py:1: FutureWarning: Unlike other reduction functions (e.g. `skew`, `kurtosis`), the default behavior of `mode` typically preserves the axis it acts along. In SciPy 1.11.0, this behavior will change: the default value of `keepdims` will become False, the `axis` over which the statistic is taken will be eliminated, and the value None will no longer be accepted. Set `keepdims` to True or False to avoid this warning.\n",
      "  st.mode(sal)\n"
     ]
    },
    {
     "data": {
      "text/plain": [
       "ModeResult(mode=array([36000]), count=array([5]))"
      ]
     },
     "execution_count": 33,
     "metadata": {},
     "output_type": "execute_result"
    }
   ],
   "source": [
    "st.mode(sal)"
   ]
  },
  {
   "cell_type": "code",
   "execution_count": 34,
   "id": "1f5f1c67",
   "metadata": {},
   "outputs": [
    {
     "data": {
      "text/plain": [
       "36000"
      ]
     },
     "execution_count": 34,
     "metadata": {},
     "output_type": "execute_result"
    }
   ],
   "source": [
    "import statistics as s\n",
    "s.mode(sal)"
   ]
  },
  {
   "cell_type": "code",
   "execution_count": 35,
   "id": "6c4cebed",
   "metadata": {},
   "outputs": [
    {
     "data": {
      "text/plain": [
       "37"
      ]
     },
     "execution_count": 35,
     "metadata": {},
     "output_type": "execute_result"
    }
   ],
   "source": [
    "s.mode(marks)"
   ]
  },
  {
   "cell_type": "code",
   "execution_count": 36,
   "id": "335a4f5c",
   "metadata": {},
   "outputs": [
    {
     "data": {
      "text/plain": [
       "163.26"
      ]
     },
     "execution_count": 36,
     "metadata": {},
     "output_type": "execute_result"
    }
   ],
   "source": [
    "np.var(marks)"
   ]
  },
  {
   "cell_type": "code",
   "execution_count": 37,
   "id": "2fafc5b2",
   "metadata": {},
   "outputs": [
    {
     "data": {
      "text/plain": [
       "36214843.75"
      ]
     },
     "execution_count": 37,
     "metadata": {},
     "output_type": "execute_result"
    }
   ],
   "source": [
    "np.var(sal)"
   ]
  },
  {
   "cell_type": "code",
   "execution_count": 41,
   "id": "54d82125",
   "metadata": {},
   "outputs": [
    {
     "data": {
      "text/plain": [
       "163.26"
      ]
     },
     "execution_count": 41,
     "metadata": {},
     "output_type": "execute_result"
    }
   ],
   "source": [
    "((marks-np.mean(marks))**2).mean()"
   ]
  },
  {
   "cell_type": "code",
   "execution_count": 42,
   "id": "e8cec654",
   "metadata": {},
   "outputs": [
    {
     "data": {
      "text/plain": [
       "12.777323663428112"
      ]
     },
     "execution_count": 42,
     "metadata": {},
     "output_type": "execute_result"
    }
   ],
   "source": [
    "np.sqrt(((marks-np.mean(marks))**2).mean())"
   ]
  },
  {
   "cell_type": "code",
   "execution_count": 43,
   "id": "9b71d873",
   "metadata": {},
   "outputs": [
    {
     "data": {
      "text/plain": [
       "13.076696830622021"
      ]
     },
     "execution_count": 43,
     "metadata": {},
     "output_type": "execute_result"
    }
   ],
   "source": [
    "s.stdev(marks)"
   ]
  },
  {
   "cell_type": "code",
   "execution_count": 44,
   "id": "e5e7a210",
   "metadata": {},
   "outputs": [
    {
     "data": {
      "text/plain": [
       "6215.236600484329"
      ]
     },
     "execution_count": 44,
     "metadata": {},
     "output_type": "execute_result"
    }
   ],
   "source": [
    "s.stdev(sal)"
   ]
  },
  {
   "cell_type": "code",
   "execution_count": 45,
   "id": "85f2af02",
   "metadata": {},
   "outputs": [
    {
     "data": {
      "text/plain": [
       "0.22735451358413009"
      ]
     },
     "execution_count": 45,
     "metadata": {},
     "output_type": "execute_result"
    }
   ],
   "source": [
    "st.variation(marks)"
   ]
  },
  {
   "cell_type": "code",
   "execution_count": 46,
   "id": "9e822187",
   "metadata": {},
   "outputs": [
    {
     "data": {
      "text/plain": [
       "0.22735451358413009"
      ]
     },
     "execution_count": 46,
     "metadata": {},
     "output_type": "execute_result"
    }
   ],
   "source": [
    "np.std(marks)/np.mean(marks)"
   ]
  },
  {
   "cell_type": "code",
   "execution_count": 47,
   "id": "7a122444",
   "metadata": {},
   "outputs": [],
   "source": [
    "salaries=np.array([30000,35000,35000,36000,36000,36000,36000,36000,38000,40000,42000,42000,44000,50000,55000])"
   ]
  },
  {
   "cell_type": "code",
   "execution_count": 49,
   "id": "a0a8612d",
   "metadata": {},
   "outputs": [
    {
     "name": "stderr",
     "output_type": "stream",
     "text": [
      "C:\\Users\\AniruddhaMistry\\anaconda3\\lib\\site-packages\\seaborn\\distributions.py:2619: FutureWarning: `distplot` is a deprecated function and will be removed in a future version. Please adapt your code to use either `displot` (a figure-level function with similar flexibility) or `histplot` (an axes-level function for histograms).\n",
      "  warnings.warn(msg, FutureWarning)\n"
     ]
    },
    {
     "data": {
      "text/plain": [
       "<AxesSubplot:ylabel='Density'>"
      ]
     },
     "execution_count": 49,
     "metadata": {},
     "output_type": "execute_result"
    },
    {
     "data": {
      "image/png": "[encoded data removed]",
      "text/plain": [
       "<Figure size 640x480 with 1 Axes>"
      ]
     },
     "metadata": {},
     "output_type": "display_data"
    }
   ],
   "source": [
    "sns.distplot(salaries)"
   ]
  },
  {
   "cell_type": "code",
   "execution_count": 50,
   "id": "cdcae486",
   "metadata": {},
   "outputs": [
    {
     "data": {
      "text/plain": [
       "1.0936593153760839"
      ]
     },
     "execution_count": 50,
     "metadata": {},
     "output_type": "execute_result"
    }
   ],
   "source": [
    "st.skew(salaries)"
   ]
  },
  {
   "cell_type": "code",
   "execution_count": 51,
   "id": "c75847a0",
   "metadata": {},
   "outputs": [
    {
     "data": {
      "text/plain": [
       "-0.12999071825128183"
      ]
     },
     "execution_count": 51,
     "metadata": {},
     "output_type": "execute_result"
    }
   ],
   "source": [
    "st.skew(marks)"
   ]
  },
  {
   "cell_type": "code",
   "execution_count": 52,
   "id": "5fdf877d",
   "metadata": {},
   "outputs": [
    {
     "name": "stderr",
     "output_type": "stream",
     "text": [
      "C:\\Users\\AniruddhaMistry\\anaconda3\\lib\\site-packages\\seaborn\\distributions.py:2619: FutureWarning: `distplot` is a deprecated function and will be removed in a future version. Please adapt your code to use either `displot` (a figure-level function with similar flexibility) or `histplot` (an axes-level function for histograms).\n",
      "  warnings.warn(msg, FutureWarning)\n"
     ]
    },
    {
     "data": {
      "text/plain": [
       "<AxesSubplot:ylabel='Density'>"
      ]
     },
     "execution_count": 52,
     "metadata": {},
     "output_type": "execute_result"
    },
    {
     "data": {
      "image/png": "[encoded data removed]",
      "text/plain": [
       "<Figure size 640x480 with 1 Axes>"
      ]
     },
     "metadata": {},
     "output_type": "display_data"
    }
   ],
   "source": [
    "sns.distplot(marks)"
   ]
  },
  {
   "cell_type": "code",
   "execution_count": 53,
   "id": "8c67bbc6",
   "metadata": {},
   "outputs": [
    {
     "data": {
      "text/plain": [
       "-1.0948084469489099"
      ]
     },
     "execution_count": 53,
     "metadata": {},
     "output_type": "execute_result"
    }
   ],
   "source": [
    "st.kurtosis(marks)"
   ]
  },
  {
   "cell_type": "code",
   "execution_count": 54,
   "id": "07c6eaf2",
   "metadata": {},
   "outputs": [
    {
     "data": {
      "text/plain": [
       "0.6696009277092725"
      ]
     },
     "execution_count": 54,
     "metadata": {},
     "output_type": "execute_result"
    }
   ],
   "source": [
    "st.kurtosis(salaries)"
   ]
  },
  {
   "cell_type": "code",
   "execution_count": 57,
   "id": "78c120b1",
   "metadata": {},
   "outputs": [
    {
     "data": {
      "text/plain": [
       "count    6.000000\n",
       "mean     4.500000\n",
       "std      2.428992\n",
       "min      1.000000\n",
       "25%      3.250000\n",
       "50%      4.500000\n",
       "75%      5.750000\n",
       "max      8.000000\n",
       "dtype: float64"
      ]
     },
     "execution_count": 57,
     "metadata": {},
     "output_type": "execute_result"
    }
   ],
   "source": [
    "import pandas as pd\n",
    "s = pd.Series([1,8,3,4,5,6])\n",
    "s.describe()"
   ]
  },
  {
   "cell_type": "code",
   "execution_count": null,
   "id": "2b5a76b9",
   "metadata": {},
   "outputs": [],
   "source": []
  }
 ],
 "metadata": {
  "kernelspec": {
   "display_name": "Python 3 (ipykernel)",
   "language": "python",
   "name": "python3"
  },
  "language_info": {
   "codemirror_mode": {
    "name": "ipython",
    "version": 3
   },
   "file_extension": ".py",
   "mimetype": "text/x-python",
   "name": "python",
   "nbconvert_exporter": "python",
   "pygments_lexer": "ipython3",
   "version": "3.9.13"
  }
 },
 "nbformat": 4,
 "nbformat_minor": 5
}
