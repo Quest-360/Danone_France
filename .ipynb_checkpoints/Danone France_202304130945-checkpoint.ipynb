{
 "cells": [
  {
   "cell_type": "markdown",
   "id": "cf1709e5",
   "metadata": {},
   "source": [
    "## This is your Downloaded Blueprint Notebook ##"
   ]
  },
  {
   "cell_type": "code",
   "execution_count": null,
   "id": "295a3170",
   "metadata": {},
   "outputs": [],
   "source": [
    "# tags to identify this iteration when submitted\n",
    "# example: codex_tags = {'env': 'dev', 'region': 'USA', 'product_category': 'A'}\n",
    "\n",
    "codex_tags = {\n",
    "}\n",
    "\n",
    "from codex_widget_factory import utils\n",
    "results_json=[]\n",
    "\n"
   ]
  },
  {
   "cell_type": "markdown",
   "id": "43faafd1",
   "metadata": {},
   "source": [
    "### Ingestion HDFS"
   ]
  },
  {
   "cell_type": "code",
   "execution_count": null,
   "id": "c1a05ee0",
   "metadata": {},
   "outputs": [],
   "source": [
    "#put your output in this response param for connecting to downstream widgets\n",
    "response_0\n"
   ]
  },
  {
   "cell_type": "markdown",
   "id": "414d7e22",
   "metadata": {},
   "source": [
    "### Custom Placeholder"
   ]
  },
  {
   "cell_type": "code",
   "execution_count": null,
   "id": "3fbaa7a0",
   "metadata": {},
   "outputs": [],
   "source": [
    "#BEGIN CUSTOM CODE BELOW...\n",
    "\n",
    "#upstream params found\n",
    "# response_0\n",
    "\n",
    "#put your output in this response param for connecting to downstream widgets\n",
    "response_1\n",
    "\n",
    "#END CUSTOM CODE\n",
    "\n"
   ]
  },
  {
   "cell_type": "markdown",
   "id": "9080d826",
   "metadata": {},
   "source": [
    "### Model Evaluate  Budget Optimizer "
   ]
  },
  {
   "cell_type": "code",
   "execution_count": null,
   "id": "1999785d",
   "metadata": {},
   "outputs": [],
   "source": [
    "#upstream params found\n",
    "# response_1\n",
    "\n",
    "#put your output in this response param for connecting to downstream widgets\n",
    "response_2\n"
   ]
  },
  {
   "cell_type": "markdown",
   "id": "56081caf",
   "metadata": {},
   "source": [
    "### Templates MMX Collate Results"
   ]
  },
  {
   "cell_type": "code",
   "execution_count": null,
   "id": "f7a1fe94",
   "metadata": {},
   "outputs": [],
   "source": [
    "#BEGIN WIDGET CODE BELOW...\n",
    "\n",
    "from codex_widget_factory.utilities.mmx_collate_results import get_config as utilities_mmx_collate_results_get_config\n",
    "response_3 = utilities_mmx_collate_results_get_config(response_2)\n",
    "results_json.append({\n",
    "  'type': 'Templates',\n",
    "  'name': 'MMX Collate Results',\n",
    "  'component': 'get_config',\n",
    "  'visual_results': utils.get_response_visuals(response_3),\n",
    "  'metrics': False\n",
    "})\n",
    "utils.render_response(response_3)\n",
    "\n",
    "#END WIDGET CODE\n",
    "\n"
   ]
  },
  {
   "cell_type": "markdown",
   "id": "0f1516f0",
   "metadata": {},
   "source": [
    "### Publish Export"
   ]
  },
  {
   "cell_type": "code",
   "execution_count": null,
   "id": "1b67ab58",
   "metadata": {},
   "outputs": [],
   "source": [
    "#put your output in this response param for connecting to downstream widgets\n",
    "response_4\n"
   ]
  },
  {
   "cell_type": "markdown",
   "id": "14baf247",
   "metadata": {},
   "source": [
    "### Please save and checkpoint notebook before submitting params"
   ]
  },
  {
   "cell_type": "code",
   "execution_count": null,
   "id": "e29fee5b",
   "metadata": {},
   "outputs": [],
   "source": [
    "\n",
    "currentNotebook = 'Danone France_202304130945.ipynb'\n",
    "\n",
    "!jupyter nbconvert --to script {currentNotebook} \n",
    "\n"
   ]
  },
  {
   "cell_type": "code",
   "execution_count": null,
   "id": "e89215b0",
   "metadata": {},
   "outputs": [],
   "source": [
    "\n",
    "utils.submit_config_params(url='https://codex-api-stage.azurewebsites.net/codex-api/projects/upload-config-params/eY-Rm5RuCvnVNPtl1v3sUw', nb_name=currentNotebook, results=results_json, codex_tags=codex_tags, args={})"
   ]
  }
 ],
 "metadata": {
  "kernelspec": {
   "display_name": "Python 3 (ipykernel)",
   "language": "python",
   "name": "python3"
  },
  "language_info": {
   "codemirror_mode": {
    "name": "ipython",
    "version": 3
   },
   "file_extension": ".py",
   "mimetype": "text/x-python",
   "name": "python",
   "nbconvert_exporter": "python",
   "pygments_lexer": "ipython3",
   "version": "3.9.13"
  }
 },
 "nbformat": 4,
 "nbformat_minor": 5
}
